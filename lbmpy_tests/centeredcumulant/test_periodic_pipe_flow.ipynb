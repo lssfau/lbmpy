{
 "cells": [
  {
   "cell_type": "code",
   "execution_count": 1,
   "metadata": {},
   "outputs": [
    {
     "data": {
      "text/plain": [
       "<module 'pycuda' from '/home/markus/miniconda3/envs/pystencils/lib/python3.8/site-packages/pycuda/__init__.py'>"
      ]
     },
     "execution_count": 1,
     "metadata": {},
     "output_type": "execute_result"
    }
   ],
   "source": [
    "import pytest\n",
    "pytest.importorskip('pycuda')"
   ]
  },
  {
   "cell_type": "code",
   "execution_count": 2,
   "metadata": {},
   "outputs": [],
   "source": [
    "%load_ext autoreload\n",
    "%autoreload 2"
   ]
  },
  {
   "cell_type": "code",
   "execution_count": 3,
   "metadata": {},
   "outputs": [],
   "source": [
    "import sympy as sp\n",
    "import numpy as np\n",
    "from numpy.testing import assert_allclose\n",
    "\n",
    "from pystencils.session import *\n",
    "from lbmpy.session import *\n",
    "\n",
    "from lbmpy.stencils import get_stencil\n",
    "\n",
    "from lbmpy.methods.centeredcumulant import CenteredCumulantForceModel\n",
    "\n",
    "from lbmpy.macroscopic_value_kernels import macroscopic_values_getter, macroscopic_values_setter"
   ]
  },
  {
   "cell_type": "markdown",
   "metadata": {},
   "source": [
    "## Pipe Flow Scenario"
   ]
  },
  {
   "cell_type": "code",
   "execution_count": 4,
   "metadata": {},
   "outputs": [],
   "source": [
    "class PeriodicPipeFlow:\n",
    "    def __init__(self, method_params, optimization=dict()):\n",
    "\n",
    "        wall_boundary = NoSlip()\n",
    "\n",
    "        self.stencil = method_params.get('stencil', get_stencil(\"D2Q9\"))\n",
    "        self.streaming_pattern = method_params.get('streaming_pattern', 'pull')\n",
    "        self.target = optimization.get('target', 'cpu')\n",
    "\n",
    "        self.gpu = self.target in ['gpu', 'opencl']\n",
    "\n",
    "        #   Stencil\n",
    "        self.q = len(self.stencil)\n",
    "        self.dim = len(self.stencil[0])\n",
    "\n",
    "        #   Streaming\n",
    "        self.inplace = is_inplace(self.streaming_pattern)\n",
    "        self.timesteps = get_timesteps(self.streaming_pattern)\n",
    "        self.zeroth_timestep = self.timesteps[0]\n",
    "\n",
    "        #   Domain, Data Handling and PDF fields\n",
    "        self.pipe_length = 60\n",
    "        self.pipe_radius = 15\n",
    "        self.domain_size = (self.pipe_length, ) + (2 * self.pipe_radius,) * (self.dim - 1)\n",
    "        self.periodicity = (True, ) + (False, ) * (self.dim - 1)\n",
    "        force = (0.0001, ) + (0.0,) * (self.dim - 1)\n",
    "        self.force = method_params.get('force', force)\n",
    "\n",
    "        self.dh = create_data_handling(domain_size=self.domain_size,\n",
    "                                       periodicity=self.periodicity, default_target=self.target)\n",
    "\n",
    "        self.pdfs = self.dh.add_array('pdfs', self.q)\n",
    "        if not self.inplace:\n",
    "            self.pdfs_tmp = self.dh.add_array_like('pdfs_tmp', self.pdfs.name)\n",
    "\n",
    "        method_params['force'] = self.force\n",
    "        optimization['symbolic_field'] = self.pdfs\n",
    "\n",
    "        if not self.inplace:\n",
    "            optimization['symbolic_temporary_field'] = self.pdfs_tmp\n",
    "\n",
    "        self.lb_collision = create_lb_collision_rule(optimization=optimization, **method_params)\n",
    "        self.lb_method = self.lb_collision.method\n",
    "\n",
    "        self.lb_kernels = []\n",
    "        for t in self.timesteps:\n",
    "            self.lb_kernels.append(create_lb_function(collision_rule=self.lb_collision,\n",
    "                                                      optimization=optimization,\n",
    "                                                      timestep=t,\n",
    "                                                      **method_params))\n",
    "\n",
    "        #   Macroscopic Values\n",
    "        self.density = 1.0\n",
    "        self.density_field = self.dh.add_array('rho', 1)\n",
    "        u_x = 0.0\n",
    "        self.velocity = (u_x,) * self.dim\n",
    "        self.velocity_field = self.dh.add_array('u', self.dim)\n",
    "\n",
    "        setter = macroscopic_values_setter(\n",
    "            self.lb_method, self.density, self.velocity, self.pdfs,\n",
    "            streaming_pattern=self.streaming_pattern, previous_timestep=self.zeroth_timestep)\n",
    "        self.init_kernel = create_kernel(setter, ghost_layers=1, target=self.target).compile()\n",
    "\n",
    "        self.getter_kernels = []\n",
    "        for t in self.timesteps:\n",
    "            getter = macroscopic_values_getter(\n",
    "                self.lb_method, self.density_field, self.velocity_field, self.pdfs,\n",
    "                streaming_pattern=self.streaming_pattern, previous_timestep=t)\n",
    "            self.getter_kernels.append(create_kernel(getter, ghost_layers=1, target=self.target).compile())\n",
    "\n",
    "        #   Periodicity\n",
    "        self.periodicity_handler = LBMPeriodicityHandling(\n",
    "            self.stencil, self.dh, self.pdfs.name, streaming_pattern=self.streaming_pattern)\n",
    "\n",
    "        #   Boundary Handling\n",
    "        self.wall = wall_boundary\n",
    "        self.bh = LatticeBoltzmannBoundaryHandling(\n",
    "            self.lb_method, self.dh, self.pdfs.name,\n",
    "            streaming_pattern=self.streaming_pattern, target=self.target)\n",
    "\n",
    "        self.bh.set_boundary(boundary_obj=self.wall, mask_callback=self.mask_callback)\n",
    "\n",
    "        self.current_timestep = self.zeroth_timestep\n",
    "\n",
    "    def mask_callback(self, x, y, z=None):\n",
    "        y = y - self.pipe_radius\n",
    "        z = z - self.pipe_radius if z is not None else 0\n",
    "        return np.sqrt(y**2 + z**2) >= self.pipe_radius\n",
    "\n",
    "    def init(self):\n",
    "        self.current_timestep = self.zeroth_timestep\n",
    "        self.dh.run_kernel(self.init_kernel)\n",
    "\n",
    "    def step(self):\n",
    "        #   Order matters! First communicate, then boundaries, otherwise\n",
    "        #   periodicity handling overwrites reflected populations\n",
    "        # Periodicty\n",
    "        self.periodicity_handler(self.current_timestep)\n",
    "\n",
    "        # Boundaries\n",
    "        self.bh(prev_timestep=self.current_timestep)\n",
    "\n",
    "        # Here, the next time step begins\n",
    "        self.current_timestep = self.current_timestep.next()\n",
    "\n",
    "        # LBM Step\n",
    "        self.dh.run_kernel(self.lb_kernels[self.current_timestep.idx])\n",
    "\n",
    "        # Field Swaps\n",
    "        if not self.inplace:\n",
    "            self.dh.swap(self.pdfs.name, self.pdfs_tmp.name)\n",
    "\n",
    "        # Macroscopic Values\n",
    "        self.dh.run_kernel(self.getter_kernels[self.current_timestep.idx])\n",
    "\n",
    "    def run(self, iterations):\n",
    "        for _ in range(iterations):\n",
    "            self.step()\n",
    "\n",
    "    @property\n",
    "    def velocity_array(self):\n",
    "        if self.gpu:\n",
    "            self.dh.to_cpu(self.velocity_field.name)\n",
    "        return self.dh.gather_array(self.velocity_field.name)\n",
    "\n",
    "    def get_trimmed_velocity_array(self):\n",
    "        if self.gpu:\n",
    "            self.dh.to_cpu(self.velocity_field.name)\n",
    "        u = np.copy(self.dh.gather_array(self.velocity_field.name))\n",
    "        mask = self.bh.get_mask(None, self.wall)\n",
    "        for idx in np.ndindex(u.shape[:-1]):\n",
    "            if mask[idx] != 0:\n",
    "                u[idx] = np.full((self.dim, ), np.nan)\n",
    "        return u\n"
   ]
  },
  {
   "cell_type": "markdown",
   "metadata": {},
   "source": [
    "## General Setup"
   ]
  },
  {
   "cell_type": "code",
   "execution_count": 5,
   "metadata": {},
   "outputs": [],
   "source": [
    "stencil = get_stencil('D3Q19')\n",
    "dim = len(stencil[0])\n",
    "target = 'gpu'\n",
    "streaming_pattern = 'aa'\n",
    "\n",
    "optimization = { 'target': target }\n",
    "\n",
    "viscous_rr = 1.1\n",
    "force = (0.0001, ) + (0.0,) * (dim - 1)"
   ]
  },
  {
   "cell_type": "markdown",
   "metadata": {},
   "source": [
    "## 1. Reference: SRT Method"
   ]
  },
  {
   "cell_type": "code",
   "execution_count": 6,
   "metadata": {},
   "outputs": [],
   "source": [
    "srt_params = {\n",
    "    'stencil': stencil,\n",
    "    'method': 'srt',\n",
    "    'relaxation_rate': viscous_rr,\n",
    "    'force_model': 'simple',\n",
    "    'force' : force,\n",
    "    'streaming_pattern': streaming_pattern\n",
    "}\n",
    "\n",
    "srt_flow = PeriodicPipeFlow(srt_params, optimization)\n",
    "srt_flow.init()\n",
    "srt_flow.run(400)"
   ]
  },
  {
   "cell_type": "code",
   "execution_count": 7,
   "metadata": {},
   "outputs": [
    {
     "data": {
      "text/plain": [
       "<matplotlib.colorbar.Colorbar at 0x7f4f5b6cbcd0>"
      ]
     },
     "execution_count": 7,
     "metadata": {},
     "output_type": "execute_result"
    },
    {
     "data": {
      "image/png": "[encoded data removed]",
      "text/plain": [
       "<Figure size 1152x432 with 2 Axes>"
      ]
     },
     "metadata": {
      "needs_background": "light"
     },
     "output_type": "display_data"
    }
   ],
   "source": [
    "srt_u = srt_flow.get_trimmed_velocity_array()\n",
    "ps.plot.vector_field_magnitude(srt_u[30,:,:,:])\n",
    "ps.plot.colorbar()"
   ]
  },
  {
   "cell_type": "markdown",
   "metadata": {},
   "source": [
    "## 2. Centered Cumulant Method with Implicit Forcing\n",
    "\n",
    "The default setup of the centered cumulant method does not use a force model to compute the force contributions on all populations, but instead applies the force in cumulant space simply by setting the momentum relaxation rate $\\omega_1 = 2$. Due to the half-force shift of the equilibrium input velocity, the first central moments (which correspond to momentum relative to the moving frame of reference) are not zero, but equal to $-F/2$. The relaxation process causes the first central moments to simply change sign:\n",
    "$$\n",
    "    \\kappa_{100}^* = - \\kappa_{100}.\n",
    "$$\n",
    "Thus, $\\kappa_{100}^* = F_x /2$. In total, the entire acceleration given by the force is added onto the momentum."
   ]
  },
  {
   "cell_type": "code",
   "execution_count": 8,
   "metadata": {},
   "outputs": [],
   "source": [
    "cm_method_params = {\n",
    "    'method' : 'monomial_cumulant',\n",
    "    'stencil': stencil,\n",
    "    'relaxation_rate': viscous_rr,  #   Specify viscous relaxation rate only\n",
    "    'force_model': CenteredCumulantForceModel(force),\n",
    "    'force' : force,\n",
    "    'streaming_pattern' : streaming_pattern\n",
    "}\n",
    "\n",
    "optimization = { \n",
    "    'target': target,\n",
    "    'pre_simplification' : True\n",
    "}\n",
    "\n",
    "cm_impl_f_flow = PeriodicPipeFlow(cm_method_params, optimization)"
   ]
  },
  {
   "cell_type": "code",
   "execution_count": 9,
   "metadata": {},
   "outputs": [],
   "source": [
    "lb_method = cm_impl_f_flow.lb_method\n",
    "assert all(rr == 2 for rr in lb_method.relaxation_rates[1:4])\n",
    "assert all(rr == viscous_rr for rr in lb_method.relaxation_rates[4:9])"
   ]
  },
  {
   "cell_type": "code",
   "execution_count": 10,
   "metadata": {},
   "outputs": [],
   "source": [
    "cm_impl_f_flow.init()\n",
    "cm_impl_f_flow.run(400)"
   ]
  },
  {
   "cell_type": "code",
   "execution_count": 11,
   "metadata": {},
   "outputs": [
    {
     "data": {
      "text/plain": [
       "<matplotlib.colorbar.Colorbar at 0x7f4f5b34bf40>"
      ]
     },
     "execution_count": 11,
     "metadata": {},
     "output_type": "execute_result"
    },
    {
     "data": {
      "image/png": "[encoded data removed]",
      "text/plain": [
       "<Figure size 1152x432 with 2 Axes>"
      ]
     },
     "metadata": {
      "needs_background": "light"
     },
     "output_type": "display_data"
    }
   ],
   "source": [
    "cm_impl_f_u = cm_impl_f_flow.get_trimmed_velocity_array()\n",
    "ps.plot.vector_field_magnitude(cm_impl_f_u[30,:,:,:])\n",
    "ps.plot.colorbar()"
   ]
  },
  {
   "cell_type": "code",
   "execution_count": 12,
   "metadata": {},
   "outputs": [],
   "source": [
    "assert_allclose(cm_impl_f_u, srt_u, rtol=1, atol=1e-4)"
   ]
  },
  {
   "cell_type": "markdown",
   "metadata": {},
   "source": [
    "## 3. Centered Cumulant Method with Explicit Forcing"
   ]
  },
  {
   "cell_type": "code",
   "execution_count": 13,
   "metadata": {},
   "outputs": [],
   "source": [
    "from lbmpy.forcemodels import Simple\n",
    "\n",
    "cm_method_params_expl_force = {\n",
    "    'method' : 'cumulant',\n",
    "    'stencil': stencil,\n",
    "    'relaxation_rates': [viscous_rr],  #   Specify viscous relaxation rate only\n",
    "    'force_model': Simple(force),\n",
    "    'force' : force,\n",
    "    'streaming_pattern' : streaming_pattern\n",
    "}\n",
    "\n",
    "optimization = { \n",
    "    'target': target,\n",
    "    'pre_simplification' : True\n",
    "}\n",
    "\n",
    "cm_expl_f_flow = PeriodicPipeFlow(cm_method_params_expl_force, optimization)"
   ]
  },
  {
   "cell_type": "code",
   "execution_count": 14,
   "metadata": {},
   "outputs": [],
   "source": [
    "lb_method = cm_expl_f_flow.lb_method\n",
    "assert all(rr == 0 for rr in lb_method.relaxation_rates[1:4])\n",
    "assert all(rr == viscous_rr for rr in lb_method.relaxation_rates[4:9])"
   ]
  },
  {
   "cell_type": "code",
   "execution_count": 15,
   "metadata": {},
   "outputs": [],
   "source": [
    "cm_expl_f_flow.init()\n",
    "cm_expl_f_flow.run(400)"
   ]
  },
  {
   "cell_type": "code",
   "execution_count": 16,
   "metadata": {},
   "outputs": [
    {
     "data": {
      "text/plain": [
       "<matplotlib.colorbar.Colorbar at 0x7f4f58d67490>"
      ]
     },
     "execution_count": 16,
     "metadata": {},
     "output_type": "execute_result"
    },
    {
     "data": {
      "image/png": "[encoded data removed]",
      "text/plain": [
       "<Figure size 1152x432 with 2 Axes>"
      ]
     },
     "metadata": {
      "needs_background": "light"
     },
     "output_type": "display_data"
    }
   ],
   "source": [
    "cm_expl_f_u = cm_expl_f_flow.get_trimmed_velocity_array()\n",
    "ps.plot.vector_field_magnitude(cm_expl_f_u[30,:,:,:])\n",
    "ps.plot.colorbar()"
   ]
  },
  {
   "cell_type": "code",
   "execution_count": 17,
   "metadata": {},
   "outputs": [],
   "source": [
    "assert_allclose(cm_expl_f_u, srt_u, rtol=1, atol=1e-4)\n",
    "assert_allclose(cm_expl_f_u, cm_impl_f_u, rtol=1, atol=1e-4)"
   ]
  }
 ],
 "metadata": {
  "kernelspec": {
   "display_name": "Python 3",
   "language": "python",
   "name": "python3"
  },
  "language_info": {
   "codemirror_mode": {
    "name": "ipython",
    "version": 3
   },
   "file_extension": ".py",
   "mimetype": "text/x-python",
   "name": "python",
   "nbconvert_exporter": "python",
   "pygments_lexer": "ipython3",
   "version": "3.8.2"
  }
 },
 "nbformat": 4,
 "nbformat_minor": 2
}
