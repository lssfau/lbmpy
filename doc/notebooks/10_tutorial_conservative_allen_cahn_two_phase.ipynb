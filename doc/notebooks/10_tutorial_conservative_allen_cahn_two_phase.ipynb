{
 "cells": [
  {
   "cell_type": "markdown",
   "metadata": {},
   "source": [
    "# The conservative Allen-Cahn model for high Reynolds number, two phase flow with large-density and viscosity constrast"
   ]
  },
  {
   "cell_type": "code",
   "execution_count": 1,
   "metadata": {},
   "outputs": [],
   "source": [
    "from pystencils.session import *\n",
    "from lbmpy.session import *\n",
    "\n",
    "from pystencils.simp import sympy_cse\n",
    "from pystencils.boundaries import BoundaryHandling\n",
    "\n",
    "from lbmpy.phasefield_allen_cahn.contact_angle import ContactAngle\n",
    "from lbmpy.phasefield_allen_cahn.kernel_equations import *\n",
    "from lbmpy.phasefield_allen_cahn.parameter_calculation import calculate_parameters_rti, AllenCahnParameters\n",
    "from lbmpy.advanced_streaming import LBMPeriodicityHandling\n",
    "from lbmpy.boundaries import NoSlip, LatticeBoltzmannBoundaryHandling"
   ]
  },
  {
   "cell_type": "markdown",
   "metadata": {},
   "source": [
    "If `pycuda` is installed the simulation automatically runs on GPU"
   ]
  },
  {
   "cell_type": "code",
   "execution_count": 2,
   "metadata": {},
   "outputs": [
    {
     "name": "stdout",
     "output_type": "stream",
     "text": [
      "No pycuda installed\n"
     ]
    }
   ],
   "source": [
    "try:\n",
    "    import pycuda\n",
    "except ImportError:\n",
    "    pycuda = None\n",
    "    gpu = False\n",
    "    target = ps.Target.CPU\n",
    "    print('No pycuda installed')\n",
    "\n",
    "if pycuda:\n",
    "    gpu = True\n",
    "    target = ps.Target.GPU"
   ]
  },
  {
   "cell_type": "markdown",
   "metadata": {},
   "source": [
    "The conservative Allen-Cahn model (CACM) for two-phase flow is based on the work of Fakhari et al. (2017) [Improved locality of the phase-field lattice-Boltzmann model for immiscible fluids at high density ratios](http://dx.doi.org/10.1103/PhysRevE.96.053301). The model can be created for two-dimensional problems as well as three-dimensional problems, which have been described by Mitchell et al. (2018) [Development of a three-dimensional\n",
    "phase-field lattice Boltzmann method for the study of immiscible fluids at high density ratios](http://dx.doi.org/10.1103/PhysRevE.96.053301). Furthermore, cascaded lattice Boltzmann methods can be combined with the model which was described in [A cascaded phase-field lattice Boltzmann model for the simulation of incompressible, immiscible fluids with high density contrast](http://dx.doi.org/10.1016/j.camwa.2019.08.018)\n",
    "\n",
    "\n",
    "The CACM is suitable for simulating highly complex two phase flow problems with high-density ratios and high Reynolds numbers. In this tutorial, an overview is provided on how to derive the model with lbmpy. For this, the model is defined with two LBM populations. One for the interface tracking, which we call the phase-field LB step and one for recovering the hydrodynamic properties. The latter is called the hydrodynamic LB step."
   ]
  },
  {
   "cell_type": "markdown",
   "metadata": {},
   "source": [
    "## Geometry Setup\n",
    "\n",
    "First of all, the stencils for the phase-field LB step as well as the stencil for the hydrodynamic LB step are defined. According to the stencils, the simulation can be performed in either 2D- or 3D-space. For 2D simulations, only the D2Q9 stencil is supported. For 3D simulations, the D3Q15, D3Q19 and the D3Q27 stencil are supported. Note here that the cascaded LBM can not be derived for D3Q15 stencils."
   ]
  },
  {
   "cell_type": "code",
   "execution_count": 3,
   "metadata": {},
   "outputs": [],
   "source": [
    "stencil_phase = LBStencil(Stencil.D2Q9)\n",
    "stencil_hydro = LBStencil(Stencil.D2Q9)\n",
    "assert(len(stencil_phase[0]) == len(stencil_hydro[0]))\n",
    "\n",
    "dimensions = len(stencil_phase[0])"
   ]
  },
  {
   "cell_type": "markdown",
   "metadata": {},
   "source": [
    "Definition of the domain size"
   ]
  },
  {
   "cell_type": "code",
   "execution_count": 4,
   "metadata": {},
   "outputs": [],
   "source": [
    "# domain \n",
    "L0 = 256\n",
    "domain_size = (L0, 4 * L0)"
   ]
  },
  {
   "cell_type": "markdown",
   "metadata": {},
   "source": [
    "## Parameter definition\n",
    "\n",
    "The next step is to calculate all parameters which are needed for the simulation. In this example, a Rayleigh-Taylor instability test case is set up. The parameter calculation for this setup is already implemented in lbmpy and can be used with the dimensionless parameters which describe the problem."
   ]
  },
  {
   "cell_type": "code",
   "execution_count": 5,
   "metadata": {},
   "outputs": [],
   "source": [
    "# time step\n",
    "timesteps = 8000\n",
    "\n",
    "# reference time\n",
    "reference_time = 4000\n",
    "\n",
    "# calculate the parameters for the RTI\n",
    "parameters = calculate_parameters_rti(reference_length=L0,\n",
    "                                      reference_time=reference_time,\n",
    "                                      density_heavy=1.0,\n",
    "                                      capillary_number=0.44,\n",
    "                                      reynolds_number=3000,\n",
    "                                      atwood_number=0.998,\n",
    "                                      peclet_number=1000,\n",
    "                                      density_ratio=1000,\n",
    "                                      viscosity_ratio=100)"
   ]
  },
  {
   "cell_type": "markdown",
   "metadata": {},
   "source": [
    "This function returns a `AllenCahnParameters` class. It is struct like class holding all parameters for the conservative Allen Cahn model:"
   ]
  },
  {
   "cell_type": "code",
   "execution_count": 6,
   "metadata": {},
   "outputs": [
    {
     "data": {
      "text/html": [
       "\n",
       "        <table style=\"border:none; width: 100%\">\n",
       "            <tr style=\"border:none\">\n",
       "                <th style=\"border:none\" >Name</th>\n",
       "                <th style=\"border:none\" >SymPy Symbol </th>\n",
       "                <th style=\"border:none\" >Value</th>\n",
       "            </tr>\n",
       "            <tr style=\"border:none\">\n",
       "                            <td style=\"border:none\">Density heavy phase</td>\n",
       "                            <td style=\"border:none\">$\\rho_{H}$</td>\n",
       "                            <td style=\"border:none\">$1.0$</td>\n",
       "                         </tr>\n",
       "<tr style=\"border:none\">\n",
       "                            <td style=\"border:none\">Density light phase</td>\n",
       "                            <td style=\"border:none\">$\\rho_{L}$</td>\n",
       "                            <td style=\"border:none\">$0.001$</td>\n",
       "                         </tr>\n",
       "<tr style=\"border:none\">\n",
       "                            <td style=\"border:none\">Relaxation time heavy phase</td>\n",
       "                            <td style=\"border:none\">$\\tau_{H}$</td>\n",
       "                            <td style=\"border:none\">$0.0164004086170318$</td>\n",
       "                         </tr>\n",
       "<tr style=\"border:none\">\n",
       "                            <td style=\"border:none\">Relaxation time light phase</td>\n",
       "                            <td style=\"border:none\">$\\tau_{L}$</td>\n",
       "                            <td style=\"border:none\">$0.164004086170318$</td>\n",
       "                         </tr>\n",
       "<tr style=\"border:none\">\n",
       "                            <td style=\"border:none\">Relaxation rate Allen Cahn LB</td>\n",
       "                            <td style=\"border:none\">$\\omega_{\\phi}$</td>\n",
       "                            <td style=\"border:none\">$1.82082623441035$</td>\n",
       "                         </tr>\n",
       "<tr style=\"border:none\">\n",
       "                            <td style=\"border:none\">Gravitational acceleration</td>\n",
       "                            <td style=\"border:none\">$F_{g}$</td>\n",
       "                            <td style=\"border:none\">$-1.60320641282565 \\cdot 10^{-5}$</td>\n",
       "                         </tr>\n",
       "<tr style=\"border:none\">\n",
       "                            <td style=\"border:none\">Interface thickness</td>\n",
       "                            <td style=\"border:none\">$W$</td>\n",
       "                            <td style=\"border:none\">$5$</td>\n",
       "                         </tr>\n",
       "<tr style=\"border:none\">\n",
       "                            <td style=\"border:none\">Mobility</td>\n",
       "                            <td style=\"border:none\">$M_{m}$</td>\n",
       "                            <td style=\"border:none\">$0.0164004086170318$</td>\n",
       "                         </tr>\n",
       "<tr style=\"border:none\">\n",
       "                            <td style=\"border:none\">Surface tension</td>\n",
       "                            <td style=\"border:none\">$\\sigma$</td>\n",
       "                            <td style=\"border:none\">$0.000795967692961681$</td>\n",
       "                         </tr>\n",
       "\n",
       "        </table>\n",
       "        "
      ],
      "text/plain": [
       "<lbmpy.phasefield_allen_cahn.parameter_calculation.AllenCahnParameters at 0x1077532b0>"
      ]
     },
     "execution_count": 6,
     "metadata": {},
     "output_type": "execute_result"
    }
   ],
   "source": [
    "parameters"
   ]
  },
  {
   "cell_type": "markdown",
   "metadata": {},
   "source": [
    "## Fields\n",
    "\n",
    "As a next step all fields which are needed get defined. To do so, we create a `datahandling` object. More details about it can be found in the third tutorial of the [pystencils framework]( http://pycodegen.pages.walberla.net/pystencils/). This object holds all fields and manages the kernel runs."
   ]
  },
  {
   "cell_type": "code",
   "execution_count": 7,
   "metadata": {},
   "outputs": [],
   "source": [
    "# create a datahandling object\n",
    "dh = ps.create_data_handling((domain_size), periodicity=(True, False), parallel=False, default_target=target)\n",
    "\n",
    "# pdf fields. g is used for hydrodynamics and h for the interface tracking \n",
    "g = dh.add_array(\"g\", values_per_cell=len(stencil_hydro))\n",
    "dh.fill(\"g\", 0.0, ghost_layers=True)\n",
    "h = dh.add_array(\"h\",values_per_cell=len(stencil_phase))\n",
    "dh.fill(\"h\", 0.0, ghost_layers=True)\n",
    "\n",
    "g_tmp = dh.add_array(\"g_tmp\", values_per_cell=len(stencil_hydro))\n",
    "dh.fill(\"g_tmp\", 0.0, ghost_layers=True)\n",
    "h_tmp = dh.add_array(\"h_tmp\",values_per_cell=len(stencil_phase))\n",
    "dh.fill(\"h_tmp\", 0.0, ghost_layers=True)\n",
    "\n",
    "# velocity field\n",
    "u = dh.add_array(\"u\", values_per_cell=dh.dim)\n",
    "dh.fill(\"u\", 0.0, ghost_layers=True)\n",
    "\n",
    "# phase-field\n",
    "C = dh.add_array(\"C\")\n",
    "dh.fill(\"C\", 0.0, ghost_layers=True)\n",
    "C_tmp = dh.add_array(\"C_tmp\")\n",
    "dh.fill(\"C_tmp\", 0.0, ghost_layers=True)"
   ]
  },
  {
   "cell_type": "markdown",
   "metadata": {},
   "source": [
    "As a next step the relaxation time is stated in a symbolic form. It is calculated via interpolation."
   ]
  },
  {
   "cell_type": "code",
   "execution_count": 8,
   "metadata": {},
   "outputs": [],
   "source": [
    "rho_L = parameters.symbolic_density_light\n",
    "rho_H = parameters.symbolic_density_heavy\n",
    "density = rho_L + C.center * (rho_H - rho_L)\n",
    "\n",
    "body_force = [0, 0, 0]\n",
    "body_force[1] = parameters.symbolic_gravitational_acceleration * density"
   ]
  },
  {
   "cell_type": "markdown",
   "metadata": {},
   "source": [
    "## Definition of the lattice Boltzmann methods"
   ]
  },
  {
   "cell_type": "markdown",
   "metadata": {},
   "source": [
    "For both LB steps, a weighted orthogonal MRT (WMRT) method is used. It is also possible to change the method to a simpler SRT scheme or a more complicated CLBM scheme. The CLBM scheme can be obtained with `Method.CENTRAL_MOMENT`. Note here that the hydrodynamic LB step is formulated as an incompressible velocity-based LBM. Thus, the velocity terms can not be removed from the equilibrium in the central moment space."
   ]
  },
  {
   "cell_type": "code",
   "execution_count": 9,
   "metadata": {},
   "outputs": [
    {
     "data": {
      "text/html": [
       "\n",
       "        <table style=\"border:none; width: 100%\">\n",
       "            <tr style=\"border:none\">\n",
       "                <th style=\"border:none\" >Moment</th>\n",
       "                <th style=\"border:none\" >Eq. Value </th>\n",
       "                <th style=\"border:none\" >Relaxation Rate</th>\n",
       "            </tr>\n",
       "            <tr style=\"border:none\">\n",
       "                            <td style=\"border:none\">$1$</td>\n",
       "                            <td style=\"border:none\">$\\rho$</td>\n",
       "                            <td style=\"border:none\">$0$</td>\n",
       "                         </tr>\n",
       "<tr style=\"border:none\">\n",
       "                            <td style=\"border:none\">$x$</td>\n",
       "                            <td style=\"border:none\">$\\rho u_{0}$</td>\n",
       "                            <td style=\"border:none\">$\\omega_{\\phi}$</td>\n",
       "                         </tr>\n",
       "<tr style=\"border:none\">\n",
       "                            <td style=\"border:none\">$y$</td>\n",
       "                            <td style=\"border:none\">$\\rho u_{1}$</td>\n",
       "                            <td style=\"border:none\">$\\omega_{\\phi}$</td>\n",
       "                         </tr>\n",
       "<tr style=\"border:none\">\n",
       "                            <td style=\"border:none\">$x^{2} - y^{2}$</td>\n",
       "                            <td style=\"border:none\">$\\rho u_{0}^{2} - \\rho u_{1}^{2}$</td>\n",
       "                            <td style=\"border:none\">$1$</td>\n",
       "                         </tr>\n",
       "<tr style=\"border:none\">\n",
       "                            <td style=\"border:none\">$x y$</td>\n",
       "                            <td style=\"border:none\">$\\rho u_{0} u_{1}$</td>\n",
       "                            <td style=\"border:none\">$1$</td>\n",
       "                         </tr>\n",
       "<tr style=\"border:none\">\n",
       "                            <td style=\"border:none\">$3 x^{2} + 3 y^{2} - 2$</td>\n",
       "                            <td style=\"border:none\">$3 \\rho u_{0}^{2} + 3 \\rho u_{1}^{2}$</td>\n",
       "                            <td style=\"border:none\">$1$</td>\n",
       "                         </tr>\n",
       "<tr style=\"border:none\">\n",
       "                            <td style=\"border:none\">$3 x^{2} y - y$</td>\n",
       "                            <td style=\"border:none\">$0$</td>\n",
       "                            <td style=\"border:none\">$1$</td>\n",
       "                         </tr>\n",
       "<tr style=\"border:none\">\n",
       "                            <td style=\"border:none\">$3 x y^{2} - x$</td>\n",
       "                            <td style=\"border:none\">$0$</td>\n",
       "                            <td style=\"border:none\">$1$</td>\n",
       "                         </tr>\n",
       "<tr style=\"border:none\">\n",
       "                            <td style=\"border:none\">$9 x^{2} y^{2} - 3 x^{2} - 3 y^{2} + 1$</td>\n",
       "                            <td style=\"border:none\">$0$</td>\n",
       "                            <td style=\"border:none\">$1$</td>\n",
       "                         </tr>\n",
       "\n",
       "        </table>\n",
       "        "
      ],
      "text/plain": [
       "<lbmpy.methods.momentbased.momentbasedmethod.MomentBasedLbMethod at 0x15359b8e0>"
      ]
     },
     "execution_count": 9,
     "metadata": {},
     "output_type": "execute_result"
    }
   ],
   "source": [
    "w_c = parameters.symbolic_omega_phi\n",
    "\n",
    "config_phase = LBMConfig(stencil=stencil_phase, method=Method.MRT, compressible=True,\n",
    "                         force=sp.symbols(\"F_:2\"), velocity_input=u,\n",
    "                         weighted=True, relaxation_rates=[0, w_c, w_c, 1, 1, 1, 1, 1, 1],\n",
    "                         output={'density': C_tmp}, kernel_type='stream_pull_collide')\n",
    "\n",
    "method_phase = create_lb_method(lbm_config=config_phase)\n",
    "\n",
    "method_phase"
   ]
  },
  {
   "cell_type": "code",
   "execution_count": 10,
   "metadata": {},
   "outputs": [
    {
     "data": {
      "text/html": [
       "\n",
       "        <table style=\"border:none; width: 100%\">\n",
       "            <tr style=\"border:none\">\n",
       "                <th style=\"border:none\" >Moment</th>\n",
       "                <th style=\"border:none\" >Eq. Value </th>\n",
       "                <th style=\"border:none\" >Relaxation Rate</th>\n",
       "            </tr>\n",
       "            <tr style=\"border:none\">\n",
       "                            <td style=\"border:none\">$1$</td>\n",
       "                            <td style=\"border:none\">$\\rho$</td>\n",
       "                            <td style=\"border:none\">$0.0$</td>\n",
       "                         </tr>\n",
       "<tr style=\"border:none\">\n",
       "                            <td style=\"border:none\">$x$</td>\n",
       "                            <td style=\"border:none\">$u_{0}$</td>\n",
       "                            <td style=\"border:none\">$0.0$</td>\n",
       "                         </tr>\n",
       "<tr style=\"border:none\">\n",
       "                            <td style=\"border:none\">$y$</td>\n",
       "                            <td style=\"border:none\">$u_{1}$</td>\n",
       "                            <td style=\"border:none\">$0.0$</td>\n",
       "                         </tr>\n",
       "<tr style=\"border:none\">\n",
       "                            <td style=\"border:none\">$x^{2} - y^{2}$</td>\n",
       "                            <td style=\"border:none\">$u_{0}^{2} - u_{1}^{2}$</td>\n",
       "                            <td style=\"border:none\">$\\frac{2}{2 {C}_{(0,0)} \\left(\\tau_{H} - \\tau_{L}\\right) + 2 \\tau_{L} + 1}$</td>\n",
       "                         </tr>\n",
       "<tr style=\"border:none\">\n",
       "                            <td style=\"border:none\">$x y$</td>\n",
       "                            <td style=\"border:none\">$u_{0} u_{1}$</td>\n",
       "                            <td style=\"border:none\">$\\frac{2}{2 {C}_{(0,0)} \\left(\\tau_{H} - \\tau_{L}\\right) + 2 \\tau_{L} + 1}$</td>\n",
       "                         </tr>\n",
       "<tr style=\"border:none\">\n",
       "                            <td style=\"border:none\">$3 x^{2} + 3 y^{2} - 2$</td>\n",
       "                            <td style=\"border:none\">$3 u_{0}^{2} + 3 u_{1}^{2}$</td>\n",
       "                            <td style=\"border:none\">$1$</td>\n",
       "                         </tr>\n",
       "<tr style=\"border:none\">\n",
       "                            <td style=\"border:none\">$3 x^{2} y - y$</td>\n",
       "                            <td style=\"border:none\">$0$</td>\n",
       "                            <td style=\"border:none\">$1$</td>\n",
       "                         </tr>\n",
       "<tr style=\"border:none\">\n",
       "                            <td style=\"border:none\">$3 x y^{2} - x$</td>\n",
       "                            <td style=\"border:none\">$0$</td>\n",
       "                            <td style=\"border:none\">$1$</td>\n",
       "                         </tr>\n",
       "<tr style=\"border:none\">\n",
       "                            <td style=\"border:none\">$9 x^{2} y^{2} - 3 x^{2} - 3 y^{2} + 1$</td>\n",
       "                            <td style=\"border:none\">$0$</td>\n",
       "                            <td style=\"border:none\">$1$</td>\n",
       "                         </tr>\n",
       "\n",
       "        </table>\n",
       "        "
      ],
      "text/plain": [
       "<lbmpy.methods.momentbased.momentbasedmethod.MomentBasedLbMethod at 0x1537fa070>"
      ]
     },
     "execution_count": 10,
     "metadata": {},
     "output_type": "execute_result"
    }
   ],
   "source": [
    "omega = parameters.omega(C)\n",
    "config_hydro = LBMConfig(stencil=stencil_hydro, method=Method.MRT, compressible=False,\n",
    "                         weighted=True, relaxation_rates=[omega, 1, 1, 1],\n",
    "                         force=sp.symbols(\"F_:2\"),\n",
    "                         output={'velocity': u}, kernel_type='collide_stream_push')\n",
    "\n",
    "method_hydro = create_lb_method(lbm_config=config_hydro)\n",
    "\n",
    "method_hydro"
   ]
  },
  {
   "cell_type": "markdown",
   "metadata": {},
   "source": [
    "## Initialization"
   ]
  },
  {
   "cell_type": "markdown",
   "metadata": {},
   "source": [
    "The probability distribution functions (pdfs) are initialised with the equilibrium distribution for the LB methods."
   ]
  },
  {
   "cell_type": "code",
   "execution_count": 11,
   "metadata": {},
   "outputs": [],
   "source": [
    "h_updates = initializer_kernel_phase_field_lb(method_phase, C, u, h, parameters)\n",
    "g_updates = initializer_kernel_hydro_lb(method_hydro, 1, u, g)\n",
    "\n",
    "h_init = ps.create_kernel(h_updates, target=dh.default_target, cpu_openmp=True).compile()\n",
    "g_init = ps.create_kernel(g_updates, target=dh.default_target, cpu_openmp=True).compile()"
   ]
  },
  {
   "cell_type": "markdown",
   "metadata": {},
   "source": [
    "Following this, the phase field is initialised directly in python."
   ]
  },
  {
   "cell_type": "code",
   "execution_count": 12,
   "metadata": {},
   "outputs": [],
   "source": [
    "# initialize the domain\n",
    "def Initialize_distributions():\n",
    "    Nx = domain_size[0]\n",
    "    Ny = domain_size[1]\n",
    "    \n",
    "    for block in dh.iterate(ghost_layers=True, inner_ghost_layers=False):\n",
    "        x = np.zeros_like(block.midpoint_arrays[0])\n",
    "        x[:, :] = block.midpoint_arrays[0]\n",
    "        \n",
    "        y = np.zeros_like(block.midpoint_arrays[1])\n",
    "        y[:, :] = block.midpoint_arrays[1]\n",
    "\n",
    "        y -= 2 * L0\n",
    "        tmp = 0.1 * Nx * np.cos((2 * np.pi * x) / Nx)\n",
    "        init_values = 0.5 + 0.5 * np.tanh((y - tmp) / (parameters.interface_thickness / 2))\n",
    "        block[\"C\"][:, :] = init_values\n",
    "        block[\"C_tmp\"][:, :] = init_values\n",
    "        \n",
    "    if gpu:\n",
    "        dh.all_to_gpu()            \n",
    "    \n",
    "    dh.run_kernel(h_init, **parameters.symbolic_to_numeric_map)\n",
    "    dh.run_kernel(g_init)"
   ]
  },
  {
   "cell_type": "code",
   "execution_count": 13,
   "metadata": {},
   "outputs": [
    {
     "data": {
      "text/plain": [
       "<matplotlib.image.AxesImage at 0x1539477c0>"
      ]
     },
     "execution_count": 13,
     "metadata": {},
     "output_type": "execute_result"
    },
    {
     "data": {
      "image/png": "[encoded data removed]",
      "text/plain": [
       "<Figure size 1152x432 with 1 Axes>"
      ]
     },
     "metadata": {
      "needs_background": "light"
     },
     "output_type": "display_data"
    }
   ],
   "source": [
    "Initialize_distributions()\n",
    "plt.scalar_field(dh.gather_array(C.name))"
   ]
  },
  {
   "cell_type": "markdown",
   "metadata": {},
   "source": [
    "## Source Terms"
   ]
  },
  {
   "cell_type": "markdown",
   "metadata": {},
   "source": [
    "For the Allen-Cahn LB step, the Allen-Cahn equation needs to be applied as a source term. Here, a simple forcing model is used which is directly applied in the moment space: \n",
    "$$\n",
    "F_i^\\phi (\\boldsymbol{x}, t) = \\Delta t \\frac{\\left[1 - 4 \\left(\\phi - \\phi_0\\right)^2\\right]}{\\xi} w_i \\boldsymbol{c}_i \\cdot \\frac{\\nabla \\phi}{|{\\nabla \\phi}|},\n",
    "$$\n",
    "where $\\phi$ is the phase-field, $\\phi_0$ is the interface location, $\\Delta t$ it the timestep size $\\xi$ is the interface width, $\\boldsymbol{c}_i$ is the discrete direction from stencil_phase and $w_i$ are the weights. Furthermore, the equilibrium needs to be shifted:\n",
    "\n",
    "$$\n",
    "\\bar{h}^{eq}_\\alpha = h^{eq}_\\alpha - \\frac{1}{2} F^\\phi_\\alpha\n",
    "$$\n",
    "\n",
    "The hydrodynamic force is given by:\n",
    "$$\n",
    "F_i (\\boldsymbol{x}, t) = \\Delta t w_i \\frac{\\boldsymbol{c}_i \\boldsymbol{F}}{\\rho c_s^2},\n",
    "$$\n",
    "where $\\rho$ is the interpolated density and $\\boldsymbol{F}$ is the source term which consists of the pressure force \n",
    "$$\n",
    "\\boldsymbol{F}_p = -p^* c_s^2 \\nabla \\rho,\n",
    "$$\n",
    "the surface tension force:\n",
    "$$\n",
    "\\boldsymbol{F}_s = \\mu_\\phi \\nabla \\phi\n",
    "$$\n",
    "and the viscous force term:\n",
    "$$\n",
    "F_{\\mu, i}^{\\mathrm{MRT}} = - \\frac{\\nu}{c_s^2 \\Delta t} \\left[\\sum_{\\beta} c_{\\beta i} c_{\\beta j} \\times \\sum_{\\alpha} \\Omega_{\\beta \\alpha}(g_\\alpha - g_\\alpha^{\\mathrm{eq}})\\right] \\frac{\\partial \\rho}{\\partial x_j}.\n",
    "$$\n",
    "\n",
    "In the above equations $p^*$ is the normalised pressure which can be obtained from the zeroth order moment of the hydrodynamic distribution function $g$. The lattice speed of sound is given with $c_s$ and the chemical potential is $\\mu_\\phi$. Furthermore, the viscosity is $\\nu$ and $\\Omega$ is the moment-based collision operator. Note here that the hydrodynamic equilibrium is also adjusted as shown above for the phase-field distribution functions.\n",
    "\n",
    "\n",
    "For CLBM methods the forcing is applied directly in the central moment space. This is done with the `CentralMomentMultiphaseForceModel`. Furthermore, the GUO force model is applied here to be consistent with [A cascaded phase-field lattice Boltzmann model for the simulation of incompressible, immiscible fluids with high density contrast](http://dx.doi.org/10.1016/j.camwa.2019.08.018). Here we refer to equation D.7 which can be derived for 3D stencils automatically with lbmpy."
   ]
  },
  {
   "cell_type": "code",
   "execution_count": 14,
   "metadata": {},
   "outputs": [],
   "source": [
    "force_h = interface_tracking_force(C, stencil_phase, parameters)\n",
    "hydro_force = hydrodynamic_force(g, C, method_hydro, parameters, body_force)"
   ]
  },
  {
   "cell_type": "markdown",
   "metadata": {},
   "source": [
    "## Definition of the LB update rules"
   ]
  },
  {
   "cell_type": "markdown",
   "metadata": {},
   "source": [
    "The update rule for the phase-field LB step is defined as:\n",
    "\n",
    "$$\n",
    "h_i (\\boldsymbol{x} + \\boldsymbol{c}_i \\Delta t, t + \\Delta t) = h_i(\\boldsymbol{x}, t) + \\Omega_{ij}^h(\\bar{h_j}^{eq} - h_j)|_{(\\boldsymbol{x}, t)} + F_i^\\phi(\\boldsymbol{x}, t).\n",
    "$$\n",
    "In our framework the pull scheme is applied as streaming step. Furthermore, the update of the phase-field is directly integrated into the kernel. As a result of this, a second temporary phase-field is needed."
   ]
  },
  {
   "cell_type": "code",
   "execution_count": 15,
   "metadata": {},
   "outputs": [],
   "source": [
    "lbm_optimisation = LBMOptimisation(symbolic_field=h, symbolic_temporary_field=h_tmp)\n",
    "allen_cahn_update_rule = create_lb_update_rule(lbm_config=config_phase,\n",
    "                                               lbm_optimisation=lbm_optimisation)\n",
    "\n",
    "allen_cahn_update_rule = add_interface_tracking_force(allen_cahn_update_rule, force_h)\n",
    "\n",
    "ast_kernel = ps.create_kernel(allen_cahn_update_rule, target=dh.default_target, cpu_openmp=True)\n",
    "kernel_allen_cahn_lb = ast_kernel.compile()"
   ]
  },
  {
   "cell_type": "markdown",
   "metadata": {},
   "source": [
    "The update rule for the hydrodynmaic LB step is defined as:\n",
    "\n",
    "$$\n",
    "g_i (\\boldsymbol{x} + \\boldsymbol{c}_i \\Delta t, t + \\Delta t) = g_i(\\boldsymbol{x}, t) + \\Omega_{ij}^g(\\bar{g_j}^{eq} - g_j)|_{(\\boldsymbol{x}, t)} + F_i(\\boldsymbol{x}, t).\n",
    "$$\n",
    "\n",
    "Here, the push scheme is applied which is easier due to the data access required for the viscous force term. Furthermore, the velocity update is directly done in the kernel."
   ]
  },
  {
   "cell_type": "code",
   "execution_count": 16,
   "metadata": {
    "scrolled": false
   },
   "outputs": [],
   "source": [
    "force_Assignments = hydrodynamic_force_assignments(g, u, C, method_hydro, parameters, body_force)\n",
    "\n",
    "lbm_optimisation = LBMOptimisation(symbolic_field=g, symbolic_temporary_field=g_tmp)\n",
    "hydro_lb_update_rule = create_lb_update_rule(lbm_config=config_hydro,\n",
    "                                             lbm_optimisation=lbm_optimisation)\n",
    "\n",
    "hydro_lb_update_rule = add_hydrodynamic_force(hydro_lb_update_rule, force_Assignments, C, g, parameters)\n",
    "\n",
    "ast_kernel = ps.create_kernel(hydro_lb_update_rule, target=dh.default_target, cpu_openmp=True)\n",
    "kernel_hydro_lb = ast_kernel.compile()"
   ]
  },
  {
   "cell_type": "markdown",
   "metadata": {},
   "source": [
    "## Boundary Conditions"
   ]
  },
  {
   "cell_type": "markdown",
   "metadata": {},
   "source": [
    "As a last step suitable boundary conditions are applied"
   ]
  },
  {
   "cell_type": "code",
   "execution_count": 17,
   "metadata": {},
   "outputs": [],
   "source": [
    "# periodic Boundarys for g, h and C\n",
    "periodic_BC_C = dh.synchronization_function(C.name, target=dh.default_target, optimization = {\"openmp\": True})\n",
    "\n",
    "periodic_BC_g = LBMPeriodicityHandling(stencil=stencil_hydro, data_handling=dh, pdf_field_name=g.name,\n",
    "                                       streaming_pattern='push')\n",
    "periodic_BC_h = LBMPeriodicityHandling(stencil=stencil_phase, data_handling=dh, pdf_field_name=h.name,\n",
    "                                       streaming_pattern='pull')\n",
    "\n",
    "# No slip boundary for the phasefield lbm\n",
    "bh_allen_cahn = LatticeBoltzmannBoundaryHandling(method_phase, dh, 'h',\n",
    "                                                 target=dh.default_target, name='boundary_handling_h',\n",
    "                                                 streaming_pattern='pull')\n",
    "\n",
    "# No slip boundary for the velocityfield lbm\n",
    "bh_hydro = LatticeBoltzmannBoundaryHandling(method_hydro, dh, 'g' ,\n",
    "                                            target=dh.default_target, name='boundary_handling_g',\n",
    "                                            streaming_pattern='push')\n",
    "\n",
    "contact_angle = BoundaryHandling(dh, C.name, stencil_hydro, target=dh.default_target)\n",
    "contact = ContactAngle(90, parameters.interface_thickness)\n",
    "\n",
    "wall = NoSlip()\n",
    "if dimensions == 2:\n",
    "    bh_allen_cahn.set_boundary(wall, make_slice[:, 0])\n",
    "    bh_allen_cahn.set_boundary(wall, make_slice[:, -1])\n",
    "\n",
    "    bh_hydro.set_boundary(wall, make_slice[:, 0])\n",
    "    bh_hydro.set_boundary(wall, make_slice[:, -1])\n",
    "    \n",
    "    contact_angle.set_boundary(contact, make_slice[:, 0])\n",
    "    contact_angle.set_boundary(contact, make_slice[:, -1])\n",
    "else:\n",
    "    bh_allen_cahn.set_boundary(wall, make_slice[:, 0, :])\n",
    "    bh_allen_cahn.set_boundary(wall, make_slice[:, -1, :])\n",
    "\n",
    "    bh_hydro.set_boundary(wall, make_slice[:, 0, :])\n",
    "    bh_hydro.set_boundary(wall, make_slice[:, -1, :])\n",
    "    \n",
    "    contact_angle.set_boundary(contact, make_slice[:, 0, :])\n",
    "    contact_angle.set_boundary(contact, make_slice[:, -1, :])\n",
    "\n",
    "\n",
    "bh_allen_cahn.prepare()\n",
    "bh_hydro.prepare()\n",
    "contact_angle.prepare()"
   ]
  },
  {
   "cell_type": "markdown",
   "metadata": {},
   "source": [
    "## Full timestep"
   ]
  },
  {
   "cell_type": "code",
   "execution_count": 18,
   "metadata": {},
   "outputs": [],
   "source": [
    "# definition of the timestep for the immiscible fluids model\n",
    "def timeloop():\n",
    "    # Solve the interface tracking LB step with boundary conditions\n",
    "    periodic_BC_h()\n",
    "    bh_allen_cahn()    \n",
    "    dh.run_kernel(kernel_allen_cahn_lb, **parameters.symbolic_to_numeric_map)\n",
    "    dh.swap(\"C\", \"C_tmp\")\n",
    "    \n",
    "    # apply the three phase-phase contact angle\n",
    "    contact_angle()\n",
    "    # periodic BC of the phase-field\n",
    "    periodic_BC_C()\n",
    "    \n",
    "    # solve the hydro LB step with boundary conditions\n",
    "    dh.run_kernel(kernel_hydro_lb, **parameters.symbolic_to_numeric_map)\n",
    "    periodic_BC_g()\n",
    "    bh_hydro()\n",
    "\n",
    "    \n",
    "    # field swaps\n",
    "    dh.swap(\"h\", \"h_tmp\")\n",
    "    dh.swap(\"g\", \"g_tmp\")"
   ]
  },
  {
   "cell_type": "code",
   "execution_count": 19,
   "metadata": {
    "scrolled": false
   },
   "outputs": [
    {
     "data": {
      "text/html": [
       "<video controls width=\"80%\">\n",
       " <source src=\"data:video/x-m4v;base64,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\" type=\"video/mp4\">\n",
       " Your browser does not support the video tag.\n",
       "</video>"
      ],
      "text/plain": [
       "<IPython.core.display.HTML object>"
      ]
     },
     "execution_count": 19,
     "metadata": {},
     "output_type": "execute_result"
    }
   ],
   "source": [
    "Initialize_distributions()\n",
    "\n",
    "frames = 300\n",
    "steps_per_frame = (timesteps//frames) + 1\n",
    "\n",
    "if 'is_test_run' not in globals():\n",
    "    def run():\n",
    "        for i in range(steps_per_frame):\n",
    "            timeloop()\n",
    "            \n",
    "        if gpu:\n",
    "            dh.to_cpu(\"C\")\n",
    "        return dh.gather_array(C.name)\n",
    "\n",
    "    animation = plt.scalar_field_animation(run, frames=frames, rescale=True)\n",
    "    set_display_mode('video')\n",
    "    res = display_animation(animation)\n",
    "else:\n",
    "    timeloop()\n",
    "    res = None\n",
    "res"
   ]
  },
  {
   "cell_type": "markdown",
   "metadata": {},
   "source": [
    "Note that the video is played for 10 seconds while the simulation time is only 2 seconds!"
   ]
  }
 ],
 "metadata": {
  "kernelspec": {
   "display_name": "Python 3 (ipykernel)",
   "language": "python",
   "name": "python3"
  },
  "language_info": {
   "codemirror_mode": {
    "name": "ipython",
    "version": 3
   },
   "file_extension": ".py",
   "mimetype": "text/x-python",
   "name": "python",
   "nbconvert_exporter": "python",
   "pygments_lexer": "ipython3",
   "version": "3.9.9"
  }
 },
 "nbformat": 4,
 "nbformat_minor": 2
}
