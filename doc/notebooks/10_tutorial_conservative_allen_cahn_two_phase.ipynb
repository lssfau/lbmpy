{
 "cells": [
  {
   "cell_type": "markdown",
   "metadata": {},
   "source": [
    "# The conservative Allen-Cahn model for high Reynolds number, two phase flow with large-density and viscosity constrast"
   ]
  },
  {
   "cell_type": "code",
   "execution_count": 1,
   "metadata": {},
   "outputs": [],
   "source": [
    "from pystencils.session import *\n",
    "from lbmpy.session import *\n",
    "\n",
    "from pystencils.simp import sympy_cse\n",
    "from pystencils.boundaries import BoundaryHandling\n",
    "\n",
    "from lbmpy.phasefield_allen_cahn.contact_angle import ContactAngle\n",
    "from lbmpy.phasefield_allen_cahn.force_model import MultiphaseForceModel, CentralMomentMultiphaseForceModel\n",
    "from lbmpy.phasefield_allen_cahn.kernel_equations import *\n",
    "from lbmpy.phasefield_allen_cahn.parameter_calculation import calculate_parameters_rti\n",
    "\n",
    "from lbmpy.advanced_streaming import LBMPeriodicityHandling\n",
    "from lbmpy.boundaries import NoSlip, LatticeBoltzmannBoundaryHandling"
   ]
  },
  {
   "cell_type": "markdown",
   "metadata": {},
   "source": [
    "If `pycuda` is installed the simulation automatically runs on GPU"
   ]
  },
  {
   "cell_type": "code",
   "execution_count": 2,
   "metadata": {},
   "outputs": [],
   "source": [
    "try:\n",
    "    import pycuda\n",
    "except ImportError:\n",
    "    pycuda = None\n",
    "    gpu = False\n",
    "    target = 'cpu'\n",
    "    print('No pycuda installed')\n",
    "\n",
    "if pycuda:\n",
    "    gpu = True\n",
    "    target = 'gpu'"
   ]
  },
  {
   "cell_type": "markdown",
   "metadata": {},
   "source": [
    "The conservative Allen-Cahn model (CACM) for two-phase flow is based on the work of Fakhari et al. (2017) [Improved locality of the phase-field lattice-Boltzmann model for immiscible fluids at high density ratios](http://dx.doi.org/10.1103/PhysRevE.96.053301). The model can be created for two-dimensional problems as well as three-dimensional problems, which have been described by Mitchell et al. (2018) [Development of a three-dimensional\n",
    "phase-field lattice Boltzmann method for the study of immiscible fluids at high density ratios](http://dx.doi.org/10.1103/PhysRevE.96.053301). Furthermore, cascaded lattice Boltzmann methods can be combined with the model which was described in [A cascaded phase-field lattice Boltzmann model for the simulation of incompressible, immiscible fluids with high density contrast](http://dx.doi.org/10.1016/j.camwa.2019.08.018)\n",
    "\n",
    "\n",
    "The CACM is suitable for simulating highly complex two phase flow problems with high-density ratios and high Reynolds numbers. In this tutorial, an overview is provided on how to derive the model with lbmpy. For this, the model is defined with two LBM populations. One for the interface tracking, which we call the phase-field LB step and one for recovering the hydrodynamic properties. The latter is called the hydrodynamic LB step."
   ]
  },
  {
   "cell_type": "markdown",
   "metadata": {},
   "source": [
    "## Geometry Setup\n",
    "\n",
    "First of all, the stencils for the phase-field LB step as well as the stencil for the hydrodynamic LB step are defined. According to the stencils, the simulation can be performed in either 2D- or 3D-space. For 2D simulations, only the D2Q9 stencil is supported. For 3D simulations, the D3Q15, D3Q19 and the D3Q27 stencil are supported. Note here that the cascaded LBM can not be derived for D3Q15 stencils."
   ]
  },
  {
   "cell_type": "code",
   "execution_count": 3,
   "metadata": {},
   "outputs": [],
   "source": [
    "stencil_phase = get_stencil(\"D2Q9\")\n",
    "stencil_hydro = get_stencil(\"D2Q9\")\n",
    "assert(len(stencil_phase[0]) == len(stencil_hydro[0]))\n",
    "\n",
    "dimensions = len(stencil_phase[0])"
   ]
  },
  {
   "cell_type": "markdown",
   "metadata": {},
   "source": [
    "Definition of the domain size"
   ]
  },
  {
   "cell_type": "code",
   "execution_count": 4,
   "metadata": {},
   "outputs": [],
   "source": [
    "# domain \n",
    "L0 = 256\n",
    "domain_size = (L0, 4 * L0)"
   ]
  },
  {
   "cell_type": "markdown",
   "metadata": {},
   "source": [
    "## Parameter definition\n",
    "\n",
    "The next step is to calculate all parameters which are needed for the simulation. In this example, a Rayleigh-Taylor instability test case is set up. The parameter calculation for this setup is already implemented in lbmpy and can be used with the dimensionless parameters which describe the problem."
   ]
  },
  {
   "cell_type": "code",
   "execution_count": 5,
   "metadata": {},
   "outputs": [],
   "source": [
    "# time step\n",
    "timesteps = 8000\n",
    "\n",
    "# reference time\n",
    "reference_time = 4000\n",
    "# density of the heavier fluid\n",
    "rho_H = 1.0\n",
    "\n",
    "# calculate the parameters for the RTI\n",
    "parameters = calculate_parameters_rti(reference_length=L0,\n",
    "                                      reference_time=reference_time,\n",
    "                                      density_heavy=rho_H,\n",
    "                                      capillary_number=0.44,\n",
    "                                      reynolds_number=3000,\n",
    "                                      atwood_number=0.998,\n",
    "                                      peclet_number=1000,\n",
    "                                      density_ratio=1000,\n",
    "                                      viscosity_ratio=100)\n",
    "# get the parameters\n",
    "rho_L = parameters.get(\"density_light\")\n",
    "\n",
    "mu_H = parameters.get(\"dynamic_viscosity_heavy\")\n",
    "mu_L = parameters.get(\"dynamic_viscosity_light\")\n",
    "\n",
    "tau_H = parameters.get(\"relaxation_time_heavy\")\n",
    "tau_L = parameters.get(\"relaxation_time_light\")\n",
    "\n",
    "sigma = parameters.get(\"surface_tension\")\n",
    "M = parameters.get(\"mobility\")\n",
    "gravitational_acceleration = parameters.get(\"gravitational_acceleration\")\n",
    "\n",
    "\n",
    "drho3 = (rho_H - rho_L)/3\n",
    "# interface thickness\n",
    "W = 5\n",
    "# coeffcient related to surface tension\n",
    "beta = 12.0 * (sigma/W)\n",
    "# coeffcient related to surface tension\n",
    "kappa = 1.5 * sigma*W\n",
    "# relaxation rate allen cahn (h)\n",
    "w_c = 1.0/(0.5 + (3.0 * M))"
   ]
  },
  {
   "cell_type": "markdown",
   "metadata": {},
   "source": [
    "## Fields\n",
    "\n",
    "As a next step all fields which are needed get defined. To do so, we create a `datahandling` object. More details about it can be found in the third tutorial of the [pystencils framework]( http://pycodegen.pages.walberla.net/pystencils/). This object holds all fields and manages the kernel runs."
   ]
  },
  {
   "cell_type": "code",
   "execution_count": 6,
   "metadata": {},
   "outputs": [],
   "source": [
    "# create a datahandling object\n",
    "dh = ps.create_data_handling((domain_size), periodicity=(True, False), parallel=False, default_target=target)\n",
    "\n",
    "# pdf fields. g is used for hydrodynamics and h for the interface tracking \n",
    "g = dh.add_array(\"g\", values_per_cell=len(stencil_hydro))\n",
    "dh.fill(\"g\", 0.0, ghost_layers=True)\n",
    "h = dh.add_array(\"h\",values_per_cell=len(stencil_phase))\n",
    "dh.fill(\"h\", 0.0, ghost_layers=True)\n",
    "\n",
    "g_tmp = dh.add_array(\"g_tmp\", values_per_cell=len(stencil_hydro))\n",
    "dh.fill(\"g_tmp\", 0.0, ghost_layers=True)\n",
    "h_tmp = dh.add_array(\"h_tmp\",values_per_cell=len(stencil_phase))\n",
    "dh.fill(\"h_tmp\", 0.0, ghost_layers=True)\n",
    "\n",
    "# velocity field\n",
    "u = dh.add_array(\"u\", values_per_cell=dh.dim)\n",
    "dh.fill(\"u\", 0.0, ghost_layers=True)\n",
    "\n",
    "# phase-field\n",
    "C = dh.add_array(\"C\")\n",
    "dh.fill(\"C\", 0.0, ghost_layers=True)\n",
    "C_tmp = dh.add_array(\"C_tmp\")\n",
    "dh.fill(\"C_tmp\", 0.0, ghost_layers=True)"
   ]
  },
  {
   "cell_type": "markdown",
   "metadata": {},
   "source": [
    "As a next step the relaxation time is stated in a symbolic form. It is calculated via interpolation."
   ]
  },
  {
   "cell_type": "code",
   "execution_count": 7,
   "metadata": {},
   "outputs": [],
   "source": [
    "# relaxation time and rate\n",
    "tau = 0.5 + tau_L + (C.center) * (tau_H - tau_L)\n",
    "s8 = 1/(tau)\n",
    "\n",
    "# density for the whole domain\n",
    "rho = rho_L + (C.center) * (rho_H - rho_L)\n",
    "\n",
    "# body force\n",
    "body_force = [0, 0, 0]\n",
    "body_force[1] = gravitational_acceleration * rho"
   ]
  },
  {
   "cell_type": "markdown",
   "metadata": {},
   "source": [
    "## Definition of the lattice Boltzmann methods"
   ]
  },
  {
   "cell_type": "markdown",
   "metadata": {},
   "source": [
    "For both LB steps, a weighted orthogonal MRT (WMRT) method is used. It is also possible to change the method to a simpler SRT scheme or a more complicated CLBM scheme. The CLBM scheme can be obtained by commenting in the python snippets in the notebook cells below. Note here that the hydrodynamic LB step is formulated as an incompressible velocity-based LBM. Thus, the velocity terms can not be removed from the equilibrium in the central moment space."
   ]
  },
  {
   "cell_type": "code",
   "execution_count": 8,
   "metadata": {},
   "outputs": [
    {
     "data": {
      "text/html": [
       "\n",
       "        <table style=\"border:none; width: 100%\">\n",
       "            <tr style=\"border:none\">\n",
       "                <th style=\"border:none\" >Moment</th>\n",
       "                <th style=\"border:none\" >Eq. Value </th>\n",
       "                <th style=\"border:none\" >Relaxation Rate</th>\n",
       "            </tr>\n",
       "            <tr style=\"border:none\">\n",
       "                            <td style=\"border:none\">$1$</td>\n",
       "                            <td style=\"border:none\">$\\rho$</td>\n",
       "                            <td style=\"border:none\">$0$</td>\n",
       "                         </tr>\n",
       "<tr style=\"border:none\">\n",
       "                            <td style=\"border:none\">$x$</td>\n",
       "                            <td style=\"border:none\">$\\rho u_{0}$</td>\n",
       "                            <td style=\"border:none\">$1.82082623441035$</td>\n",
       "                         </tr>\n",
       "<tr style=\"border:none\">\n",
       "                            <td style=\"border:none\">$y$</td>\n",
       "                            <td style=\"border:none\">$\\rho u_{1}$</td>\n",
       "                            <td style=\"border:none\">$1.82082623441035$</td>\n",
       "                         </tr>\n",
       "<tr style=\"border:none\">\n",
       "                            <td style=\"border:none\">$x^{2} - y^{2}$</td>\n",
       "                            <td style=\"border:none\">$\\rho u_{0}^{2} - \\rho u_{1}^{2}$</td>\n",
       "                            <td style=\"border:none\">$1$</td>\n",
       "                         </tr>\n",
       "<tr style=\"border:none\">\n",
       "                            <td style=\"border:none\">$x y$</td>\n",
       "                            <td style=\"border:none\">$\\rho u_{0} u_{1}$</td>\n",
       "                            <td style=\"border:none\">$1$</td>\n",
       "                         </tr>\n",
       "<tr style=\"border:none\">\n",
       "                            <td style=\"border:none\">$3 x^{2} + 3 y^{2} - 2$</td>\n",
       "                            <td style=\"border:none\">$3 \\rho u_{0}^{2} + 3 \\rho u_{1}^{2}$</td>\n",
       "                            <td style=\"border:none\">$1$</td>\n",
       "                         </tr>\n",
       "<tr style=\"border:none\">\n",
       "                            <td style=\"border:none\">$3 x^{2} y - y$</td>\n",
       "                            <td style=\"border:none\">$0$</td>\n",
       "                            <td style=\"border:none\">$1$</td>\n",
       "                         </tr>\n",
       "<tr style=\"border:none\">\n",
       "                            <td style=\"border:none\">$3 x y^{2} - x$</td>\n",
       "                            <td style=\"border:none\">$0$</td>\n",
       "                            <td style=\"border:none\">$1$</td>\n",
       "                         </tr>\n",
       "<tr style=\"border:none\">\n",
       "                            <td style=\"border:none\">$9 x^{2} y^{2} - 3 x^{2} - 3 y^{2} + 1$</td>\n",
       "                            <td style=\"border:none\">$0$</td>\n",
       "                            <td style=\"border:none\">$1$</td>\n",
       "                         </tr>\n",
       "\n",
       "        </table>\n",
       "        "
      ],
      "text/plain": [
       "<lbmpy.methods.momentbased.momentbasedmethod.MomentBasedLbMethod at 0x7f8d7a8b3dc0>"
      ]
     },
     "execution_count": 8,
     "metadata": {},
     "output_type": "execute_result"
    }
   ],
   "source": [
    "method_phase = create_lb_method(stencil=stencil_phase, method=\"mrt\", compressible=True, weighted=True,\n",
    "                                relaxation_rates=[1, 1, 1, 1])\n",
    "\n",
    "method_phase.set_first_moment_relaxation_rate(w_c)\n",
    "\n",
    "# method_phase = create_lb_method(stencil=stencil_phase, method=\"central_moment\", compressible=True,\n",
    "#                                 relaxation_rates=[0, w_c, 1, 1, 1], equilibrium_order=4)\n",
    "method_phase"
   ]
  },
  {
   "cell_type": "code",
   "execution_count": 9,
   "metadata": {},
   "outputs": [
    {
     "data": {
      "text/html": [
       "\n",
       "        <table style=\"border:none; width: 100%\">\n",
       "            <tr style=\"border:none\">\n",
       "                <th style=\"border:none\" >Moment</th>\n",
       "                <th style=\"border:none\" >Eq. Value </th>\n",
       "                <th style=\"border:none\" >Relaxation Rate</th>\n",
       "            </tr>\n",
       "            <tr style=\"border:none\">\n",
       "                            <td style=\"border:none\">$1$</td>\n",
       "                            <td style=\"border:none\">$\\rho$</td>\n",
       "                            <td style=\"border:none\">$0$</td>\n",
       "                         </tr>\n",
       "<tr style=\"border:none\">\n",
       "                            <td style=\"border:none\">$x$</td>\n",
       "                            <td style=\"border:none\">$u_{0}$</td>\n",
       "                            <td style=\"border:none\">$0$</td>\n",
       "                         </tr>\n",
       "<tr style=\"border:none\">\n",
       "                            <td style=\"border:none\">$y$</td>\n",
       "                            <td style=\"border:none\">$u_{1}$</td>\n",
       "                            <td style=\"border:none\">$0$</td>\n",
       "                         </tr>\n",
       "<tr style=\"border:none\">\n",
       "                            <td style=\"border:none\">$x^{2} - y^{2}$</td>\n",
       "                            <td style=\"border:none\">$u_{0}^{2} - u_{1}^{2}$</td>\n",
       "                            <td style=\"border:none\">$\\frac{1}{0.664004086170318 - 0.147603677553286 {{C}_{(0,0)}}}$</td>\n",
       "                         </tr>\n",
       "<tr style=\"border:none\">\n",
       "                            <td style=\"border:none\">$x y$</td>\n",
       "                            <td style=\"border:none\">$u_{0} u_{1}$</td>\n",
       "                            <td style=\"border:none\">$\\frac{1}{0.664004086170318 - 0.147603677553286 {{C}_{(0,0)}}}$</td>\n",
       "                         </tr>\n",
       "<tr style=\"border:none\">\n",
       "                            <td style=\"border:none\">$3 x^{2} + 3 y^{2} - 2$</td>\n",
       "                            <td style=\"border:none\">$3 u_{0}^{2} + 3 u_{1}^{2}$</td>\n",
       "                            <td style=\"border:none\">$1$</td>\n",
       "                         </tr>\n",
       "<tr style=\"border:none\">\n",
       "                            <td style=\"border:none\">$3 x^{2} y - y$</td>\n",
       "                            <td style=\"border:none\">$0$</td>\n",
       "                            <td style=\"border:none\">$1$</td>\n",
       "                         </tr>\n",
       "<tr style=\"border:none\">\n",
       "                            <td style=\"border:none\">$3 x y^{2} - x$</td>\n",
       "                            <td style=\"border:none\">$0$</td>\n",
       "                            <td style=\"border:none\">$1$</td>\n",
       "                         </tr>\n",
       "<tr style=\"border:none\">\n",
       "                            <td style=\"border:none\">$9 x^{2} y^{2} - 3 x^{2} - 3 y^{2} + 1$</td>\n",
       "                            <td style=\"border:none\">$0$</td>\n",
       "                            <td style=\"border:none\">$1$</td>\n",
       "                         </tr>\n",
       "\n",
       "        </table>\n",
       "        "
      ],
      "text/plain": [
       "<lbmpy.methods.momentbased.momentbasedmethod.MomentBasedLbMethod at 0x7f8d61b4a640>"
      ]
     },
     "execution_count": 9,
     "metadata": {},
     "output_type": "execute_result"
    }
   ],
   "source": [
    "method_hydro = create_lb_method(stencil=stencil_phase, method=\"mrt\", compressible=False, weighted=True,\n",
    "                                relaxation_rates=[s8, 1, 1, 1])\n",
    "\n",
    "# method_hydro = create_lb_method(stencil=stencil_phase, method=\"central_moment\", compressible=False,\n",
    "#                                 relaxation_rates=[s8, 1, 1], equilibrium_order=4)\n",
    "\n",
    "method_hydro"
   ]
  },
  {
   "cell_type": "markdown",
   "metadata": {},
   "source": [
    "## Initialization"
   ]
  },
  {
   "cell_type": "markdown",
   "metadata": {},
   "source": [
    "The probability distribution functions (pdfs) are initialised with the equilibrium distribution for the LB methods."
   ]
  },
  {
   "cell_type": "code",
   "execution_count": 10,
   "metadata": {},
   "outputs": [],
   "source": [
    "h_updates = initializer_kernel_phase_field_lb(h, C, u, method_phase, W)\n",
    "g_updates = initializer_kernel_hydro_lb(g, u, method_hydro)\n",
    "\n",
    "h_init = ps.create_kernel(h_updates, target=dh.default_target, cpu_openmp=True).compile()\n",
    "g_init = ps.create_kernel(g_updates, target=dh.default_target, cpu_openmp=True).compile()"
   ]
  },
  {
   "cell_type": "markdown",
   "metadata": {},
   "source": [
    "Following this, the phase field is initialised directly in python."
   ]
  },
  {
   "cell_type": "code",
   "execution_count": 11,
   "metadata": {},
   "outputs": [],
   "source": [
    "# initialize the domain\n",
    "def Initialize_distributions():\n",
    "    Nx = domain_size[0]\n",
    "    Ny = domain_size[1]\n",
    "    \n",
    "    for block in dh.iterate(ghost_layers=True, inner_ghost_layers=False):\n",
    "        x = np.zeros_like(block.midpoint_arrays[0])\n",
    "        x[:, :] = block.midpoint_arrays[0]\n",
    "        \n",
    "        y = np.zeros_like(block.midpoint_arrays[1])\n",
    "        y[:, :] = block.midpoint_arrays[1]\n",
    "\n",
    "        y -= 2 * L0\n",
    "        tmp = 0.1 * Nx * np.cos((2 * np.pi * x) / Nx)\n",
    "        init_values = 0.5 + 0.5 * np.tanh((y - tmp) / (W / 2))\n",
    "        block[\"C\"][:, :] = init_values\n",
    "        block[\"C_tmp\"][:, :] = init_values\n",
    "        \n",
    "    if gpu:\n",
    "        dh.all_to_gpu()            \n",
    "    \n",
    "    dh.run_kernel(h_init)\n",
    "    dh.run_kernel(g_init)"
   ]
  },
  {
   "cell_type": "code",
   "execution_count": 12,
   "metadata": {},
   "outputs": [
    {
     "data": {
      "text/plain": [
       "<matplotlib.image.AxesImage at 0x7f8d617272e0>"
      ]
     },
     "execution_count": 12,
     "metadata": {},
     "output_type": "execute_result"
    },
    {
     "data": {
      "image/png": "[encoded data removed]",
      "text/plain": [
       "<Figure size 1152x432 with 1 Axes>"
      ]
     },
     "metadata": {
      "needs_background": "light"
     },
     "output_type": "display_data"
    }
   ],
   "source": [
    "Initialize_distributions()\n",
    "plt.scalar_field(dh.gather_array(C.name))"
   ]
  },
  {
   "cell_type": "markdown",
   "metadata": {},
   "source": [
    "## Source Terms"
   ]
  },
  {
   "cell_type": "markdown",
   "metadata": {},
   "source": [
    "For the Allen-Cahn LB step, the Allen-Cahn equation needs to be applied as a source term. Here, a simple forcing model is used which is directly applied in the moment space: \n",
    "$$\n",
    "F_i^\\phi (\\boldsymbol{x}, t) = \\Delta t \\frac{\\left[1 - 4 \\left(\\phi - \\phi_0\\right)^2\\right]}{\\xi} w_i \\boldsymbol{c}_i \\cdot \\frac{\\nabla \\phi}{|{\\nabla \\phi}|},\n",
    "$$\n",
    "where $\\phi$ is the phase-field, $\\phi_0$ is the interface location, $\\Delta t$ it the timestep size $\\xi$ is the interface width, $\\boldsymbol{c}_i$ is the discrete direction from stencil_phase and $w_i$ are the weights. Furthermore, the equilibrium needs to be shifted:\n",
    "\n",
    "$$\n",
    "\\bar{h}^{eq}_\\alpha = h^{eq}_\\alpha - \\frac{1}{2} F^\\phi_\\alpha\n",
    "$$\n",
    "\n",
    "The hydrodynamic force is given by:\n",
    "$$\n",
    "F_i (\\boldsymbol{x}, t) = \\Delta t w_i \\frac{\\boldsymbol{c}_i \\boldsymbol{F}}{\\rho c_s^2},\n",
    "$$\n",
    "where $\\rho$ is the interpolated density and $\\boldsymbol{F}$ is the source term which consists of the pressure force \n",
    "$$\n",
    "\\boldsymbol{F}_p = -p^* c_s^2 \\nabla \\rho,\n",
    "$$\n",
    "the surface tension force:\n",
    "$$\n",
    "\\boldsymbol{F}_s = \\mu_\\phi \\nabla \\phi\n",
    "$$\n",
    "and the viscous force term:\n",
    "$$\n",
    "F_{\\mu, i}^{\\mathrm{MRT}} = - \\frac{\\nu}{c_s^2 \\Delta t} \\left[\\sum_{\\beta} c_{\\beta i} c_{\\beta j} \\times \\sum_{\\alpha} \\Omega_{\\beta \\alpha}(g_\\alpha - g_\\alpha^{\\mathrm{eq}})\\right] \\frac{\\partial \\rho}{\\partial x_j}.\n",
    "$$\n",
    "\n",
    "In the above equations $p^*$ is the normalised pressure which can be obtained from the zeroth order moment of the hydrodynamic distribution function $g$. The lattice speed of sound is given with $c_s$ and the chemical potential is $\\mu_\\phi$. Furthermore, the viscosity is $\\nu$ and $\\Omega$ is the moment-based collision operator. Note here that the hydrodynamic equilibrium is also adjusted as shown above for the phase-field distribution functions.\n",
    "\n",
    "\n",
    "For CLBM methods the forcing is applied directly in the central moment space. This is done with the `CentralMomentMultiphaseForceModel`. Furthermore, the GUO force model is applied here to be consistent with [A cascaded phase-field lattice Boltzmann model for the simulation of incompressible, immiscible fluids with high density contrast](http://dx.doi.org/10.1016/j.camwa.2019.08.018). Here we refer to equation D.7 which can be derived for 3D stencils automatically with lbmpy."
   ]
  },
  {
   "cell_type": "code",
   "execution_count": 13,
   "metadata": {},
   "outputs": [],
   "source": [
    "force_h = [f / 3 for f in interface_tracking_force(C, stencil_phase, W)]\n",
    "force_g = hydrodynamic_force(g, C, method_hydro, tau, rho_H, rho_L, kappa, beta, body_force)\n",
    "\n",
    "\n",
    "if isinstance(method_phase, CentralMomentBasedLbMethod):\n",
    "    force_model_h = CentralMomentMultiphaseForceModel(force=force_h)\n",
    "else:\n",
    "    force_model_h = MultiphaseForceModel(force=force_h)\n",
    "\n",
    "\n",
    "if isinstance(method_hydro, CentralMomentBasedLbMethod):\n",
    "    force_model_g = CentralMomentMultiphaseForceModel(force=force_g, rho=rho)\n",
    "else:\n",
    "    force_model_g = MultiphaseForceModel(force=force_g, rho=rho)"
   ]
  },
  {
   "cell_type": "markdown",
   "metadata": {},
   "source": [
    "## Definition of the LB update rules"
   ]
  },
  {
   "cell_type": "markdown",
   "metadata": {},
   "source": [
    "The update rule for the phase-field LB step is defined as:\n",
    "\n",
    "$$\n",
    "h_i (\\boldsymbol{x} + \\boldsymbol{c}_i \\Delta t, t + \\Delta t) = h_i(\\boldsymbol{x}, t) + \\Omega_{ij}^h(\\bar{h_j}^{eq} - h_j)|_{(\\boldsymbol{x}, t)} + F_i^\\phi(\\boldsymbol{x}, t).\n",
    "$$\n",
    "In our framework the pull scheme is applied as streaming step. Furthermore, the update of the phase-field is directly integrated into the kernel. As a result of this, a second temporary phase-field is needed."
   ]
  },
  {
   "cell_type": "code",
   "execution_count": 14,
   "metadata": {},
   "outputs": [],
   "source": [
    "allen_cahn_lb = get_collision_assignments_phase(lb_method=method_phase,\n",
    "                                                velocity_input=u,\n",
    "                                                output={'density': C_tmp},\n",
    "                                                force_model=force_model_h,\n",
    "                                                symbolic_fields={\"symbolic_field\": h,\n",
    "                                                                 \"symbolic_temporary_field\": h_tmp},\n",
    "                                                kernel_type='stream_pull_collide')\n",
    "\n",
    "# allen_cahn_lb = sympy_cse(allen_cahn_lb)\n",
    "\n",
    "ast_allen_cahn_lb = ps.create_kernel(allen_cahn_lb, target=dh.default_target, cpu_openmp=True)\n",
    "kernel_allen_cahn_lb = ast_allen_cahn_lb.compile()"
   ]
  },
  {
   "cell_type": "markdown",
   "metadata": {},
   "source": [
    "The update rule for the hydrodynmaic LB step is defined as:\n",
    "\n",
    "$$\n",
    "g_i (\\boldsymbol{x} + \\boldsymbol{c}_i \\Delta t, t + \\Delta t) = g_i(\\boldsymbol{x}, t) + \\Omega_{ij}^g(\\bar{g_j}^{eq} - g_j)|_{(\\boldsymbol{x}, t)} + F_i(\\boldsymbol{x}, t).\n",
    "$$\n",
    "\n",
    "Here, the push scheme is applied which is easier due to the data access required for the viscous force term. Furthermore, the velocity update is directly done in the kernel."
   ]
  },
  {
   "cell_type": "code",
   "execution_count": 15,
   "metadata": {
    "scrolled": false
   },
   "outputs": [],
   "source": [
    "hydro_lb_update_rule = get_collision_assignments_hydro(lb_method=method_hydro,\n",
    "                                                       density=rho,\n",
    "                                                       velocity_input=u,\n",
    "                                                       force_model=force_model_g,\n",
    "                                                       sub_iterations=2,\n",
    "                                                       symbolic_fields={\"symbolic_field\": g,\n",
    "                                                                        \"symbolic_temporary_field\": g_tmp},\n",
    "                                                       kernel_type='collide_stream_push')\n",
    "\n",
    "# hydro_lb_update_rule = sympy_cse(hydro_lb_update_rule)\n",
    "\n",
    "ast_hydro_lb = ps.create_kernel(hydro_lb_update_rule, target=dh.default_target, cpu_openmp=True)\n",
    "kernel_hydro_lb = ast_hydro_lb.compile()"
   ]
  },
  {
   "cell_type": "markdown",
   "metadata": {},
   "source": [
    "## Boundary Conditions"
   ]
  },
  {
   "cell_type": "markdown",
   "metadata": {},
   "source": [
    "As a last step suitable boundary conditions are applied"
   ]
  },
  {
   "cell_type": "code",
   "execution_count": 16,
   "metadata": {},
   "outputs": [],
   "source": [
    "# periodic Boundarys for g, h and C\n",
    "periodic_BC_C = dh.synchronization_function(C.name, target=dh.default_target, optimization = {\"openmp\": True})\n",
    "\n",
    "periodic_BC_g = LBMPeriodicityHandling(stencil=stencil_hydro, data_handling=dh, pdf_field_name=g.name,\n",
    "                                       streaming_pattern='push')\n",
    "periodic_BC_h = LBMPeriodicityHandling(stencil=stencil_phase, data_handling=dh, pdf_field_name=h.name,\n",
    "                                       streaming_pattern='pull')\n",
    "\n",
    "# No slip boundary for the phasefield lbm\n",
    "bh_allen_cahn = LatticeBoltzmannBoundaryHandling(method_phase, dh, 'h',\n",
    "                                                 target=dh.default_target, name='boundary_handling_h',\n",
    "                                                 streaming_pattern='pull')\n",
    "\n",
    "# No slip boundary for the velocityfield lbm\n",
    "bh_hydro = LatticeBoltzmannBoundaryHandling(method_hydro, dh, 'g' ,\n",
    "                                            target=dh.default_target, name='boundary_handling_g',\n",
    "                                            streaming_pattern='push')\n",
    "\n",
    "contact_angle = BoundaryHandling(dh, C.name, stencil_hydro, target=dh.default_target)\n",
    "contact = ContactAngle(90, W)\n",
    "\n",
    "wall = NoSlip()\n",
    "if dimensions == 2:\n",
    "    bh_allen_cahn.set_boundary(wall, make_slice[:, 0])\n",
    "    bh_allen_cahn.set_boundary(wall, make_slice[:, -1])\n",
    "\n",
    "    bh_hydro.set_boundary(wall, make_slice[:, 0])\n",
    "    bh_hydro.set_boundary(wall, make_slice[:, -1])\n",
    "    \n",
    "    contact_angle.set_boundary(contact, make_slice[:, 0])\n",
    "    contact_angle.set_boundary(contact, make_slice[:, -1])\n",
    "else:\n",
    "    bh_allen_cahn.set_boundary(wall, make_slice[:, 0, :])\n",
    "    bh_allen_cahn.set_boundary(wall, make_slice[:, -1, :])\n",
    "\n",
    "    bh_hydro.set_boundary(wall, make_slice[:, 0, :])\n",
    "    bh_hydro.set_boundary(wall, make_slice[:, -1, :])\n",
    "    \n",
    "    contact_angle.set_boundary(contact, make_slice[:, 0, :])\n",
    "    contact_angle.set_boundary(contact, make_slice[:, -1, :])\n",
    "\n",
    "\n",
    "bh_allen_cahn.prepare()\n",
    "bh_hydro.prepare()\n",
    "contact_angle.prepare()"
   ]
  },
  {
   "cell_type": "markdown",
   "metadata": {},
   "source": [
    "## Full timestep"
   ]
  },
  {
   "cell_type": "code",
   "execution_count": 17,
   "metadata": {},
   "outputs": [],
   "source": [
    "# definition of the timestep for the immiscible fluids model\n",
    "def timeloop():\n",
    "    # Solve the interface tracking LB step with boundary conditions\n",
    "    periodic_BC_h()\n",
    "    bh_allen_cahn()    \n",
    "    dh.run_kernel(kernel_allen_cahn_lb)\n",
    "    dh.swap(\"C\", \"C_tmp\")\n",
    "    \n",
    "    # apply the three phase-phase contact angle\n",
    "    contact_angle()\n",
    "    # periodic BC of the phase-field\n",
    "    periodic_BC_C()\n",
    "    \n",
    "    # solve the hydro LB step with boundary conditions\n",
    "    dh.run_kernel(kernel_hydro_lb)\n",
    "    periodic_BC_g()\n",
    "    bh_hydro()\n",
    "\n",
    "    \n",
    "    # field swaps\n",
    "    dh.swap(\"h\", \"h_tmp\")\n",
    "    dh.swap(\"g\", \"g_tmp\")"
   ]
  },
  {
   "cell_type": "code",
   "execution_count": 18,
   "metadata": {
    "scrolled": false
   },
   "outputs": [
    {
     "data": {
      "text/html": [
       "<video controls width=\"80%\">\n",
       " <source src=\"data:video/x-m4v;base64,AAAAIGZ0eXBpc29tAAACAGlzb21pc28yYXZjMW1wNDEAAAAIZnJlZQAAlXFtZGF0AAACcgYF//9u3EXpvebZSLeWLNgg2SPu73gyNjQgLSBjb3JlIDE2MSByMzAzOSA1NDRjNjFmIC0gSC4yNjQvTVBFRy00IEFWQyBjb2RlYyAtIENvcHlsZWZ0IDIwMDMtMjAyMSAtIGh0dHA6Ly93d3cudmlkZW9sYW4ub3JnL3gyNjQuaHRtbCAtIG9wdGlvbnM6IGNhYmFjPTAgcmVmPTMgZGVibG9jaz0xOjA6MCBhbmFseXNlPTB4MToweDExMSBtZT1oZXggc3VibWU9NyBwc3k9MSBwc3lfcmQ9MS4wMDowLjAwIG1peGVkX3JlZj0xIG1lX3JhbmdlPTE2IGNocm9tYV9tZT0xIHRyZWxsaXM9MSA4eDhkY3Q9MCBjcW09MCBkZWFkem9uZT0yMSwxMSBmYXN0X3Bza2lwPTEgY2hyb21hX3FwX29mZnNldD0tMiB0aHJlYWRzPTEzIGxvb2thaGVhZF90aHJlYWRzPTIgc2xpY2VkX3RocmVhZHM9MCBucj0wIGRlY2ltYXRlPTEgaW50ZXJsYWNlZD0wIGJsdXJheV9jb21wYXQ9MCBjb25zdHJhaW5lZF9pbnRyYT0wIGJmcmFtZXM9MCB3ZWlnaHRwPTAga2V5aW50PTI1MCBrZXlpbnRfbWluPTI1IHNjZW5lY3V0PTQwIGludHJhX3JlZnJlc2g9MCByY19sb29rYWhlYWQ9NDAgcmM9Y3JmIG1idHJlZT0xIGNyZj0yMy4wIHFjb21wPTAuNjAgcXBtaW49MCBxcG1heD02OSBxcHN0ZXA9NCBpcF9yYXRpbz0xLjQwIGFxPTE6MS4wMACAAAAQhGWIhAvyYoAAqcScnJycnJycnJycnJycnJycnJycnJycnJycnJycnJycnJycnJycnJycnJycnJycnJycnJycnJycnJycnJycnJycnJycnJycnXXXXXXXXXXXXXXXXXXXXXXXXXXXXXXXXXXXXXXXXXXXXXXXXXXXXXXXXXXXXXXXXXXXXXXXXXXXXXXXXXXXXXXXXXXXXXXXXXXXXXXXXXXXXXXXXXXXXXXXXXXXXXXXXXXXXXXXXXXXXXXXXXXXXXXX/jQAERLYewAG6MSiITXLPGYXpZBkEsl5THd8/ARshIpS9jMUrGAAQHDH5bxIQlbMytSf7m24JcKtxDSXHq94InO+Dpt3GHNJ6CGUBUinsuBtr/EgzP/iFAATeTR1vMIojCHlgv5u14z5gYdwyr3/Zri1EGUWiQYn0+btcRwkJjwi+A8COgp7yjRVARshIpS9jMUrceYOxDVwps6f//WogyitJeWCnjdrwL7k77nCmsH1hwMnfhjrTx2Mo7eAA3RiURCa5Z4zC4Yfh//FnwAGSISD9zxemyJEdGrLyfJd1Xffffffffffffffffffffffff4/hh4b8AbroIrl3+EAATAIDA6FGcMADj0EjnpDHGQEASWQAEFFXMCOvzzwDpCQ7m1tbW18f+Hgs4DrGGlsIAgOP0Eiag0BAEl/EAO999999999999999999999999/j7/DhTwAE2Zn7GADBlYxdOxlTqGa6666666666667w3hrrFAG+++++++++++++++++++++++nm6PpaWlp6xQBvvvvvvvvvvvvvvvvvvvvvvvrrrrrrrrrrrrrrrrrrrrrrrrrrrrrrrrrrrrrrrrrrp6euuunrrrrrrrrrrrrrrrrrrrrrrrrrrrrrrrrrrrrrrrrrrrrrrrrrrrrrrrrrrrrrrrrrrp6euuunrrrrrrrrrrrrrrrrrrrrrrrrrrrrrrrrrrrrrrr/42peMYHMBwACgBQURluABZiUtvOUsrz0u70AcsoaUqFNCmL4SkE+81KP/kb9BKHvHOQ8DTz65nAEdJrwIV8bU1kYbOMlxrjXHq9/CDQSzxfAAQ0IL9bqEf3L3gSGmQAlDg9X1qJAbGAlJ/+AElKJ1vxKe8Q/RawkD3rzXoYgg9XuISGzRBlr7+d/95mQ2cZCc5ol7DOmY+5TqxOOWrASW6h2uuuuuuuuuuuuuuuuuuuuuuunp6666euuuuuuuuuuuuuuuuuuuuuuuuuuuuuuuuuuuuuuu+8NdddddddddddddddddddddddddPT11109ddddddddddddddddddddddddddddddddddddddddddddddddddddddddddddddddddPT11109ddddddddddddddddddddddddddddddddddddddddddddddddddddddddddddddddddPT11109ddddddddddddddddddddddddddddddddddddddf/G1KsMYHMBwACgBQURluAA+JT54oyl96Xf/fI1GRi8qL5cDGp5huCv5w35vuASHx9enHUKpCx1rwHBa+jWe59Aj6a1kYbKMlxrDXHq9/CGCWeL4ACGhBfrdQj+5e8CXmZDZ1IVEF5LOcAjJMAn6pw2pvCUonW/EhK92Hyt3AEdBryCCDamAWEhskYZa+/nf/eZkNnGQnOaJewzxnj7lOrNxy2cCS6h2uuuuuuuuuuuuuuuuuuuuuuunp6666euuuuuuuuuuuuuuuuuuuuuuuuuuuuuuuuuuuuuuu+8NddddddddddddddddddddddddfD/8FYdDnAEGGPJBRclyRZYFfLBQ+QJKPAAxlWY+hM7vYOcQnH+YEgtLPQozV+P/n9gtCO3K//ZOo2v//+C4JcAJqszCRwfwAyL5Xp9wAx1ZtJPvh9x9gtFZkmGJF34Iw1CASkIESM8dAbECH27P6IIK+eodrrrrrrrrrrrrrrrrrrrrrrrrrrrrrrrrrrrrrrrrrrrrrrrrrrrrrrrrrrrrrrrrr/BYf6DQalk/+iHuIAARASBIAIMQkO54dIdzISO5CLdPCs7n1WqVP1WEcRuAldY/AZeLGRP2hNHCAALUKFAcYMALk+gRQdU7ApbLoDYdXXhmb75PiiOfOetwrdyxebfFLas/6qvUIdkvScKPZCCgcBN8EQAlBQPv4bIcmUB0TccB4wuVx86cxWccL8FfP/4Pd6DvKXxUKZAFBMEh5kdCQWz/CAAgV4j4DqSWNX+A1iFJSgW1r+wPbhW+cDuJDBRpPyd33/kG4CEdTGAIZsCYXmOIfGOZgJh24oYj8W54QABcMW4MAVNACRtWCYovbpyn4Mrz7hQAEy8AEyASHHYjn/VlKw++xfu/O///wVl/WGASWEQENgf3p6Ybrrrrrrrrrrrrrrrrrrrrrrrrrrrrrrrrrrrrrrrrrrrrrrrrrrrrrrrrrrrrrrrrrp5uCBgw8LoR/s3/19m/H3HEf/QKzsy9f334td2tPT11111111111111111111111111111111111111/8bRIVGMDWAC4g2HehxoEKCJ6vASS9hEi6MXs7ha9AAY4dI9IivNrD0GcjmpCnh8IE9MAAFRkOeBvhxUAtQfUbLaQpDO/9oa5hUiqMWwxhi9xHCEQRyKL4IJQ9vcY9AEZInq8AJIUT73EJ/+XnHumOAAFRkFEva5B1WGganPMekCc+PV7w1KL9ZiU/3KzgST2QBgqy5734ASIvcQfmtLVYQ0z2NJUqoGuodrrrrrrrrrrrrrrrrrrrrrrrp6euuunp6666666666666666666666666666666666666677/XXXXXXXXXXXXXXXXXXXXXXXXXT09dddPT1111111111111111111111111111111111111111111111111111111111111111109PXXXT09dddddddddddddddddddddddddddddddddddddddddddddddddddddddddddddddddPT11109PXXXXXXXXXXXXXXXXXXXXXXXXXXXXXXXXXXXXXX/jjsELD3ABTDTiIeSwp56vYApBmfviFdWfEwFi4JhbXZL2P93vwAVglwqHkNKeer2gCuN9QcsrnUEf85QAyjZSGjkf9w9/61EGYWiXENIN2nAIyynPJebU3McOIJIYvgSXoe30gpdBUS/v3+IL9zEL0RX5CCAACA6AAIADFjQBYRpT0gvPj1e1IgAkntAMOt8978AKC/cwCpuu05iD9xqpSUBrqH666666666666666666666666enrrrp6euuuuuuuuuuuuuuuuuuuuuuuuuuuuuuuuuuuuuu+/111111111111111111111111109PXXXT09dddddddddddddddddddddddddddddddddddddddddddddddddddddddddddddddddPT11109PXXXXXXXXXXXXXXXXXXXXXXXXXXXXXXXXXXXXXXXXXXXXXXXXXXXXXXXXXXXXXXXXXT09dddPT111111111111111111111111111111111111111/fOAIIWGw5gAJkQ3dCERxfQj8ugAYlTduJy/sBYjRqa/6/+DPymCAACBGAAIAzAAPGoxK3ly+UgAAoAAIAr2QNgAIRF7iD81pa7HsLgA+bzMx+1V94cP4BgHBAWyINEHSSW80k9Xv7vvvv/8cBHhXAATIhldBGYklbGL+RmIjKK20EIa1RAAAgKgBhDXB3fffffffff/44CMIVwAEyIZXQRmJJWxifkZiIyittBCGtQQAAICoAYQ1we++++++++/h+LQABw7gAIE5WEJC6ffrZzdnPhoISmt1ik8huqDgsDywPLA6Q7mEXrbESFLA6Q7mEXrbMRS2tra2v4ceIcF0BwABAVADCPS3wERaYHkKX4Mil7777//HD4VwAENRCUVmtYjls1fwkFITe4xqfQ2kDFIKr77777777//HDHCuAAkRiKyCs1JCWNT8zIZHURtIJQ1iAeHfffffffff/DHDhCuAAkRiKzCs1JC1NT8zIZHURtIJQ1iAcAFswAgUsoos0zd/fcP1DNdddddddddddddd4a666/+P/CgWgCAAEGG+XWcXQdQDgACA0ADDT8sAIh+tZTXd6kr56vyGxDkcZ/LKW9y4Y+IAGAHv+AAIC1quygCAbyKweAkIGLSOdSTs+oCVlBzzqDVlrsAAAIDhARkY1QhMAAi95AEj/Y3Bko40NKTZgCOgp7yhtT5TIaIUghyt4YwAjILBvUBtTBOnmEQSyHGM3a/SiDILRLjG7tAn+qsHiX8JlAVgYSmoD8fzD0TyfcFUUUg6RMxC1Alo///Au5nQ4QTZ3XLT/hr2ZjMYJpxRxBRu0BPBlKFai2Yelnv//1Dddddddf/H/h8KYALCZQChTN/NIsNm7X6mD831DsUAA7cM4ZJ9B1FuYFbmarQYgpxJOL6/7rAqYBIphV0Nmv4gAAkAAcBqDgK0WKkiSWhF+rNBfMcHPSnjPo7f+gARkFw55T01t7kY1xCI53IZ+gmYVlV2Hvn/fEUZjmhSncoYdrQD3pQ8k8v1vMIwlkOMY43a/6/3/wmcDQNINXCZOOIo5X+/yIxFZBWakhLHpD8ohR3Pkg7XreGHUMigDfffffffk4UDBcemGgAXGDZQiizSDiz1e4ArQsZZ0mkgjKLD4ABDKPgos4tNbeY9sV0ZSkzHKGDFgkaAGn4p8mo3754AAgDekGxQBtbW1tb77///4UDEABzXFCiOkaCk32VhbbAAGJVCGCzhvvDZ6tHgAGQA4GpS3qKhPEMG7NwJGiQGLJS1lhTP+4SxmDIPsOqtzN72DFNiZhBaKSjx/gRCKyl/d8+zW4wiC0QDEuh03aATBdiNpzzUX7WQZBJJeUxpu14kGZ/8R1Vi5PGwzvtildGJm9zMSoUnY6EKwYZgABEBQ9+W97zNm/Zv8MsPiCePvvvvvv/w+YcKBoAC4A2DrVuFHhzBoP34FxCOYKSeUIFnd8/wRGDZQiyjyBKR6vAAPESBYeiqINPkn/4MHj8AQEdqcFAdtqzTRyKCAGknKMofUQnpQ13qMhmOFw4oSju1wBGM5HMqnAAEAikgF0ojEcAQgg8sCRfdoBQMxmATl7qxs3ZU0CPi4HHU3h/CdG4JDjJsjFLT6AA+lGQzACEknFgSLbtcZGMj45lIOhiww7AAh1CU0mBtT4yMZHxzKQdDF+GobPAG++++++/+IH4jwoGgAeGYwMJ2WLMMh/nwCmuKOI2/QQm6wqJ7j4GFImRE5LEMT/cz4DgAGQBwJah8fJgAEM7+znHcSAsq/9va9mACArGMeL6xJ5gCONS/4sNqaAABEAQeMZ5ggBG8sG/Dg2pgSL5jgAp6U8ZoCpMCA0ZABzjzr0GL37nIxqKhDTl+AU7ymQ0FSiwM1cJUgFIgyC0S4pu7Qf6eYRBLIcUzdqlEGQWiXFN3a/1D/rrrrrrrrrrrrrrrrrrrrvvrrrrrrrrrvrrrrrrrrvrrrrrrrrvrrrrrrrrrvrrrrrrrrrvrrrrrrrrrrrrrrrrrrrrrrrrrrrrrrrrrrrrrrrrrrrrrrrrrrrrrrrrrrrrrrrrrrrrrrrrrrrrrrrrwAAABUQZo4F+AIB5g1gAzrfK6fvd4AR/PDfyhwBwLqyZ8CQIh2Guw0AEriJz0+XvHgEqkTMVyEgCCtt0g6oDE/X919hDE8TADE9dN/ffH/AGb1/efv+AooAAAAG0GaVAX4AaB8ocAECic9R7/gSBEOwzPGYQwFXAAAABFBmmAvwH34Igxu7Avvu4AaZgAAAA9BmoAvwB5z3wSBxd+gDy4AAAAVQZqgL8AcR5Q5mxQImvr763VXgDyoAAAAHEGawC/AIB4Iwxu7wIguU+NiPEeI4AkDLVoAQSgAAAAQQZrgL8AcH3AlPyUCDoA8yAAAACBBmwAvwCiHhAUBxHiPEcASD2UdlxwIb9a1BJ4nlQB5kAAAABhBmyAvwCiYQ3hHAjCuAI/1rdByD3gDyoAAAAA9QZtAL8Aoi4QhnEeI8RwIvAk2I4EX4Ej4Ej4Ej4Ej4Ej4Ej4Ecv6/8CRr8EgIOEbUdr8EZdOfp6u1igDyYAAAACdBm2AvwDGcGOI8R4yErQD8ZavvL4EZ5ZKFRQI/hoKwwZbr8a7gDhIAAAAvQZuAL8Axh/P5/PwIvBTYyFLQIvwJHwJHwJHwJHwI7+CaBIfoFHoFGv98FDwB5cAAAAAdQZugL8A6nBDiFxC4hYB9H61qgRGFW8CO8J+AODgAAAAoQZvAL8B9+CQMO7u8Bs8FOIRcR4jgGsfawJHkMMe+n5WhEXuiwQB5cAAAADFBm+AvwDqH8/n8/ANh2gg33Aia14bHYbMtrgt8UD/eevpkLHH8CNdnCpEwi+H8AcJAAAAAKUGaAC/AIB7DW7gEc4N/g5xCPiOBF+BI+BI+BI+BI+BJXk68+vQiUAeTAAAAMkGaIC/AffkDG7gSfQn/6//X/6/gNXgxxHjJLYjgFk7QyKBJpVz/hzqbFzhIRS+t4A8qAAAAN0GaQC/AEOH8/n8/ALR2gg8CJ2hkV3Yc3SfX8MjNVjW+n/PXw+3P4EXw0EYKaW5xfhrPf28AcHAAAAA8QZpgL8ATJwW4hcR4jgEg9BBvuBE18n39yBB58gRbWBI+BI+BI+BI+BI+BI+BI+BI+BI+BI+BI+BI+CWAAAAAO0GagC/AMYLhJ+o+4DW4KcR4ztiOARztDpSZaCLwIz80EgS5s7eJkopU/DVSZ55kY2z/gRvIESWzMAcJAAAAb0GaoC/AIB4Iw097oETxAl3d3e8QotRCvELAii3dsXq+fWL1aA1bgf+/v74BIDywIlWccsMYE/+vafueuG89pEU1/v9nwRHf4ETXd+cesKZf/lwI3wJHwJHwJHwJHwJHwJHwJHwJHwJHwJHwJHwSwAAAAENBmsAvwH8MQKAotD4hYCNwEBQXa/V4DVPF5/P55YEXgpuoFmBF+BI+BHL/5KD3fydqVIEVeoJPNnb2CiCiBIy4A4OAAAAAQ0Ga4C/AfgxAod8QsCOvAQGBIOwrAbB4+BI4LcQTiF+CWAR2yfzhyLjLOP+/v1Zz18Ps1+BFyQ0NSBbfdfwWe58AcJAAAABxQZsAL8BaH8/AjeCQMO7uyBKEIrgI871wdosWL1ygNUX0y8FvwW/BjAjfAkfAjd52Jk7QaKKBDuznX4NXL9P0czgGuCr5Eapq0tkCt6BYwVF7rqCo5V/DWhxHWfhMiCB5heHYqQjbGRzd+f6gRsTgDg4AAABAQZsgL8AonoKP+r0LUVvARx/PL1A9wGqfgSOCnEeI8RwGmeEa19TgiX8RCQ3Nd68EJyYTN4ES/dZWhZE8uAODgAAAAD1Bm0AvwCAeCMNXu8CMIRxWAWbCGzsbAi8P4r+CGAje5e4EPtBS/rv2+rPg409SvBV4bRX7/eseBEq4A4WAAAAAUEGbYC/AKJ5Qo94DZPKsXrFjNcoCNxHOx+fz8CLwc3wK8CL8CR1Aj+cNMmqGs+f0/KDY5Fykjb/g4r0VwBF1OJSD8P6PeXEH19O43/DEAcFAAAAAW0GbgC/AffhQMcv3eXy/u7wJPiive7viFH/AST+I4CNO8BscCDnnz+fgJHuBDfk9k7ydBAwvLBRxr3Ll9dOflKWGXqPlfh6Kdf2soEXNBELgyvd/UEMpvX+gDg4AAABSQZugL8AoZ2CZ+EOIQVFaEK4EU7vPwEgfoQ8BqnQnPPR+BFqBP6+vrgROXrk7gQ32QnoCdr8MBrPDmyVOpt+vL9gToEZfhoWTCZufhll/3gDg4AAAAGtBm8AvwDqC2EmNoEjCGBI9f/r/F618FcBGnQTgSODHEeX//4MYCMfr2aGQQLvBHwVfKiDEU18ddN6le+n6L2pecq+DVy/gRfIdIK1/6yYEb4Ej4Ej4Ej4Ej4Ej4Ej4Ej4Ej4Ej4Ej4Ej4I4AAAAGxBm+AvwCjDEFD0fELi2EndARmMoKvYvvAR4vVyAjsRgSF/8P/B3l//gRvvuBDfknFL4ac69n8vr79Q4elHHC5jwtera6w53cqMOJ6OvXHXmqBTrdT1KVPq5t/gRqfpTiQAnER3wa7fcfwBwcAAAABLQZoAL8AonghChVFCv+r/EQIwtxW1n87CB+BHxOAWXg5QVaz8CJ3XDeI684SXCuX+BDL+l5Ckwu/Sfd79v3WD36s9U+ff+BFq4A4SAAAAQUGaIC/AMWd7PCjgRTvR/PwGv6L369ARx5c/n8/Ai8G9ilgRaIDba8GnWgkUX4Ise79AjOtznWGOLwOty/arwBwcAAAAV0GaQC/AIB4kMbu94CM9XgJI8sCQJ8RwIouUV/oXrWL16AjTxtn4EbgSd+sCK/JQacrQEhYvc9c2hN53zcoS7nr8Zm3EWBX+CGpM3IEXJBEeB+l6QQBwkAAAAF5BmmAvwH36DCYgJMXKK3xHAii3tAkHdZ+hHAii/9jN3QJAvsz8BqneBIfakFLvpT3AyzU9oomj+p/fTGpf3ib+/VwIuoaKXRHNaNnf/uGSg8s6dJ2BH/jYXkZWAOCgAAAAPUGagC/AKJ4UCm7u7u93u7viFgSDq4CPO7Gj7oWwkJe8CJiMAkHGyc8CJqxO5cfnqmHET6w/wI2TvE+AODgAAABZQZqgL8B/egUPiFLn0EXQI41bwIotnY2gSPV8/R3gRDsJF4EwXCd4CNP4vV8+sYqxoDUfknGLEpr9PJs9fzkS7fupU9/wQ1Jm5AivX9oMnA+S/UJ35/wBwcAAAABVQZrAL8B9+CQMO93gSPQx7EIe4CQP+J4thA/eBHPCcCKd8/n4EZfwJfrngI7iIEZ9qcUvhvsf0p6+QJYlCXX3N1f5M2fwzUmboLvT/8CKX//efwBwcAAAAD5BmuAvwCjcRARx2FGMBIYYwJAt1az8BrbUCTv7nNgo+cfHnqMF7/XUCLqGsMmTp1BIPbP/wzO5+p26/8AcHAAAAFdBmwAvwDFnYJC/6CL58VxC4jgRcVgSDvAk/AjnfPwCPF/X/Xs0orPzZ3Dhcoy6Ycalm3nbLo09fnnXMFUt7//DMc9Py+GM9/Ait8RPIL8Os+/lqcUAcHAAAABHQZsgL8B+eCMEm7viFDAyz8EYu7u8CKJR4CPyVeBJP5/PwGqKc/Aa/kFExn/BJLv6nnv7giLlzUCM9U/UMwt7+UPsr/gDg4AAAAAuQZtAL8Ao4yFH/AbPoc6BDOyOU7n4EY8I0d4EMWxQh7wGzr5MCRr5bOOe+AODgAAAAE5Bm2AvwH36DDJfVgBDHsU6+tf0PfOr/V4CPP5+A1TscXgEh855wUkNzVEn0hzAOPo339/t3FeBFaWdhqSzXrAdn0//4ZjnfX4YZ9+AODgAAABTQZuAL8ApB2CJwIgtjxW1m/58OEr+hR10ARDsIOQ8fARp3z+fgSfRXgEcfqhnb3VcvU9cO4Ef9/zlX5QqMvXAjanIvyIx1/+8/OU4oJ39n/gDg4AAAABIQZugL8AohsPg3wRgohd3+gfQJgthCyBEOwi4Ec7GJgTBEXAJBywI9nlJy38Nwv5m/qjwMw2Cp+BGerf4Zh4yp50+GMC/AHBwAAAAM0GbwC/Affigxu7E7uAkfV6Fyit+tXgI072L7wCz4RwI2phD38kvP4EjUNa3WH9H/vAHBwAAAE1Bm+AvwH8MQJi4xAjegm9BXoaC5xbzH2H8NKX+xnf+xocr+gRj7gJA/n4BajsU4EZ8S5yr/DkV43/Ai8Z6hoihf7nT6g9Gu8/d1OAODgAAAENBmgAvwH4EECQtF9NPAkhlBEVyt0D/kLbFUBHncVgH4L/6oQx6qVPc27TgR9QrPnjy8g9M+/9wrdhP2+cUF3H/wBwcAAAAY0GaIC/AKNWgo8CMdwa6Bm+H/xHsHzFb7wIwjzf//D9A/Ci+wqGwZDvQVDoYEnxIq973ARo6NugEf84pf4TOG/O9ZfcOF4zovBXipP+C/i82d4JtmDj6X8CM9b/BCQP/v9AHBwAAAC9BmkAvwH36DDy+J7uVRvAj+i3gRclXgCQPBIIbxpcPUN+y2uHcCfwJGu8/XKAODgAAAFFBmmAvwH34oMaN33J6GPAihePdDQ0P7JfoJ4CPDbFCH1r/Xul+tYB+fMVTbrc5V/h+IpX5p84EXYryQ0ZQ2ZbrC69ejGov+GaMy31+dNXgDg4AAABIQZqAL8B9+UMcvXoUlQEYeyuvmhNCgpFuUTHRp8B/yFtiAkCFFcQsA2TwIMCBgI3X3r2Md8CJTEeSCKzNmQWX3/PUMs5/wBwcAAAAP0GaoC/AffnDC/Fs0MvnpX4t8CME0V6CMtzi1DKUYRj70XgEe9ld3gFn8gQd+vXok5V/BXwIwJDSytkdfXAHBwAAAERBmsAvwH96BI8CN6HvIdiHAhnfFxb/WFN2mFQNhIc5zmOnOuO5joAj/fL/vgtNe7ivw7qBEy/JRi356hgZ9/94S8AcFAAAAGRBmuAvwH56BA8CSFY0VkFStH39lKUZzjhLjgrmi1OiQaxWdvOwd5SnYXRocr3gJDwRXfeAfXzilXCHDLj+v4cPjXswvCL2LwI78RCoiTObJLykRh3Of+4ZmxWXnF/DGnej4A4OAAAAQ0GbAC/AKMFYUkOoJiOPmPHFniTjpSjRUx96Jpb4BsfBEd3vFAanX7CD3rcx+X/ISXC/AjPWzkXyBURI/xE2VveAODgAAABhQZsgL8B9+QMbuXwTdyK7veBD9GeBIND//Yf2LhOLf/lOHL9BSln6vneAWf0fKA1S+/qEwhxrIS/7N/DgnLE2L/Dcy+cy/Rpoev9Mgc0fAi+Gs2cFRud/3l5/ULOf+AODgAAAAGBBm0AvwH35gxnUOAkzfGv/Z8g/YOwdHdCeYWMV+TlHHAim+scAzy3nGyltAuxP9YXU5Fo7THXiTVxdBQge/Np35Tm8A+hfp/Q6rfK+9V/DN34oecX/AivJad97skuAODgAAAA7QZtgL8Ao1cAjp2CBwJhgq4DxGYcwT6NA8hd690AjnhoJCXPFcYef9+cWvDc73gR9TilIWFhf91ygDg4AAACLQZuAL8B/hBAiCiyX008CMGYREg4GboSZeivf2h86P1jrXwTxd48PvumTRXNFnzor0FVU7TnZQodgevK3A9DMaKE85Xa2V4EYKrVzl7A0DYNBfyHQCReisgNTpDHS9QIb6S/BgTPni6jxX8l+/BfjK34bIwvrIWPT/0iSgRLvft9FgljXuLPnlAHBwAAAAGlBm6AvwCiBeFBA8jCGJlIpuQ7nQzQoFDMTcw68AkAYZ0mEU204jkDuwv7QJQY/5Wyl85lBEFdJ36ugNnzjF/CPcwIj3/tSi9zF2nrVYEV+Ef4aFbnxfOWDWd/4Z5M4Qwz7Hwd6nd8AcHAAAAAvQZvAL8AotaCXd4Irv3gNU7wG56OVIDUf1fnFd/hHx/bXSGVAi6nqjG53/efwBwcAAAA+QZvgL8Aot6CnQJFcA+1UchG/hHuORlqlAFQInhMQXPzfYiUTn9P1gRnqaCUQ6/A3rnPcMy3Qe/0h97/gDg4AAABFQZoAL8B9+CQMTlJ6UUyvLwTcl0Ii53dQEbfAEfE++pPOKWGMA/1vdb71UJFyfPn6OSD4faf4EUv5vglz38mdvF9dQBwcAAAAUEGaIC/AKLWgpUCTfAPrVHJ3ie4evzsvR64Ildjwke+uBEdPnEL4YRPfj4YV5xcXgQ7nr/Aj6hoVLcmSqCugLtjk7+4ZrO5b/p89qQafAHBwAAAAVEGaQC/AEOm4//2EiG4RvAV4sHl31wCynhP6OGDF/MXCH31AkdHFHF+r/35huY4HvVrnEL5Ew/Fejh39QIr1NDXhWuXzJnv7hXszfnlDjAVBfwBwcAAAAD5BmmAvwBxHRw0v4a0YEPogiNL5ff1ND4936oaUVP8NCGpPWEPn8/gRn5p8OMA0mevl/3i+uGNgljUi2AOCgAAAADNBmoAvwCjl+v4Ajwn9fSRw0uUsOPXy+CPwe8eBE8EIguX1T/1rlLPmBGerbuv3ZMmQBwcAAABeQZqgL8AcH4YDXL8EP6Nj+QNhL+Fqj34bz1+BD61vYZEc36cJYx39UNi8QJDnh2DjmF4Ci6ndcAjz6fU+C8RENNN+pRw92pC//rgRfCsfy/xPqo01/+zkVJgX//AHBwAAADtBmsAvwCjegt6AI96ORcaLJa8/K+sEfNhSLoEOpN79rXRMIEbUNdQt8dPlBITKvn/hknJNXyfO/AHBwAAAAF9BmuAvwCi+gp6i/61AR4a8wrKTQRDuUVlWHp/tMpQCRHeAi37ozy1R6KXhNUE/wIngwEPaiWHqHey8YDJ/zj+6JH+n6/JAivyQqMmz5qEFhhzR/vE8EvHJMPH3/wBwcAAAAElBmwAvwCiegs0AR/0ci4fRd5rtm8vR6/gxUvAhvkrW9oVBZf18LF5e5m/OvzBIMJwYEbUNdQv5fhxnr3l4Z7qIjumIh9zP8AcHAAAAQkGbIC/AHB9IOSkonL/tZ64Duu5/gQ6k3v+qE17go7vzYVMv6+hlQIz8kK30uPNB0lHw3mn/3Px0jTfG3koL3wBwcAAAAIRBm0ArwCi+ICRAZWtfxVVyrp/pWgI4M6ncU7oJjMK/OXKdMe23gRwm51Up1k06Y8gnH+Mwv+AWdfQcEZqGzuMFybNfXyUkcJmF4R7n+ihLUOscgQ+jiF1K/6+wzEOdfhO4yp+3S4Ly3DHsc00HtYo4qRi/Ai6W+zSeb8sEvE6Xf3IA4OAAAABAQZtgJ8A63UA1vRwwv8FFHrJr9BvszUXC+O8NMmBE6BII5u9r85V9Qm49Z+5IEVbeeoYipF0Xx8FNLnf3tcAcHAAAAHZBm4ArwH36C3oEov/Wit+rfia1qtQIpisJz+saec4creQNXH6PRZS0xuFegMh053MIoHKd5SlJpThVZDow+/oU587ehsDYOTG/q0CN6tANc/eTo4kqf4TeY71Ah8m9l0GHDf5Sl74EZ6tghiWHg3rgiieeUAcHAAAARkGboCfAKIT+u3wVhBdZlzlNa2+oCRrgR+oBZug2K5pLhu5sI+uRs8liJwiVP8E3p3Ho4QXBfzv+BEXWYw3V9rWu4YgDyYAAAABYQZvAL8Aoxf/4EiuBG6+qL9foLNANZ1QyJpEskOeCL5q1f4ZRNflCG3AotAEXVC/nRYc8GX1eGb8P/DQ6e56mWDcST/wI3Z8sObl/9hnqmqn3T4bwHfAHBwAAAF9Bm+AvwCidV1+CIKVW0CL4Itat+vv1b8nVQIvucpq+oEgJqxpWE5GOv+BF1gEfqQ4pfylwO6f8v+1319HrhZevgWen6wIfJ+YRzdr9FwgRn9hnyZnK5NOFTb3rrlAHBwAAAERBmgAvwDqdILNXStAj7wCzdHELwZ2fk1Dg3jc4vDc7n/UCIus4UUGUGH19l//OVSXnW+BG1cJXX95bnqG4ntgX/gDg4AAAAF9BmiAvwCi+woq/wTdVVdvyco8oEZ71+vfSt+hzIEUv/6GtXS9Aa/JAavRxC/w9nPV5Jxff4SPbepDilw4zv+BD47XwixHLrdecq+EfH/HADf4EWr3XYIfN3+1OKAODgAAAALBBmkAvwH36DSd/QhoEz1ZAjeYfqsLc5wxSc/DDM5SjzhDrhRwy4687B0DNMCKGdWUdeLWZSm9+x/99gj8lO/LJ+BGXSQJZ1Oq1thXkKZz8xYpSU9scpyKVkCPyQCP9BwVpDWFwl95Qf3Afy++XnKup799HLF4Q6Yb/o4pf4OxqBEWtBwz6yy8wuG4evyBp+CYvL107wIz1sM3vghiGRx//hXmzPhN++CTw36WBP4A4OAAAAHBBmmAvwCiP1QUb8FGqqqqrV5qsGqgRel6uoEh9f4ItM6e0CR1Ai79cAj3Rxi/sMO7r6R+vo5TC8I9bfCPc9HFLj8z+BEX9eHB/Hq+/wFm7Sr8FoQJ+Xv2gRn5Wfljj1s1mGm6+8nPVvdn/64Y4A4KAAAAAc0GagC/AfwhYEjzBStQIy91brBRqqlKrNq8lawI3S1Aj1VBXVD9+Q612jCuBG+BL5IDUf0GxnL14ZZ9/uc8X+CX07vfX5TYQ3hYERfQIjZIer0FTJr845QSPH97N3mO8guMg0hlLieBG7BIR34N6v8NQBwUAAACBQZqgL8B9+CQNaq0CQdmMov8FI2q61rXv31JD4Iuq9l9/oEeqnHmgRda8EOq219K0CL1VUrQI++v1b9WgRvVoEj4DW6OMX+Gorz3R9XUn0U27gRC/rCGDAgr750sEOQ9NqeEmUo6RXDEkH8CM/U9fODMEj2zSKfUyM8yX/0waQBwUAAAAl0GawC/AIB4Iw1WvoEXyHrWX/8ENV7fgl1VV2ugRX7/X4So12lwI/S96/ZJyi4EjqBHEa/VoEfXuIgNSpA4M3deHUT7/LRYKqvo9eHHG/0ci5gPfPwOyfWBE6MSd9V5wivDss/9UGxhs+/9XIHsCMspRJQz4d4ZwAMV1c/M4/T+qsZDXJ5yhvBnCLRm5UZwcH26+4YgDgoAAAABqQZrgL8B++gRNQxbQIvVdIf30tQIxf6+quBF9Wrd2OvurQIu4JK1t3gk1W3r9QIvq0Aj/Rxi/mLg9Ea/tfRzr/AN3w3K+imu8CH1r5SEe9r85VDcvzvF50+mQH4EZ+SCTEc++yS8/98AcFAAAAIRBmwAvwCieCcKLXWrfgirX6u16BH7+l6BF66pW/NVf1Ai/90X3/gRer3gR+laA1ejjFyogiXPv9SXknOvBKrPtR/qBD5lfa+CcVn8+er6DJbVLC/nX+BE/dyelZWz4IYhkDtyFgOthhcjz7ara5fNAifAkfAkfAkfAkfAkfAkfAkfAKNAAAABpQZsgL8AonV+YKYazmBFrGayUUodaLOpWs6/atv81czq11qBG/0vqBF6ragRta+AjvW0BHvpr3vUEgjiGD9SHMuISPA+5eBE6DO29Rs+cL7AvZPr/+tD/wIr+0OzH5ZMSwI/DGIQI4AzuAAAAdkGbQC/Afa+oEvxYUrVawIvoc3uhrV0rQIvoY1dWd4DVEIeq6VoEb1aAjqkDgwuPd+YdH3lmVhJwzvhAIX0cqYeCP43r/UCH/2YRzdvpQXlTfL+ocm///9DcIETyDZ/+wmGjw7v+z8PswTbPIPr4EfjMQgRwBncAAACdQZtgK8Aopf/oWEieq53KBH19xVddV7/S+gRvfVVXAjddV+CKurQIvkqvFEhqgxbHWQIh48XXS19LUCQX/9bQEY+mgRjJfsfV6Rysf4JB4zHeQNmj3dcGvL/gRF+Gd7y+GoviwPYwEZdGE3h6p8Nm2PqUGjHcOIf1unwIy9s9wQNPDjdbcfZ33YV80dk3UkSiF5b/6OC9R9F7+AOCgAAAAHVBm4AnwH34oLaqq7GIRcrwRiVrTMCP6O0CN39/a1Ai9gk1q3qtfIra/gRfBNWtdW9LrVoEbVWqtWxGoCPPwEa+mjjFyB0Jnuf9SHroYkv76OVeCPZmV+v4ETq/KQPe+BGf27eEqSVeoV82FQZsDBWPzf4A4OAAAACVQZugJ8Aoi7wRhBa2y//q3WCKq7b3XFsYmyBE3rX6Q3oEXv1X3vAj9Ajqu1awIuvlwJPYIqr+gI71a/VoERN8QcYx4LvO/ryz1/glaG5XfRi3vX6MxAiVIHPN1KLhHxyu9b/wRj8Ef/rqvDIzDTlwlDLsv+BGJ9fPeDD5ITEXtSfDu5NY+9b7sF+0T6TvX5i1QXuAODgAAABlQZvAK8AousCT19QIvX/3+CQJKu0CL/3XUCLqtQJW2tQGqvo4xf4dZ99W/SOXvBF8wlwH9CSfQbM5aZzBPml/wIfV9HErw3b//glNe5/7oEbsJ33d/yhrP32NSLIfeX4EeqgDPIAAAABfQZvgJ8AonsILrW/r8IdVWutQI3X0rfcCN9+61gRda6+laBFFuL1AkC9W/W1eCTVbQJFwOkCPfAil/6a1+h0F9a/Pf+DFs8CJUgcw9Uu6l+HJYnv4EZeocm66rn3wBwkAAACCQZoAJ8Aopf/rfrAk+CEISZ2zscTgRNa3IPWv1AR3raBJq4EYW4u1YSq0COIxdDO0CJ0cZlpwi19P6PDd4ZdZrpZ9H6FR/UgcFRlevAdViWeAUe4+/v0jOgRHyUfF+RGHF+zK664EbsMwlX6fUgauWzB/GpryhqXvqtf7mDSBn3AHBwAAAIlBmiAnwCidZf/9e/4UCC11WutatAi+rfT6r6BHqtvtegRd61VvqBEFsIG7pO2EdVASGhUCMI1ARz6aDgx38v5UQfZ3f55U/kE8f33qq0jli45zgl9e0iSgRC/VeidXgkE8Pe7SiR1nIodWJD4Bn9Hfx71vkgRNogZhl1vvRZdd5w0pquQK/gDg4AAAAIJBmkAnwCia91+gg31Ai7+tdLUCNqtQI/gn1qq1tXgiqqq0CQIxf62gRxWTIjfwERAjCN596/gRBLqz6gRF8gcFF0RzIjDhE58MNYv9HIuR/mHX/cCAgiVXUHH19HHHK1C0z/AiE/p//s43x/CJ35+vgRuzjlJ8P5IWNRb+ybk+AODgAAAAfUGaYCfAKJvAka32gh0CL4Iq1tfQI61tAjdgl1qtdUX/81VwIp3EfwEhpfwIxf/7L//AR1QEBAi9IUU/0CMhc0T/BVSb4g5VycEx8+1P+g3P/qnsaPwIn77gRfnPX+HZZGqPUdEh8/gRl9hkj5sXNUee/tZ7PXX//3inwBwUAAAAdEGagCfAKJ0gg1L91XAjdQJHVawJGrqvL79a1Aj8DhivvgRMJKTgcICNPrf8CK+mjilkSybAh9zzli+kRKKEQr6QcCGMLuP4R4fa/R9z41L88XAiVJXmwi5z/E7vV3vgRl9mI9/smPr42C/CAR/8ICw2ADgoAAAAmkGaoCfAfnoEDSeCMWq7QIvgpOq1XWtW9zZW4EfU3Vfjuq1rWoEbaBHVevwSdVatTa1i2ECdoEaoCMQRfrX+d4ESl6gIT4VoWwhZAjP4H9BNoEX0EmgS3/Ai9HPB8BI/Tbq9dxCMwfRzwc1Bkuv9Bu75zgemtmw1o+BEJ99fnMsovMv+qKEXlul1nFL8I2HfreLwI3aNLVdwBwcAAACUQZrAJ8AofgkDirV0m7G1qBF7VvTVq1WoEQWwgF9HVydOgjrX61AjE/X/X0CPhLASHAmd8CSIlgReguO3d385nLx3vpviEZKL6Dh7vX8cK60FX1AidGM59lZS+g4Jl+vDs73/PUCT+bun6V/gRrZziJRgSHh1n0dF3tTB8R2ZhrP11oEv0ra/HRIAm2NJ/AkcVAGdwAAAAJFBmuAnwH2/dBZNAk+Q9aronVeqtAjbVbr6BF6Xu4CgXsn6/6tr9egRb++vW0CJfXDdF//gRP6XFderQIn9wT4iV4jeK4ETga4EjhE47YFLDRrijUuwt4RRmM7BLXQcDzu8osc4weQoqTh6Hr1IGeXK/jUv02BE6OZYYtx/r+vgRl3e+7xsGMEYbOBGELiFgDO4AAAAf0GbACfAKPuggxAieCIILVXUX//qkEW+lqBFL/+tZf/1rL6/5f39agRl/8D5r+BFza9X6kgR64El/wIvBDAjrqQ4qCNFkslf/o4heHeL9vUkwla5frkz3IHVy/+BEX9dQI3BIQMwQ+7evgnBgHr13JmFPDqJ9/ynrmHmM/gDg4AAAACPQZsgJ8B9+CgLc31Vz8opVqBH9FbfpmGqq/St6q0CNdC9a6rL+6+/uBG4CKV8v/+X1f8vwE5+vYthCyBEbf98CT6CLQI5f/8+s8sCQI4CM6DIzl7k4bBN6Xv/6voN7vY4buaIC8fqjD6zrAy+j3Ama/NuOBE6OIX4O4anD6X13Ij1AjF/+zmX+GYp1XfAHBwAAAB7QZtAJ8B+iECAXQhRPAI27COb+8CLwEFl9/Vay//7/WveBGL/+rZfW4HCB0y//raAjvVq6VoEUvwO3+IWqgJiA1Og0Ix1l9MFR2X4Xs8d799Ak3fn+oETo4hflF5obr7MeXzb8M5/r4Owa4EXm+UEJg2rPvquybk+AODgAAAAikGbYCfAWp5YCO4CCy//gpCmqqvVVb1+1r1VyBFL/fr2X/6BHqusv/wEkvV6CDQIm6CLZf+BsgcMv9/iP4HyAjeAgOqgReBsy//59wGt0cQpLS/v3OKXBmDD4T8Nu99HEwfkTjJQ+oETr8ovH6a+BGL/3YcCHJi8JfMGimmRLfdnrDSyLQVf/fAHBQAAAI1Bm4ArwCAeCMMaqmECJ2j1XRuqgRi+1+CSq9vgfsn1/A7eX1/NqvwERAi318CN6K9erwInAQH8CPXAkfAlHhGhDwInQcDh++p0y7xMt+jisIz3/fQcEl/WNFCSasJ/3MepXy/hvPvwIlUCQksavdVAjcoY273bqsouNNf8oL8fX3Jl6/mDIEb0N7XwBwcAAAB6QZugJ8AonSCHb7UEda6rgI7Fscm0CIX/gcvfrk+9/yBFVWBG3gR+AgP1b9WgR3/AI/0hT/V9Bjy+78spY6aedOCV6zgI/R/xYQafR6/PR7wInX5zr+Gbd/o4h/CLkZ/z1CFy0v/4UT4EbsEJhXeRtd5OeWT3yf4A4KAAAABsQZvAL8AohPV9r9ffSoKNAjP7p/XyQInoc0nQIQiq7QI+hH6tAir+AR+pDintiJHMFAaz5+s4hcgyX/fSPB9QIlf4sS7vd3f4cER2nY/w3bH4EZVyhw2q4f4dwHVee/CbTC/4Ee2iBeMe4AzyAAAAfkGb4C/Af3oEjQIz/1qu//agRX/ASGkUKquBIf8Bs+bd3+W94EVdSCBnNLEc+sWxIZUx8V9SIVB1hnqTFBa53/wInRyLDUux/+FB97u7vdjd7u9VoRKBGL91dhkz5t5GQUlTDcTUwZlC5R/zhqO0f+upCYyfgR/OEVrP/wBnkAAAAIpBmgAvwH34JA0q7S++qgRH/v7R23ye+uBFL//l//3wEpwIvA+QJJf/4Egv/8Bs4KAWeDkGECK/o4hYQ3fP/qgSG3fLfggDOMhul+jhbsN56DsOT3HP9BnpJd+Dsa4ETv7ONXDt+f8v/0CwU7u7u7vhzof+BGX2CIzu7y1+Fr3vVN38LIesCPlwBnkAAACPQZogL8Aohff4HrL/X5f+AgPL8BJfwIpfS/y/38COOhJNsv/6t+rQI3AQ0CQ/gIKA2cEFXgRi/T+GhTxL3Xx6aHUa/oNme74SjkdD+wdMnDMMuxXwhxCBHrXOHoP44L8wcfwno9Qfmf8CJUhCFf5f8IpfagRqL13Z8UkblT+u8EfPKUUCO7xZziVjn/4AzyAAAACJQZpAL8Aohf69BRsv795f1+BHqAjICSPqBFXwEhAI/0cQoEPscOWyz7//o5u/Hd9dCECH6DIa3dh8ErQ2f4Z58H/L581wInV3NAjPuUPwRO06bZYdcHu3DbcbwzfY2iYa4sOy1gk9jYV9De72g9U7JalMX+w0sgokL42KZI+g08Gu/3Aj+tQBnkAAAACMQZpgL8Aohfe/yfX/kClay/+sCL6CDScqCbQI4hReJ4EWvr+B0gSeB6gNVeBU+qtQjGdAInQIhRbyZ2sCv6EIM/RwwsF9thpLFvRQf9HqPzP+BEX+Xwx6zi1/DK3/qjiF4dt/w3bv58MfwGay/g+YEV+N67GFRMNd8CP55xfgRfp5/c5ykFDEf/4AzuAAAAC+QZqAL8B/DECQ2N+iNvfBGPVdoEQvu/oThl/XV618BHb/V3SwIhfr8ENa2/Vv++BFFZPELAjrgI54En4Ej4CPP54nP9ZBF7gRC/l+FRXDT2vXWLC/1QYM73ef6mLRo9vE/8BG4gg/WrSEQfgh4lwS5UCJ0cy4dt3/r8o95s3/+GTYQ85qCrl2/+BFdYZ67sP2s8neEvluXI4BL7v7qR8wuZHei2cgAr0Th+J4R6EsCP6JF+GRIwv6/N3/fwBncAAAAIZBmqAvwH34JwxquqpRAkHfL9eoIz1VYMv9Vq1E9fXya1l//gQzv8DpAkcDp1AUkCP8CR8CR8CR9HhOBJEcCJchw4sG8FnwrfX7nJL/jBEb/Bb7DP0cqw3Faw3L8/HAbyjr0/UCJ18MfRt20wIz8fy/9prh8oL4cef/mxNfw9F/8COtvgDPIAAAAIJBmsAvwH54JATKqq0CQX17wShNV9VrL/W4mtdVVcBOZf/4EPgITL//8BBd8CP8CPpwJB4uBJ+BI+BJPEwIvSDXfSJhnYTzxe/UNhi98v46Hl9/DO74oYBnr/gRF+cy/DEu7rrqRC4oEblDJBCxyNzrG3gj/Zr+z1j5Uj4T/wI/wBnkAAAAbUGa4C/AKHwNmX9fQS9l/6zVX6StR2FCcCJcBWUKQVgSaOoCQxOBIp4DU84qph0Ntz/059X0r/R7/BtPr4ETrqQ4lfxlE5PS/5YEd/OGxHN/o5T/65cEW7WLajPAjXEnIsNZ9/7zli/Cd+fAGdwAAAC3QZsAL8AolwFBk/bfryft9f9MJLrL/+goyBErp8TwI3wJHwJHwJHwJB4I4Ek/AjdHDClsfZ8EPxv+HyfXyfbVc2GyTfUx3dtTuC8oXMF9gwA4YhBHqQNDM2DC/wR7G9vCPW5MDv9H5T3f8CJV/aE9VZyKH1vvhiX4/AjLu0Rt8tgvlX946YWmOJfHU4dFjxsOxXGSBG2zh5YRe+vh1l/2j1v4M//gR/gSPgSPgSPgSPgSPgSPgFEgAAAAe0GbIC/AfvoFDQJC6gcKL//r+BEL/rwJefAap4VEvdgQMBGny54CY+AhsTjvgInQIhB7Lf2X2/pEyxbBDNYj1q4bDkvvlxkJjKeBFub8EYk/9dSQI6rlDIh9NzmQDPYdtw0X9gil4+v1Aj+CKXTZs/DMck+oTvC//AGdwAAAALlBm0AvwH34cDCrVfiry+CPqrIETgfMv8BAfl//ZV18BAdcCJ9fAjfAkXwJFd1mLu4EUXgsmmP30LkP3gRuBVgR/BFu7viYVxH4FnAiF/f2HL3v8PXfe/EvvzD4dUqGEy4Y4GGdh2sC1+jhxfB8a4ETw0R91p5cm/+kN78Lm47StSOvCXtr/UCMX72eU9cCR7XuvkXiULa6oOS9/vDK/OdQ+t+BH8NEVdh4YEVPwsv/9z1/oIr7/AGdwAAAAHFBm2AvwCiF/16ELAk58CLXASHlCW7vhKAjRGHHvBB8FHg5ZbvgRcBAbwKOBE6OKylTDrO/DkU6/z9SA8etdwXID/zsO0/Ugcff7u7uBE6sv1k7Pc8MCMX/u/s5l+Vgq2BHL+356wCPXw+fgn2N++AM8gAAAG1Bm4AvwCAew1qoEQvv/l//3/ALNffD0CLwJHwQfXsFUCLgIDZ4bgReCEoeiu87D/XvrDQc58WEj1oNw3z7DDUkn6DM2Gp1FXnf/AiVIci/Dcv59yQJBP0/li9fKCIuZjBAj/3Oci+EGn/8AZ3AAAAAg0GboC/AfghAmUnnHr4q+BEyAfsQj4hHy+v/fAR542AjT9n4EU/Z+BF4IPhT4Y+GIEb6PwInQaDirqUPD7P/8/D84UhLxOrA8+v3d8CLwmj9XuTyKYEYv/dgmMeUaom9xTfwvnsvl4Eep/U5FBG+KP+BH+BI+BI+BI+BI+BI+BI+AUSAAAAAZEGbwC/AKKIX5svr/8BBIEjIETDGAWkQg78IQEb5As7u9/R8rcvOGH52H6fqcOMJQYCR9PP/VHr4PzPAidfgjONr+u5vqBGL/3Kcy+ScOpzuu6NenAj3Ociw6zv4JnhuF/eAM7gAAABRQZvgL8Ao4hYBZuGPhCBGwhvhiBG+j8CI+iI4eVoffXgf87/nqjip//Ow/n/UgceaECL0rK6/OdQ/LWfCd26/AjLuym59Akd/ZyL4SYKf4AzuAAAAXUGaAC/AKOIWAI8L+X8nnDi/B+Eg3L9fo9QdZr+BEL/X14c3oa/Di31ol6gRRkOxxgw+vsWHI/T73rqw1w32WsOPv4Efs5FhMOGff8n2/+Gd7qRLzPT/wI4iCGAL0gAAAGJBmiAvwCiYQ2IWAWY/n4EbgQaEfwIMCL8CPVaT6OHF8Efp/29YNS/r4EI/o5zizg1+BFvVnec7HDy3f4EjlDJhCxfVzMr/39ns/I84vYEe5w0RrJiwXcPV//PX4fiv3wBncAAAAHBBmkAvwCj8BAQDWn8/n8/Ai8DjfA8wIhf384eUhYdi//A4HqwrZh+WD/64HAN5fevyWGkkv93Cyy4ETrf5xP/4/c7+oEaq33hk2WVcJc2v8v/A3YIpeH3uxAj9nIv4Q4M9e+89QSfMOPkPRfP4AzuAAAAAR0GaYC/AGeH8/n8/AieCUPQ491rL3i1vXcAtPfvpeqgRKk+AWgpzr26uoEZdWUj3IH75c0Zps8CP2ciwl8wf/56pou//gDO4AAAAUkGagC/AGfn4EX2HMV52Hc/+C8ObvYZfrHQVR0SH/z1+GGffgRegRFrVvoM1XZhm/HcIyeZ4EZX+vv7gR289hoRm69hvNfAp4ek/2CHhb7cADO4AAABbQZqgL8AcH1rfOHFHiJ46Lj7WtKw+CGXBDnHQInR6/h23Hv9H2PyE5f6BCJfeoEbsNiEz+0viK9j11nwxM4PfcdS3e8CP2GjN32DjxVf9znrPVD/t/8CPbwBekAAAAERBmsAvwBw/kDkPf+BF8EUv3quupDi7/Cd218CMvsMiAq1fVZX/vuxXO3jFMCP4aNq0QfDcXCcysNz5/4IeHz9pxAGdwAAAAD1BmuAvwBwZf38NB7P6/DrPvrelwt+pd7e6V0CJ1r9CX1/AR65cE4rdKI3ufKGd3uQi4qL4CH9rHb/4AzuAAAAARkGbAC/AKLwziP4RgCPfOHHHjATfCHjyXzDd3+Xu99Zxi/DcV6KDP58UDu4v/gR+kL+QIy6soh35f6ltegR/BIaTM6iAM8gAAABhQZsgL8AolQKOIhRKI8QTAEePrBEKPy5ub3zcV34It7WH7mIhR7wIlyHKsDG21/+vr6BCJJ6exAjL7DIjkXU68rv1+SVesCOm2LaDJr3g2cd4NLasD2VFqU9R0iajvwBncAAAAEtBm0AvwCieYKO/434uBH+BI+BI+BI+BI+BI+BI+jwnAiv4xhrkhv7rfqXu4EZXyI7fUCP2GyTs1b+JV994JLyeyBH7Rs4r3XKAM7gAAABXQZtgL8AonlCTv+EcR/DMCIdimwJotmJ2QDVl/f0WpF9fghu/BAidAnPD8XIsfG6fGV56w0trYv/oMiUr4Z+H05fwEdynCC/LSN/3FhnL7qHE1NR38AZ3AAAARkGbgC/AKINxQBoKHP4jz8BsH4BZfYc3cnny+Crzv4EXoEh1VVd9QI6+9fwI/hwVE6X7CHQ80We/r7DPVTmP4Zvwa81wBncAAABiQZugL8AxnBz8EPwU/BzAin4En4Ej4Ej4Ej4Ej4EeqOHOh5DOvHSX74KA13e+YJBNx3b//hm5adyE38f8CJWcq/iUP38EFdIT9Aj+cUv8JumAjvuU5q8NM9fXawI4hAhgC9IAAABpQZvAL8AxnBT8HOIX4KYEX4Eg/Ak/AkfAkfAkfAjPoyDIe5esDrpfIjH2fR2H64KChyXC/AjdHOryP/6RO6o4sq0Y7/gRuxIp88uPVXy5uMUwI/ZzdvDccycOs+6lDW71KGpu8/X8AZ3AAAAAPkGb4C/AMYd8/n8/Ai8GPxNcFMCL8CR8CR8CR8CR8CT9cFECL5Axe4Eov/LZfLwI/KcRBYsIOG1frrV4AzuAAAAAQEGaAC/AOpw/8GPwV/BPAi/AkfAkfAkfAkfAk/T4LFQc6BGfXvXXKAj13KclfK/HX/XeG93tM+E7/vzDT/wBncAAAABTQZogL8A6nBb8EOIX4KYEX4Ej4Ej4Ej4Ej4En64IIEXo4YWGltP/gg/PWZRfwI66sNy99U4e+yPknrrFUU0IYU4+BH7BgIvd0tfBD9bvw/FagBnkAAABGQZpAL8A6nD/w3iFxCwIvwJHwJHwJHwJHwJD+HIEnhooWeGVM/mJe/zjZnw+l4vgI7sOBJS3/CNHDuf/qc9+EH/WMf4AzuAAAADhBmmAvwDqHfP5/PwItQc4hcQuIWAa/xQa5fhx7+hukQCO5ThJf4E5+O3rX4Z8Xw+VbXMP7WAM7gAAAADtBmoAvwBDnBDiF+H/ghgR/gSPgSPgSPgSP+HiByqwIvVl+vBDgI7sOEzSJhhSieEthef13cCQ3juALzgAAAEpBmqAvwH35gw+5XhXq6BE9C+r1/+vQGrwT4jxHiOAWXwQjjZ8oEnqvQ+dAjL7KMn/XJwI6+VGf8N5PqUTgk+ZhPh69XgR+MgC9IAAAADxBmsAvwCi+gh+vW8BqnX4K8QuIWAWXwyMyZUu46GzwJXXWcfOhjvv+Ajl3KcJN4Ce7j7wrDKJbrvgDO4AAAABOQZrgL8AonoIXv16A1Tsbn8/nlgRbgde/EL8FMAjj9UHnkfvAjL6/OVflGoqB/BCNdv2QI3QIxnDXDoEjsFxvPu2SD67s9VgkbT3/AGdwAAAAVEGbAC/AKJ6CXQCQcEeIXqBJxCwCOeIGTfVcvghqv0CIviDiV+HZazov/1+hM6AjR7H1rX67s4IF4StPX9oeG+XD9VVKk0/gR+g0E4x7rNvz+AL0gAAAAD5BmyAvwBDh3gSOCmuCnEcAjq178F4cmxLq/L8yUNw7HAi+Q/L36E7IEd70YYfJPAjq7i0Zj7BHqvoEf4AvSAAAAD9Bm0AvwDHHhB/r+A1TsTn8/nngRa4DXfkkDjN7k8nky0xPgReqdegjeBGX6GagSF3KhGGquVFigR7ieyYAvOAAAABEQZtgL8B9+YMbuXwR7u7wIniCu+77OoowIp3efcBrnhGBIuAge67++A2FvwGtcWCEPT+5hau85VwX5aDw3J7wI/cAXpAAAABNQZuAL8AoohBQVxCwIx3FYEs87gI08bAkcFvwf/Aj4jgRa4Ej4Ecv2l6DnfBY4S5dmfwGuPYfrWv38qBEVNfovQI9sacy/CFufZMAXnAAAAB6QZugL8B9+gwlxCGOBIwEBQReBKPwJNa/gNU7E54nP5+BF4N7ELAi/Ajl/X/g2OGF8xDhpDnzw7XgvDk2cmax1mQd/+CaonTvfoDV5TmXhp32ZWGEsT2GS8zytzbuF/Aj9qAt3Fnr8J3sb4Ef4Ej4Ej4Ej4Ej4Ej4BRIAAABiQZvAL8AovoKP+r4hXAjHVwI53z+fgEe4N/g/xH8GMCL8CQtA2zCCfvgwBb1Sarg/U4oEbzefgR+oEhfLrvDV71w1LL8LIa8CP56wFf1/PwymfgSPgSPgSPgSPgSPgSPgFEgAAABhQZvgL8B9+KDG7u916HPAR+ENnhNwCy1A89fX1wI1eM6RARbsMioce6mPj7P+VpifAi+cSv4fW7wJHQkmZfxym6Nw97Aj8qNi+WBH7PWEXvr/AkfAkfAkfAkfAkfAkfAKJAAAAEhBmgAvwBDh3zwksXrWM16A1cQCOzxMCKv/ghxCwIvnCi/ETWRd8CN5ROM1YEoXC8zBIwIyvi0CCc1XEwI6T89YRe+v/csAXnAAAACAQZogL8B/egTPXlGu7uBDO+MYl+oQoo4hXAineBIL//YjcCOfgRhMrgJM8bAi3Aw+wziP4LYER+u/QYBgGuXFrUMxJfb9+G8Th9jrNv8BH9QIx2Hfs4IF8wnK8477gR+z1hhFT/+zlIkLv39fDEV/+BH+BI+BI+BI+BI+BI+AUSAAAABoQZpAL8AxZ2Ch0IhPPwIwt7QEidnWL1tjHWoDV434Id//DMCJ7HTf8YCPSvh11wwevwyin/Aa3K7u+r516BHuz2YINjTvw8Ip//KGSjsr6kB4/hvkTZmM/Aj/AkfAkfAkfAkfAkfAKJAAAACGQZpgL8B/+gUPAijGExX/ELQxXfFsIXQI+AgcCL6CLyC2OP3gI48I/r0Bq8I5f//gh+JgRH5Ah+CERkz1f8QG+Xa+fp/t3fAR3R/Z338CMdh3Xy6+gXh7IvvTVZn/Aj9hrLlmsEP1vvw9Fef7OdQYNff/v///gR64Ej4Ej4Ej4Ej4Ej4BRIAAAABSQZqAL8AowhBZwEefz+I4CNO8CR6E//X9H1ARpf/jfhGBIqG6W/AjL6KIWdPX8BHl/7lBGIkbuy/L6wI71z3wm9tfAn/Hb1/85V+bqo/vXwBecAAAAFVBmqAvwCAeCEMbu6AjDssCRjMCQd7PwEeLlWoEV+BIwEitcwwMdj7L/9wGt2f0r7h6u/7PX+NXJAj9nrTxIf/Z6mDz0/+BH+BI+BI+BI+BI+BI+AUSAAAATEGawC/AffgkDD3d4CTO8CKLY68CUeEc/+rwEeeWAjsEG+JgNbr8gq7wI5f1lnXDL/y5fHUYEe4s98O8ngJz/X/P+89ft+quu/+ALzgAAAAxQZrgL8AoZ2CR0MQRFbwJAjo+4EU7wEgLe0CSeWvX8A13Kx0/wJD1lPWGsGv/lgC84AAAAD9BmwAvwCAegw8CIM/4CTOywIh2EHAk+gi8CRgIDANivlgSFfhoQdndhAJf1p/5/gQn4+R/6iT1nGz7T//AF5wAAABTQZsgL8AgHiQxsb3eBE9FehCvNHj/hQSv74EQ7+EMCSfefgST+dhA/AinhHP4jgFm8Lc/verKHZwf+oCQfPsRL7gR+X8/vgEL3bjZ/MCOeHYAqyAAAABAQZtAL8Axh2FhWz+LYQd4DUxmBLwjgNjyC59fAR/UCOvlPX8Yp1/Aj1KfDKIPyxLNwi8//VefjRPXo/j//AF5wAAAAChBm2AvwH4IQJHjFsYhYCQPHwEcd4Ec7wJB3gEhXXAk9QEhcb8sAXnAAAAAcEGbgC/AffgqDHDUR7tDd7piBJFsor47m//9CZg6gfsT9Cm//9BLffzD4/D0H4yXn52FHAiiITderwEcfz7xPANh1ARz7C1GYy/8urwI/YczUylLACrX1jhqX5rZrUp+Ojh3HUdleHLenAjiIdgCrIAAAAA6QZugL8B/jECYuPAR4iEYEY75/P4jgGw8hsuQGs+6BNvelLKKBIXaKGp/pQeGWDryU8p/f4fZ6wBecAAAADlBm8AvwCh+gSPAJIeE4BHS+/1fgjFXDjk6/ZC4+BF6+oCPXV6+0VgBH76lP744kadx8COIQdgCrIAAAAA5QZvgL8B9+gwyXwt3Gefd2Hi3wEYd4Ew7FH4BZMmBHL+/kK+4CS6gSfKXnaBHqJOZeEXvr+42ALzgAAAAW0GaAC/AIB6DDoEP0KZm4vl9woo937AkDv/YlXiFefgRDsJOQ3//sgEULsJyHSHfoe/2gGv9ipfkte2j1Bry/+BH6gR+oEddSovQJCvY/ScWScimEYTvP/8AXnAAAABFQZogL8B+egRJUBI9D3gSQnux/nO8pT59wI3q8CQLe0As5fz/IKq+8ngSOoCS5YEflPeZ5Q/BBeNJ5VoS++YEgQg/AFWQAAAAW0GaQC/AffgoDE6i73d69Dn/V4Ec0f++mJCJg73sT9Cm/D/wU5yP0D9mhfAP9h+Qf4BHRbK02faAJEtc4xRznFv/3Lj4EXr6/Y17wGtyod3USeuE78/Aj8KQBVkAAABUQZpgL8AogVYUFHIK5kDA0F9hD575BbHXgRBcf6BI7xPQt8oEgQTALI+iL3vwiKly9y/FfAay+UpY6mP8k/4Eeok5u8JPengn8fflJ6v8+XPj4AvOAAAAYkGagC/AKMI4Ef0Fr4v9m//+Fecc6FAjm//+CTsHaBHN1//hcuweYPbYrgRjf7f2W/3sTvaAR8v7/Ivr6OOXwwz78CJ1Ak8n1AkdBs/DNIXHtfwI6u48xn38p6/w/D+8AXnAAAAAdUGaoC/AIB6DTwInoS9BTcoebYxpu3BDDm87F/5TsKq44L1p2BYy/GLMLecmgZS1x2BFC/9hIilGHUNDnKZy/9AjnY4vAldoe8CP6vAI+T76r5FroZhAj9fSGtAa3Kcc44cdzw8luvKeuJL83Jf8CQuEOAKrgAAAAFlBmsAvwCieQJPuBKDPI+c4gdBUNDlOlO5V0D7Cu5ijAu2UQTt85QgWRFFYPi2ED9kCMIhFwDW3Rx1YWYvh1n375OgQzUS3gReoDYTcXKrjynr+BP67u+ALzgAAAIVBmuAvwH34XDG73uvsxbXGIQN+fGLbGLevKe7wIniRLoT93hNY0L2BQeHLpWP0EQpoderwIwZ7HEYrkO2M51AZhWUnBvFXl9361AkCFcAtHIitAivpJBLpOj1+YkHpaPAi8lec6xoWNr/3JAj9GvIvAR7+U4heEXtn9fr+BHrIF4x7gCrIAAAAUkGbAC/AKN4IQkbe8CN61ANl6K8CL4Igk79dyHqEvnfx4MgiEs4aJ0e6H26/8CN1AR/lPw34CQrlj+49iL3Aj8pxqx3v4Ej4Ej4Ej4Ej4Ej4BRIAAAAyQZsgL8AongtCRrMHee94Aj93okhf6rOMWDeCqEjjIn+BG6rpD2gNbl1fFwI9123AFVwAAABKQZtAL8B/iECJwI/lCI7TuA1TvL6GPAkeCHe6eARt9YIiO/FL1AidHOsNL9/6uTvgNa4/5Tm75Xyh+BHvgSPgSPgSPgSPgSPgFEgAAABnQZtgL8Bbn4CN8eEnzlSA7kLpd3WS+cHgGuFRKQCOqus4WUybyhv+l9fUCN5xKvI//s9fh2XYloH84lvqNPgR+oCPuNQSI2vlP1xlE/Aj+cq/CFufufVR3/gR/gSPgSPgSPgSPgFEgAAAAFNBm4AvwCAeCENZ2EK6BDND//YKSU/Qr34SGuQr5V4B9qpFbGbNwBGr2r8lyQInVdfq8BH3UCOl5flQSigR9TlrAlPffv/gSPgSPgSPgSPgSPgFEgAAAHRBm6AvwCi1oKPAbQhFUCOE9rY7RijP+h4DWulaBHujhJYaz3/1q4XmDPCbpeg0Fp5pawywGQPZEx4uTBr9BmkTNx8q8v4EXkgSF9HOoqP/8l7wEeX/59flNLlwI9oaGix7usBWuvm8EXptfZ5yVTzk/+AKrgAAAEJBm8AvwBnm6CDwI5f384SUsyf+/o9fDcVL4+LFrWvqBEuSuoDXV8eXe9fLAju/OdYEpTu83/3nrfbV8EHx+6fgCq4AAABOQZvgL8AXoNij4cUCOT+vqrHSUyAi9HCi/Bd53/gwvPl74I+Cr4wJD7qj1ILkH2f/1ACgR1VQUIKsQEdyQJHfywI79TjlhmK9eHc/4AqyAAAAT0GaAC/AGgdHDS/hHuYETqrr9GygReQ5V+G7d/5yr6C2u8TgSPCXVX1Akcp78c78CRUT1wI7rs5KwId43j/h2J/9WesAfz+9/8w0//gCq4AAAABLQZogL8AZ30g0RpfL4N/gIfSFa6ktfQaLLj8edMf+QP/6kgRksnAa5f/l0vcCPynKsAg92j/8/gE/+3P5vgSPgSPgSPgSPgSPgFEgAAAAWUGaQC/AEPBOEmpzv+cV9jASPkK74CM6OM7xPeHXGL0exwi9i8O53gQ6kQrV9a6s5cX4HVgqvgRuoDY5YEjlBFXXu4ROWUBBv79P//Aj/AkfAkfAkfAkfAKJAAAAVUGaYC/AKL6CzQD7dHJh/AIv9U1nPaEEG36GMAIR4b7mQJNfVrWleBF5PqAkOSBIL/yzlPMvN66lXoEe489fgJn7r5vye/9cCP8CR8CR8CR8CR8AokAAAABsQZqAL8AonglCg1Bf40SWgH38OGwy9sfzixtJqh7fSHPAh9dyHEdBKNjcJU9sDXqlOEV4e+/tHCGX4524GfnqDKl/8CLc0BsL5wQn5Hv8qvAj3Fr356gk2YfPw9Ln+BH+BI+BI+BI+BI+AUSAAAAAYkGaoC/AGd9HDT8pYG95+TUwRVfUhwg/8D3S8CIX3+jil8dLrzA1u+QN7vZhhFemL/1AjVIcSsPLWWCX6oEQTvdMgI3UBIF/+WBITwjgiCh/cuWZPfr8M5Hvr4I9G+X8AVXAAAAATEGawC/AKMX/XQWb9WgH0fThwmO+1xosmZ/0Na9Vf6DYzDv92dwmre/wIaeTQrD6rqBG5P4DY5WJvevlNe8CPcWesCV7Xk//q5OAKrgAAABQQZrgL8Aopf/4B9ujhxc4XD+a+TVBNIvQIwlqbN0CH0hVdyLXf3SCPdUcYoe7d84XGXqQTwI3VNOaDxh0IN3/AjrrgNe48EQa1WDu3lbgCq4AAABUQZsAK8AgHoMMgRS//orQJXUA1nRzL/Bipem0Ne+jlAReCNV5/o4Qi46jXBjS8CJ0cQvh9Ek+QPv4EW4hCX7uBIXJwEi++BHuPOSD8wvJTeuEAVXAAAAAd0GbICfAfghYEnuxbD3oB8+g4fZjscuG89E2a8nRwi54EnobFwTfnd+oEO5jhpdSv/1XRwjX+BN+9737nGHFMDraJKdX/4EZdZxKh9bXn6L8R+CEMhTX9OIDW7OGIvCzoaE0Fv1C2TeZTTVFHU/4Ee41G7u4AquAAAAAXUGbQCvAfwhYEZ+qCjSC2M9Aiehrfq0A13SM4JQj9HrgdXL/AiVIcQoQ8N6/9dIf35xlfjBfED3qFoESv/qvmgSDsEcBHdCw1bjVN8oEjnOIg8NM9fuPgRxCBHAEyQAAAJ1Bm2AnwCiF+vwmEJgovqsLLMKlO0oxCsbj2YVIUYtj2vgpysqta6t3q0CLqvUX6XwT+MOy4zN/oEc3/+L1Ql2JgUga7B6FZhrouU78h32KUsY00CR0rfUCP8Bq1IGxXHucZR0dl8O4D9IW15Jyr/BN6dp8NjsuCHMv6PPuBDrvpC4tb8CLURXkFS/1NAjdQGxcecj4+iTL31/dwBVcAAAATUGbgCfAKQLYIPQIq7qukPaBI1VoCP5IDV6OIXLUei/6vJ+j64h34ESpDiIKMqceFx9dIJmF1RByvgRrmq5oEf4DX51y+WBHEIEcATJAAAAAZUGboCfAf/oPNAil//Q1sv3+rX6GMgRN76gRQpGrIdpWOh85SgsAs/SEPqstH67GTlX+HcCPRxTH8oz6wIfJfRxa/wQPJcAjcleHBV7r9HffY8CPcyLrrJL7wJHr0BH1F9x8AVXAAAAAiEGbwCfAKIX//L+/70sE4QrVar7L/vglrU55Vn6BFDGvCN7v2ERC0ow6Yp+Y7lG2F6+4EbpW+l6BHHPndyQCO1IcU/KJgy2eUuPP/lnOVutX++vo4hcOM7/AiVJ3N+HBt5evAkel53+qOOwmGQ/gzuL5R0MoqfAjdI708EHgEeuEe6gR+EIAmSAAAABlQZvgJ8Aohf68YEF1ZKtVnKKY5P1XoEjoF1Vs1rbL9fojQEd6t5MCT1AavXY2pV3Uh68D3PPhnc/RRG5LAhpxgLPuY5l8bK2HkDS6gRrpBHv4Ee6gJHkRO1zRqugR+WBI4UgCZIAAAABwQZoAJ8AofoPNeuX/9ja1Ajd/iuq1r8EdV2gJAUsCL6tAa9SHFLw0wHw9puWcSUXM/GeiYEb6DnivvCb7Nw7FSejiF/jqNQInVVIcWv8EjzXdZxWvx0OXfTgRqzlXzwkf3Qa3usOLeP8Aj9wj3wBVcAAAAG9BmiAnwCj9GCC1UCL1XhKcfXVVX0CSuvQIva+roEWq7Y3WKBGFKoBHujjFw4zSwv/q+voN93XA5nO/gRKkRnzenCn2C0N4e9r+/1+GgoX9Qi4ypeFZ/Ai1nGrNWvsn11jOcEKxrv4BHldwjq/gCq4AAABhQZpAJ8B9+gs0vr6BE8FB1rJf9+CTVVau4EjqA1+laA1X010J3knMv8OxUfqBEXUiGSov/yHHrw1bT/RxC/HQ9blnqcCMuSv4EhcnAa/Kid8sCPeGg3AjK6Z9Y73/ZMATHAAAAI1BmmAnwH4IQIDYBI3QRrL/9dOrV6HNAiaoa34LNVqq6qvq7gRvVoEj1b8EXVWz6gRj8BrdBwVu65QiB+53MiCt9eryQ4fhRsLwjOG1H+gRm7eUCHyfnNBGXtWHB3reuvzneNBksR/4EXmBEES8y98P+5oEdcn88Br85wov8N9nqLgR6c4RrCb8/9ywBMcAAAB9QZqAJ8AolOQIE/7lqvX5dagRv8ntwQ1WrfraBF69J0JV/BNWq1X79WgRTcPn42Cn0Je1dQJFVn4Ej1tARnRhm76E7yfoN7nzXBjy/C19YEToMkfdfIjIHoel2NzfW/UEJbK+KBF6QTguuBF/5YDYV8IoLQdwjAj3XbwBMcAAAACIQZqgJ8AgHgmC2q1VWQIhf/r69fwRnqqtAj65fr9egRegRV1aulqBH3+nXUCMJ1Aa/Rxi/lHxh9eryTlTDwicNLhtn/qBEXyHEKmetH/k6m1lVBk+XKeEjk8v4blo9x3gRfQRwgSPgSP+WBI5IEjl+WBHuNOIImE+jn4QtzgSPgSPgSPgSPgFEgAAAGxBmsAnwH35gsqrQhYEjVFaBLOxxOBFXuUIrWuoEXqBJEfqrQGrcQcYvDrO/7R66LjeHYr1vJBIXhVqSrUhzL+LCgROvqug0V76kTkr8CL6CMEAkK+fuEYEe8NDHGWjxYT6Of/anMvw+4/wBMcAAABsQZrgJ8AomoIQhVbVqCOd9lYgRuq66WBF3rtegRulauwUa1Vdv1aAjfW2fUBHdHGL+UKDD65a9eSHC3nxdQm8wj9xAbNN9cotn4PjUCJcR3Xd9Wy1WBHvxsFsN3DAMsAjyvj9X3Aj232sATHAAAAAiUGbACfAfwxAgVoEYv/9P6gI7dhFa/St9QI3WKVfUCQI8Z4oEcRuBGGdoEfo4xcqILr6/R4b4dH7XRxUn7fkhwtI09f4aiS+oEP2Ll/uIOEF+oQ8f39VEHOvDdv/3Me4C0T/hwPcGHngReM7tXfPAjHYfgNnl+WBHuN7zhxQLvzGvgg+P3T8ATHAAAAAfEGbICfAKH4Ig9WrvrvgRjuJ99AkHqu34K9VVVWurQIuv0I6rqoEkv/8CN6t9LGgJAR0M1aBE6DgwdZNzPjHMPjsX/R6/w13O8SIOWLmqARiqm57fge4FXUkCJ18ldq5AjcnUkCOv4CR5IEfn1/Aj3FnrGu/7z1Tu3/wBMcAAAB3QZtAJ8Aom/WwlqunVMq+KBLWtaq0CLqrfgh6q0CUO7QI5f/4EnpWgSBEsCOK4EVctBgdHcvb+X+HWfe0euHU+n++kWDT+GzO+uDrNfAiVJ8iG99dUjQyBF+BI+BI+vL5uBGOw7Ak3CvxMCPf3nDihC457/4AmOAAAACSQZtgJ8B+egQN+rQJHSHt6wEaLY5W+kEbfXuC2q1rW0CN4Jq1Va6oRwJFwOitAjYHyrVerQEavoEgxy5wfXcFnf6Ry91BvBV4IWj71r2g2ZV3/z3YES4JT4MJ8MvWi/7gj7vvDJ6rchK4wv/wItV391AkKvV4Eev7XUCPyrhAkcuvuBHuN74En4Ej4Ej4Ej4BQoAAAACUQZuAJ8B9+gsi6BJ7BMdnrVVb1/NVf0CSc+tWIEXsvVezBLVa1/JWsCN4KNVqq+r4EbcE9V1XaAkTqoCO6OMrTh3c8tg12e4g9cTN5na//YPgER2B/sMu/6QW1r9EYAROlZ+Gxef1/DNvteiQQI3hu96hi3/R/+oEddcBI8sCPUSQmf/ve4Ee42BI+BI+BI+BI+AUSAAAAHNBm6AnwCjde8CRughX6CTICO2kFWxGoEUS4vELAlCFFwIo7F0nwOnwPkCKX/pEQ7PpfP+/gesFP8CjWkevAk/jeP/pTmIESs9n8PpJNFS91VBkt3wf4DvRaP8exIkeIvVr8CI/g2gSe4DY5YEi4R74AmOAAAAAm0GbwCfAf/goBFWqqqtAjblCOqsWxxOkgRdQSBGq7e4Icp6rfgi1X6BG3BJVdrOwgTgRNL6QTtAlCNQIovF2oRwEb0HByT7i0P2GFsqY/LvSz1wNZiWfRRWrfR6/kTD8V69Bu7+NNsR3jrNQIi25PkQnv0Ziu0NeBE5oEj4Eg7CcBI8rD15f40N73XzPmfAj3GnlB+GUPP98ATHAAAAAq0Gb4CfAffigtqtagSdRR611X2IrqtV6gpqtVX1VulBRVa1W0CL0CTWre69Xguquq1qBFL/+CLVde1Q7TaBIPwEderfA4QEavkBIKJgjns9EDd7pMMDrwVVPYS8fet6R8MYR6HCwM+PkpIiR+g3Ph88qdm/gQ+quI71z5PVvXzyNJEWP/wInwJH3eevzvngBF+uX4uBF+BI+BI+rhFEb54EX4Ej4Ej4Ej4BRoAAAAIJBmgAnwCAeCMLKu0CJtI7fatAj7+4I9a19LXtQI1wEktoEe+hS/AuQIt+K/lrgTIETgILdfAji5zdJYiWBE6OFMq5N9HYVxHr6DgUvdcg+CF8YP9LnIEVfIi9r/X4Zmi76/AO8sdoPgRvORSPr9C4LYbuOAwI664BH7hHvQLsoAmOAAAAAlEGaICfAKGLYIFdl//rsUEdVrX1Ai9V2CTVfQI3AQlCMXAi8BJVcBFXUBQQIfwJHyCOBEO+diYEfo4Sg/CX8vNdq+g5u+Ef2YXh69H4cFNRjUvqgRLiDkWGIch/9HEr/DNu/6MzXyHLBDAh/X/gR7iIEfoMy/dfFR8CT8BH3KK5/P/b4ECJy+95tAj3G6bjXRMoAmOAAAAB0QZpAJ8AoQjrSQQr6Wvr3gRPQQbL/+CMIrXbHd8v/4Ia12+AkFfOwkoEPgIiuBagSfgSPgSPgSDw/Ai9HCxSw1xTu/6RGL6OXWOcZChipf9LnAETr66o+E8OLeOBny7wI/JAkevfLAI/cIo3fPAjnQJYAhyAAAACdQZpgJ8Aoj7dBDvgJBe91tl+/1aBE4CQsv/9C2ErIEP++BH/uu+BG+BI+TG4ETgIX4CRgR+gwJl/Fe58aM1UvYj3EIjF9Bwpe78v5QcMvXUh+TnwY0v4EMwhj/9hoI2LfiXUOhzsSdidSHCi/DiHf++TQnX0Y176zlXwwv1/wIouH4IGL6qQ4IFvO/wJC5OA1+SBIJ6Vwjei9VAExwAAAAHZBmoAnwH35QtWoEjgIjJ+7r4IzqqrVl/gJDsk7+BHL/ASH5f/1aAWWuBH6OIYFLB7PRBz/0cy8ELZmE/vo5YOOIwo+PS/XVLhAidHIuHL5N/6//DIl3epBfOff/wI1xlVwI1ywGx4csc8q1kr4Ei4TQrLvgCY4AAAAYEGaoCfAIA99BZMIEQvvARH660e2X//J+sD59wI5fvgJDy//wDWLqQ4jvxCa61tGwvoNlvdZtMDvCXBpKC99HqDqNcpqzYETrqT+BIqSBIqoDY5IEdXPCfzwI4hB+AIcgAAAAHpBmsAnwH34JAoqragghwX+TL228COX1+AgMv//hEBAb/gR/gRjsJi63gRqgdP4Ef4Eg8bAknlo8sCJ0cOOQ7LZB3UX/9HMrfIMmF8HWEjJt+Siv9K4AiVVVIf34Z7X6uBGrV4EjlBDu7ugSeUEOX8UBr3CaEZd1AExwAAAAGpBmuAnwH8IQIlAjL/J9f/Rf9XgI30FWxCqqCoCqgSK4EiuA1Og0KzkmmSlgl+p+Fcv+jkVt1KGvupFKX0crkDpcv4nvAiL5OpFf6gRq/pzd7gJHzSL8BH8Kfgju7veBGHsO1vf9wj3wBMcAAAAjEGbACfAffoKMC+CbququQIhf/wQlWtsv/+t/L9fwJFQERAj19cAsnRxEEwVEzX/o5O4YRU7w0hOYfzDXd3iMN+vok4ruHIfwr3nMWILoUVH6BD480agROvrXeHL7vjRWXCX7kOd/+AZX52L+BG67mgRhDDMCSuTgSPBOHnu97vAk+CG97oEe4R74AmOAAAAjEGbICfAKIX//GwheBHFOLrVWgR+Bw+XL//ALIvkBeI3Lkv1HEdf/0iY8XCIoDcxi2Po458bez945Pd/QZ4fypU+a/wIlSHvh2WX4DK4ck8n6/X9QI6vhBX/FW73v1UCNyK8CR66yetfF4IuT3x7D9P88J4QEd4JA473ZAkXCPdoY8CPtHBGsd7+AIcgAAAAeUGbQCfAKJoDxiOtwRBCq2gRqgJjr6qBFrgR64Eg7wJR4Rz8CPwYa/gRV1BF+cOLh2H9sHfhdghD6mPf73+NbELrXFh59NN/0W74ETonL666o51AnX689f/wI3UCR+X/9GeBHXy/LAR/m4/TAj35P7/hPuE4Ee6gCHIAAACGQZtgJ8B9+go7CCCCr7beBKqAjIEbgJDFQv1wIvATkCR8CQd4Ek8J5+BI4IPgggRejhxzBnZ8pIPZ9/wwSiu9FX7k5R0wXrERAbxEEf0cEEGUdMMujIfDqGXp/DPFbqId8DtS/gROqqSBH6gSOvmgR+Je83ASPgjyL3lAj3CffAj2l28AQ3AAAACCQZuAJ8BaHlgTPBGGlXaBG4LMvu/cCJwE5T/gSqPgEdwYfgi+CD8ol7wInQaFZMV/k5y/2wyTadU6MeR/OwQ4j+gyHt3WGMVMMvCn+oESpNV/c3VAhEh8iwn4oEa5mIN+BI/9egR/+dXQI/LAkVl3v8u9wI9wn3wI956/CFufdQBDcAAAAIdBm6AnwH34sKTf1UCQd+q+AgMv/7PWvgISBGf9L+BIERsAjtAYPwQYhfBXgRH6QVC17u61bBnZ/+2CYmXLn96o8EO8FVQ0HHe6/UwPej1IGb1r4oheBF6De71eOE/+uqWX5zr4IHz+r/gRuoEj4DZ5IEavqP7hNhK9wI913hkSMMfr4/3wBDcAAACIQZvAJ8AgHgmCnPeqsgRKgKCi/98CNX1wCQcPa/gRqASG8DTgROg0TJi9DdzcXKDwO1K/zk6MlfanbcgV6gQ/gl+jlWHt1KDeYKhuT1/fGWhtAIlzb4Jvf56w3b7cO21uEQI9RC9AkVr0CTyFvdsBH+ev8fuASLhP54Ed356wi99fCPzGeAIcgAAAAGlBm+AnwCiiP4CAgFmwEgI+CD4IPQKIEUv/9iEWBE8Eoc5fu9fOcmHylpagk2dinYIc/vpUHH+j1A+cv/gRPWwr6gSUskUTd4EfmgSP+c+D6yvgI/zTsz+BI4n54Ef+p4Ef4Ej4Ej4BRIAAAACJQZoAJ8AgHnCi+KvgRC//7/rKaBIEwvAI7wNGIXEL8DhAineBH6OGlKFBud5z49F9b4avfKsbtLPtEPs/vv7pIN3rKDDSJEAi35jMHTVMDnlvhnd3g/i14ES5lsKvwzz+v4fW066rujiVr0Gs/+BGXxlckCN8BsF/34EioRIED+f9wnAj1J3wBDcAAACeQZogJ8B9+Fwpqqrr8Q6+BJ4Gj4JK2s7wIn0eF4Eb4Ej4Ejgi+GMR/AkQIvwJB3s/AieGg1nwtIrjcv/W+GLv4de8v8Ow/vj2Havf8/rVwRhzdzJ9HqJl/4ETo/DAurHJf9dHrDS3NwZ/7Ez/AjfAkVN9GGPeAR9cIyhyP0ujdfnfO/xIWysUN93+Z+YEe4/vPUBBn6/7/8J8P7/gCG4AAABgQZpAJ8AoojxC4hYBHeCz4JOoGb4KIEX4Eg7LZ+BE6qoEXP5f1qgRBzVyqAEXo9fh6X82BJqb6DVd3/GBvveBH+BI+AkeEIEfn+JZL3Aj+esJbC/PhvNeBI+BI+BI+AUSAAAAd0GaYCfAEOcFGI8R4jgRTy51zrnWA1H1hoOZ8dQ7nB+Z//DF3u99Ro0aaK2p5YLyUDi/dvpVf6PeB+5f/Ai3N1R/fmD0VA5PX8nDIsGZB9fATv/7f/wI/UCPxWT9/hTQ7UAj/Egh8vZAkLrDXd1gmGz9D/6jYAhuAAAAcUGagCfAf4hAkC/wEWoQgNjg6+Cr4KvgwgRfgSPgSTwU0fgRC/l+CIOPfh7u7va1z1jpFCPDtfi/4Ie4/6UCJ1r9XrwQixun4IEYv1xH8kCPUZ8kCPfAk8sBIF/43Q50COufPWG89eCB49a+njdXQBDcAAAAc0GaoCfAf2AgsCNjP8CP8CR8CRUDB19X0NUCKeWBIrgSfz8CLVHDmH4Vvr3uNAvq96hry0X5Swblo3jmqPXxM14ESpPr6UpQI/QI7y+/4ve73gR+lf4qAR+oZIQfpr6esEON0sXdAj86wQJH9cCP8CR8AokAAABLQZrAJ8B+4CAwCP8HFP4zuAkIDVvVMgI5f38gY3erdEt+oL+eTy+fGFw8i6H/33PgEXwR3vd9LKBH5IEipleBI9mvcAkFRqwdcAQ3AAAAWUGa4CfAfghYDY4YvhCAR07wI9UFQxLLLfUysHsz/e+epUeG1+v2X9aXqoETo9fw9L89F/+lfugSjVvd7ygR6mgR+M3/AjrvQS6A2fElvP5/gR7hNEg74AhuAAAAX0GbACfAOpx91wI/PAI75Axu9/Syt+p6/KWCPDe7/nqGW5/8CL1XnGqEGPv/gRritfEHGLO9fwI/wGz5dDlYAjr4VDPl9fHbn/hbIvyL3UrF/gR+dCMvnXCBHOgSwDqQAAAAOUGbICfAOpfAkXB339+IWARyqBEGJbJcWW9+/BHu/D8M5cd+L4mX4ETrqT6+oEfqBI5oBZ6jeuAIbgAAE9dliIIDfJigAC0dJycnJycnJycnJycnJycnJycnJycnJycnJycnJycnJycnJycnJycnJycnJycnJycnJycnJycnJycnJycnJycnJycnJycnJydddddddddddddddddddddddddddddddddddddddddddddddddddddddddddddddddddddddddddddddddddddddddddddddddddddddddddddddddddddddddddddddddddddddddddddddddddddddf+NAAREgsOYACZkMjhmNxBI8tx+iMQrCtEqsJO75+AMZiIzit1BCltUYAAWADgYblvBIYNn3Mvc9KFH2ZAToHeYITZUPV7wEJpKaE9qppx5NnEEDFD+ljXSwba/wkFITe4xoAq+O0eszGI0ooQqyN6m7Xg3sUOLUMXNKqfuhZEIVpZYkIcuszdriOEhMeEXwHgBBWCFVWDRVAGMxEZxW6ghS2q4eMLNc61nj41J//1kQhWlliVWRpQbteASoompzXnj0jt4cAxLTZwRXuCWFKPbwAEzIZHDMbiCR5bj4Yfh//CZ8ABIiERgdjDw/xcRYnII277u/1JEmb77777777777777777777777/H8P4/wAw2bSAh12vHu+EAAdABgCgEQgnCjAAcP4Tlk2xxwhAYADSyAACQDh1zAErpTeFwPSBEW5tbW1tfH/h4LOA6NwElsIAAkAHBaQQgjKB0BgANL+DwPe45X3333333333333333333333+Pv8OFB/AATMZS+qcAAQCAMvOZsIwb1DNddddddddddddd4bw16xQACF99999999999999999999999PXXXXTBEqgjrrrrrrrrrrrrrrrrrrrrrrrrrrrrrrrrrrrrrrrrrrrrrrrrrrrrrrrrrrrrrrrrrp66666euuuuuuuuuuuuuuuuuuuuuuuuuuuuuuuuuuuuuuuuuuuuuuuuuuuuuuuuuuuuuuuuuunrrrrp666666666666666666666666666666666666666/+NqBEIwOYDgAHAAcBR+W4AFjCYSWoogkVsjtbvQBxVoVuKh7oaQ/wTjFLvve5aVO9FAnA98Ycw0AWFH1zOAAIO8auFvdjamshio0x5wtR1Y9Xv4bQQGxfAAQbDFrr/c5aFN9QYMQADiPAXLVrjwAXOQYq//ACJxylWbz3sSFHbErBMB700avxbyh6veQIg2IpBhJMKWw7zGxTFBHP5RYWe8T4Y6dTivSpWmi0ODUgfpih+uuuuuuuuuuuuuuuuuuuuuuunrrrrp66666666666666666666666666666666666666677w1111111111111111111111111080KA88SpqGWWay6SYUP1BXXXXXXXXXXXXXXXXXXXXXXXXXXXXXXXXXXXXXXXXXXXXXXXXXXXXXXXXXXXXXXXXXXTDwKdMTDdddLTDzqCOuuuuuuuuuuuuuuuuuuuuuuuuuuuuuuuuuuuuuuuuuuuuuuuuuuuuuuuuuuuuuuuuunp6666euuuuuuuuuuuuuuuuuuuuuuuuuuuuuuuuuuuuuuv/jalWGMDmA4ABwAHAUfluAAmCKPiaSYQTKlrO+Q0xSOZZUKu+AwSjxTtii/fFVG+4BIDUFSe3jMDrQwPpPAHg+LwahtReg1r6kshio8x5wtR1Q9Xv4QwSwRfAAQbDFrr/c5aFN9QfmNimK4z8YWp7lOAAQZ4wL7+lBtTeCccpVm88Glckjova4AAg7hq6zyxtTADAiDYikGEkwpbDvMbFMUEc/lFhZzxPhjp1OK9KlaaL9wa6huuuuuuuuuuuuuuuuuuuuuuuvhgofjoaGoATaLGpGddqMQgf2AMF9oS09UFb8l+UyzQTkh7wwACwAsMIhinAAaF7MLWkW3glAqoABcf4IRFueAGvj5O7+ogsAmpCQ7nOp+uZ6R/wK25Tf48JppA9u/8GCqGS1CAAIiINCEKHBxMxSB2CUOt4DK1kcybWJoHfIwLAt48AWk05YJZt4ZVeLu3zgeZkIsyFe2kw3X/k8iyHCAahN1ADJ4G4GcNPZcxLM6BcoHsAEnM4IMbdnKOj+EAEAAQEQNASCAAyjwAPob3a0ZweiQAFMcs4hGzUjy4cAGxc/k0NOAAepMOVZhIj7+v7v3+v0bw//BXAfmZTmWhloZLKZ2EAEBBnAgGQpwOKAAWb4+LVAFbnw6YdrrrrrrrrrrrrrrrrrrrrrrrrrrrrrrrrrrrrrrvvDXXXXXXXXXXXXXXXXXXXXXXXXXT/mlPnoFgasBIJOIwYtdKhBdnCJkGGB67IGxw1vIn/BsxsqfRRP+36f0oHsN/zAKCjMCZ3kxzBiA+EAAVBRDARIMoF2vRyHlQ8FQrbWQE9YGD/3g7eWyyM54eh07bi3rn/tb2thzASLS49DK8zIAIc74CYmNuMU6zEYMqhp88IAA0BwNFAKACLAANR3DcIYWPv/QlFYbHU4AB179ACxISr7MJ+0Qgcw3Wt2Wn//grFxgkoMcedhwgABACAMFEggACgIYR31+37/DD7bfmGpRdSsDDphxtMFtdddddddddddddddddddddddddddddddddddddddddddddddddddddddddddddddddPZOlPp/YbDjWVjaPErQ1D1QUeFE0gZQ87qWPoDepDWPBAuCGIsSAOK3XAeoAQBYtOe9ACF1BdRhwAD9CXP//7CEnOQQUPedgk4vy7zMpJhpakb9hBcHOZ1MaiNVA1QBfgGz0SFjjxbXIcAAuB/uJh2np666666666666666666666666666666666666666666666666666666666666666666en///YbBBcq0IqQ+6qRTQFkmyKrQgD7C05vzCwBPm/P/H/fGUFbSoOl9rFbTK2g7/X0wGCJDEZ0wXARKxpnG4FdxGfB42uESFcTBDT09dddddddddddddddddddddddddddddddddddddf/G0SFRjA5gAuEKg01xwsJeE56vAKJ+YNLw2xLOifiVAASHj8Rcs5KYzJh+Ax2QuCJY0mCcKAlgAA6DOOPAFrDirikBq4btLEIcQ1/7Qb4wd4ZYljRbxK9xHCEQSQxfsE4Hs0wYvwJXrz1eAETDlLvec9aVN5Ayu4AAdBnBC6/1kHVYNgNRhoxfoTv2PV7wbjlrrOe9aFM5QG0RsxA41FmOvfgBEN9rKBv721kkp4n2NJSJJQMd/8uvT/qHa66666666666666666666666en///YbBJNOctYjNJbAukfwgdEtzVXMPdc///uWK2mSt039fTt8HvvU19MC6GAiF9nzw0RRz5ku4dgSm4UlcTBDT09dddddddddddddddddddddddddddddddddddddd9/rrrrrrrrrrrrrrrrrrrrrrrrrp6f//9wQQUmpFi+u9nNulb+69M4FkQ2INSsYew4hHuTSuF25/L/vgtaE0LOd480s5QKnrgWFkF9sPYtKw034qzf6YIaenrrrrrrrrrrrrrrrrrrrrrrrrrrrrrrrrrrrrrrrrrrrrrrrrrrrrrrrrrrrrrrrrrp6f//9w9EPg26FV0zYWedvhpTHbTXumYEiEIghbAGy8g8Fm4iE1MfAkTTGrTDwcSDuEIy3P//sN6AVIzNNRmaaq6AWRJN7896oBVWstKi7fmqAImp5ph+np666666666666666666666666666666666666666666666666666666666666666666enhZh4CbzzZrd9d+bPyVbDf8f/sN6EUy1jhc1CajvDfD9MP09PXXXXXXXXXXXXXXXXXXXXXXXXXXXXXXXXXXXXXX/jjsELD3ABcYGyhmGiUmFT1ewBJBSE2nGNT6G4jAEgtCLMpqWiik/3e/ABeQE6B2GiE2FT1e4ABVAm5I92LmlKHv/cRAAYpnYwsOZVT0a/9ZEIVxeCVGE1DdpwAII0QoqyqbU3EcOIIpFF8EEoFssoQrwatVnq9xeEJtpIY3eV6dcgQAAQNwABAYYsNAJRRYhXo3boer2+AAkRtkAGB3nyj34ASE20kB+60xd5Lj/Y1VFJQMd/8H/qH666666666666666666666666en4U+uajjgTTebjFMHpn2S1BVS6NlhBdyC1QBkSFZSGQp1QJwqJcaAHTDuQDZjrjq7/+ROXsN6ykKFjSMSffp/hAAEQpBAuUPWvb/WU2BnUobPfwwaF6pU/3pgnp6euuuuuuuuuuuuuuuuuuuuuuuuuuuuuuuuuuuuuu+/111111111111111111111111109Pa2tdPT1111111111111111111111111111111111111111111111111111111111111111109PXXXT09dddddddddddddddddddddddddddddddddddddddddddddddddddddddddddddddddPT11109PXXXXXXXXXXXXXXXXXXXXXXXXXXXXXXXXXXXXXXX984AghYbDmAAmJinKwzuWWtzl48oAAQAQ2X+kC/X9gKhOhUyp/7J/8GDZYAAgggACBMwAAkNM5HMsrOupAABwAAQHxLIEMABBDfaygb+9tZJKeJgA+Ne5XOt7lX8OH8AwDggLhCFRx7zxsVX1Xm7+++++PwAEN2H7s97nO1z3/8AB2EQ460FFIee0orwgymGUkssYdW8mMBw7777777774/AAQ3YfuR73Oclz3/8AB2EQ460FFIee0orwgymGUkssYdW8mMBw777777777+H4tAA4dJAAQIpyCFgmiJOtiHcPfBsMWuv9zloU9Kgahw1EwPLA6ItzAZfdZhEgpYHSHcwi9bYiQpbW1tbX8OPEOC6A4AAgNgAwxCW+LUAjgeQUvwPIUvb333/+OGGCAqgAIGUMe7OSWU5TSkv+BEDnP1KCiyVuLQx99999999//jh8K4ACIIph1ILKS855Rb/jDIcZaSi0OPcWUwHh333333333/wxw4QrgAIgimHUgspLznkFt+MMhxlpKLQ49xZTAcADxlAQa6442+9nMO/B+oZrrrrrrrrrrrrrrvDXXXX/x/4UC0AQAAVAIC1CJA0RQdQDgACBsAAIAwLCcsAIIFRrxSqmM+6jpVD8QZBHsSYah4r6qn4Y+IAFAANFVQABA0126KBwd2mcHgAiMEM9NG2GbPqAE5HAKEvSF0CC7AAACBsQC5EMroIzABSO+cAkGvIE0I7zDou0lYQAEFYIVVYG1PiIxFZBWFDkN8LMAAgjBIR16G1MbNUZjEUVohJhLdr9EQhVF4JSYT3aGzX62DxL+EygCMOIhRPwzdrbFlCQc8BMopgUgbuEq1HGNtwBcoyUEnBuDaCXJ/wN2MZxiBFyDRBhg3aAk4O1p5btKwJ+l7//9Q2KAARvvvvvvx//8PhTABYEZwAUCCu1izJQubtcWog65vqHYoABzXFCiOkaCk32VhXcw3LQCCGlF2bI4j/YYAnBGB1ElGBWTVvuIAAMAACAqAHoPYFaHrLERXTObTc0BOg/gTfOFil3FcgABBGCVFWIKppeZEMroIzEkpYxICyCMYOVmI4evPPvKIUdz5IO163hh4oyADReOJivjfrMxiMK0Qk0kkbtf9f7/4TOBoA2wJSguRg0yztf7/EEUw6kFle055Rbw/FBGxTj0ijSz3lhh1DNddddddfcKcFy6YaABaGOrxCDZFgk2er3sAVoPXWOi6yMX8pvcAAIgYgLYbJNm1N4w8yCp5XtZiCVhjC+B0ZAANl4KExd5v3/xVJSJJIMOkGxQACFra2trfff///CgYgAOGVBzwxM/gOVLPMhbbAABAJDZgYUGFD3PJ6erR4AAgCgACACANclvVVCeIYN2bgCY2bAMJZ6qlMQQ/7wVRxyhEW5il6RTRD5gGHGwjGHG+S7zZ3wBCM9Ht3VppOYqzIYjC8EBDjMVm7QA6ASmGVka+skldkYhWFWJVYSVN2vCQUhN7jGr9DcR4aikprMa1PIZiPMjGR0FZqCUKagMMwAAuAHA03LeZtjdSrar+/DUPhrrrrrrr/w+YcKBoAC0ABmA7yP4URFETwW34FoRhyBLJFokHHd8/EgBCGOrxH2iLBFo9XgAlCZhuNwVJZ1+K//wySDj8AQAgqLJGg1ikoSJH0e2wGhMophALuEq7VeN6hiOM8TYgwTZ3a4AEEIWxZH+SADqdB+ahDMOBTDBFsKlu7QCgDCEKDtfvdEzUza2gEFxuBJqyPDfG7NwEwUxuiLII93wBmahiOMBTLJBsKlm7XDE5xF8SR7DWEEhh2AACIHIC22iQ2p8MTnEXxJHsNYQT4ahs8AAhfffffff/gfiPCgaAB4DCEBRNEUaIkYt58AoboKaFIm7BKpRxgf3PAGDnTIZWjx71V8ivgOAAIAYACgGtQ+PkwAAIEMShSDB2FQVav/b2mZjAMEpJJKl1SVHmAAgoJYVUFhtTQAANgAICwQ5zBAAII0SEdRUNqYEglxAoDSPe4c2CEjAgBsRgAFCCL09jiG/cZEMrh2MLHI7BxPxEYisHazQBSGwctAIiEKwvBKjCe7Qf6MxiMK0Qowlu1REIVheCVGE92v9Q/6666666666666666666667666666666666666666766666666666666666667666666667766666666666666666666666666666666666666666666666666666666666666666666666666666668AAABbQZo4E+AJkP+BLxHn4BINQI+SBHxGX/rgR/BWIlh3wJHgJDP54BA+LDgDgXVkz+ABH7+q6gwLPZcACXVTd9P4MO8cQABW/XOrsMOABf1V/9f7f8AGPTr78/4CigAAADxBmlQE+AJlPLn4Ebgr+TEL8Fed4ET4Efr4KEHsL4KCdV9QInSO2/9/9wI3NAkcnxUCP8BIc8BIUb3AENwAAAA4QZpgL8AVWd/h/4TxH8PwIvwJNdcJEDm7gI9fNAj8VAkfAk3wJHLAj+CS8/1r4RgR7hNCnG+AIbgAAAApQZqAK8AVZwhYyErwEa2y1gSevr6gRl8RAk8kBH8sBsc/xMCPc3fAOnAAAAA9QZqgJ8B9+YKO7uXy3e4BrxEsBGv6vWBF61/AkcnURAj1/EQI/wJHLASPgjEXvUCPUf1wI9FnFtjvfwDqQAAAAEtBmsAvwCieICTvu/EeI8RjfgCy8M/B3iF7uBF+BHL+/kFDvv+GO+uoEdXDEn1AR3HfFQI/wJHHwEgX/fBJP5/1AkXCvfAjvyngHUgAAAA9QZrgL8AVYfz+fz8CNwWwI635PYcNY76v8BE63/v6gR1XEQJHNAJD6ygRjsO9RqBJ3XAj19ZxKhBuf8A6cAAAAE9BmwAvwCiC4SDrLPiFxC4hYBreDP4Lfgt+CuBG+uCo4pY6zHQw//PUtX8BHLqIgR+I7hKBH+BI5YEgv3G/AkVnrwpueBIqEeqgR7l74B04AAAASEGbIC/AKILhAVviELxC4hYBreC/P5/4MYEUn3wXb0gxhASPJAJDzwJHl3n4Efn6j4Efz3wFc6+bwief36U9fr++BH+BI+AUSAAAAGxBm0AvwCiYCAwJPCPwj8MwI3wJHwJHwJHwI5+z8CI+uvryhyWBfgRfBEe96vpC4oEdckRAj8IfJAj/AbBf98wQz/89cHt/wI9RqNF8TAj9Boo/52dYYRU/+kJOVRd56+BB//i/4Ef4Ej4BRIAAAABSQZtgL8AxnBr8EOI/ghgRfgSPgSPgSPgRzvAlfXBAg5UCM+vXBBBFAjquIgSeMgFn4nXDuidAj9HrDrL+HYnr/OVRB/P/H/5E0Z//Aj/AkfAKJAAAAFFBm4AvwDGcFPwQ4j+CmBF+BI+BI+BI+BI+BJ+uCBBzKA1uOgSLhiAkOeAkEsEsvxKJBAjpOLw1fPiw4zT4JnjML/QZK1idTB56fm+H9r4B04AAAAAxQZugL8Axh3+CnELnWAa7hPEcBH8muqgR/gSPy/r8CP8CTywEfzwJHP1HwI/wJHwCiQAAADhBm8AvwDGn8/AjVAo9ROIX4MYBZjvn/0HJQIy+vqAj+K+FIEf9fwI96M6A2KjeuBHS+SuurgHTgAAAAEhBm+AvwDqcGPwY4hcQsCL8CR8CR8CR8CT9eGg5WTF+mG4djgI5dTfJAj+U0rF/JAj8cvQJF4Icv3d8Br8vygh3vUCPcI98A6cAAABEQZoAL8A6h3z/wQ6/gR/gSPgSPgSPgRX5NhOI//8c5PE+A1eOgSeFoDX8EgUbn+CBI4sERD/lb4l5/gR6ngSPgSPgFEgAAABJQZogL8A6x/OsCLwziFxC4hYBHH5LDk373z1/hDx/e37qwAR3UCTcLFJy8CPwtASPLASHLAj3Cp5Sxs945A9LdN9Hqmvx/8A6cAAAAE1BmkAvwBDnCPwziF+EYEX4Ej4Ej4EneuEEHOgI9VUUSZvAj1/GQI/wJHwJHCMBIcaciwpuf7/WKBH5g1J+4nE4aZ/Rzf5+P8yi+4B04AAAAFJBmmAvwBDnBP8E+I8RwIvwJHwJHwI/kDxsXrQJtesv7/vP4EV/gjLiH23+bl8COq5n5+BI4r5IEf4BIOJ/DJr3yjdz/gR6jyEJ/rPXw3bj4B04AAAAS0GagC/AffoNPAJCdi8/8HPwVwI5f/4Ej4EY8I19HeBDfZt/8FQLQ5yZNBeCA1lXDnxECP8CR3ASPIuUCOviSEz/X6xQI9T6quAdOAAAAFNBmqAvwCAeCYNbu9/4ET0J/+v/1/+v4DVOx+fo/Ai8HOI/grxCwGq9bOGl8wVlu37/b4lyAjuRegR+IgSOFPhyAR9fCK61+8bpfwI9y9UjZQDpwAAAAD1BmsAvwH35A1u4BIcRgSLgKXuu/vgNR+b+CEmL8LW+C3lzVeoEfyZv/YRQe+BG5ICQ4agEh4mBHuFe+AdOAAAAWEGa4C/AEyHfP51+FYEXgQfhbELiuBF+BHL915A8W5M+CoM8c7UPZ98fDD87D9LfBGHpofQGtxncOKyBH/4YgR+4DYe+Ce95/P9a+FYEeo/qkZ4EjIIgGLgAAABhQZsAL8B+CECguRC4hcQsCOJQVgRju8XvWfxnigEd4M8R4ztjO8BGvXOKXxr/3uC/lzLgr60hk8/+z18TI8CP7CIwvwIy7mgGw9DtfhvP+Ur5X/Aj3C5xC8I/fP90rwDpwAAAAHFBmyAvwCiC2FH/nV0dXAinfPwI/ov4DYOwjn8/n4Eb2FHfvg58QsCI/N/BIKC1dUs4SeeoPZn+BE8ER8X+gJHjPioEf4Ei9jJfgSeWBI7gR18M6/OJ75nzPgR6ikYt1n64ck9fgR8pziVjn/4Ej4BRIAAAAGNBm0AvwH35g07u5fBHvd0CJhCjveEavARx/OuI4DWPCMCPwb9QNPXAjPWDZBrrW+CPVfQIy79d8CQq5oEfiIEjhr4IIBH/NG0HwJBf7Wc5BY3iFH/nXoEdtc/TnEqEG5/wDFwAAABxQZtgL8Aop0FhXOtHYQbAjCoTo7wEcfWfgNXhH4Mfh9X+G4EQv2/QaFbuo60kjL/5fQQr1lb4efefwI/seML8CNdQJHEQC0PfC4zIvz+skJIf8uf4EfiUbuo+BHJ9e/nnF+G4/rOUgox307jfAj/AKJAAAABdQZuAL8AQ4dhQVz9HeBH9F6AjuEfhHP/CMCJ5xy/A7UvkfeXd3AirvOdfhyWPvziV8J3+vgI/iChC9wI/DUCR8BIc8CT4Iy8/lAj8T8SjdAj6RyrAV3XzfwJHwCiQAAAAbUGboC/AfvoFD4hXiFgRRbCoo/2dVAinfP0fgRRbq1n1nYScCNgaPWgm8CKdlxetsQ6gI4v/wrnYvPwIz+w2GJM1MWmHT19rfJzWt5/AR3JAj8dAkXB13wCz1H9YI8L0x+gR6z1gh2NGv/XAMXAAAABkQZvAL8BbH8/Ai+gTPAji3d4Eg72eE3AjHeBLEbgRj9H4CN4RridfCcCIX8364Zp8MOcUsemjDP4CO6gGw8El4ZUzqBI4n4mBHqc9YQeHfgTPY2zf3GnKoEHf75j/zNGf/wDFwAAAAHdBm+AvwH34Iw5e6WBJFs4r7ELiFxCwJB+BGP5/EcCSdjmwI+EcCMKhdIBHvXKEL3Al+CEaT94COXwt8RAj/AkfAbHnFa8YufXqG8nk64/Y+BH4k5n5nh/i3n+BH6DRaN0lhEsr98AnV/Pj9f+z1/fh/fwI/wCiQAAAADpBmgAvwDGneAkT+I4BIPQeggSPQ1oEZfNAkcmvhqBH+BIuCCASDi0EGHlgR+U5Vgm8K1/1FwI/wCiQAAAAQUGaIC/AMYdhZ0fgRTscXgSDviWPz8BJComAjH2snkCHNQBrc0CT4kRe8vuBGCDBPWtfAJD2QER/fqPgR6+uAYuAAAAASUGaQC/AKILhYUHx3ELiFxCwJHq8CKd6O8CR6vARwudeej6gSS//wJPsIS2TMCL3ASBf//ioEcvvvo0oBaOJ+Vln+BHqL64Bi4AAAAAzQZpgL8AgHgjDzu7vAap4l0I4CPPLAjetQG13AR/NALR5hhF5/AkVCPxMCPVIkutcoBi4AAAAP0GagC/AMYd6O8BIn4Br13NAjr478oIOXgSC+v7NWoEgvr/AR/F/HwI/NAkc/yss/wI9Trl04Z3uoevx/8AxcAAAAEBBmqAvwH34Jw9u7u7vL6ugRxiO752ObAinj7O8CPhHAEfcVASBff9BJkBs80COt5flgR6jRRyfu/7XKBHvgFEgAAAAQ0GawC/AKGLYKLMYgiK+xC4hYEk+4EkWxl4EQ7H5/EcCMNZRLjY5bUI2gDX8RAj+gozL/rwCzvef4uBH54Eg6BPAKJAAAABDQZrgL8B+jECgQ0SqIXELARgtlGaPAkC3VsQx/6vn8/AknYw/AhncvQqEYA2BdRvxLCE/wI9TnweEXmFNDHX/uNgGLgAAAD5BmwAvwFqfz8CMMQJnYgJI7CMAbAteA13l5xmsYuWP/xcCPxIc8+ZfrGnl89TPhC877KR9H96wI4hAhgFEgAAAADdBmyAvwCjnhZwIp3eb//4IexV6vAFDcnxECOtl/phC9wJC9YEdb8BsL4R1/Aj1XzQI918dAKHAAAAAK0GbQC/AKILYWFf8R5v//hbd9/s3//w/fgNQ7wCQdS9QBZtwv1HwI+TAKJAAAAA2QZtgL8AofoEzwJvoqeAKFL/wk/5d7gRy/7vALQvhMl761wzrVSsSv+BHqjE5r3PAj1XRMAocAAAAMkGbgC/AfnoEzwJZv//hYI33sV8Wxh+ngH0t7tYBH/ORfM+Z8CPvALRUI9cCPc/RMAocAAAAQEGboC/AKIbb//YWd99ie/lKo3//yzjB7v8odeBG9XgH76gI/kgSNYBZ3g55hxVF9fC8CPUfpKrgR6+tlJr4BQ4AAAA7QZvAL8AoohBYVgSBPm//+bf6B0D+gGt6l6gRLquoCP5IEjzhJn7ueAEla5yL5nzPgFnqP64EevrgFDgAAAAwQZvgL8AonghCz3vAPxvZPrydYBZgmwsVj/97wCQL3gSLhfqPgR7c51+HWffrgFDgAAAAIEGaACvAMefgGwfXALKd4BaeJ7heBH84Jlgi/PP/AKJAAAAAE0GaICfAHD8kAUNUI9cCPX1wChwAAAfHbW9vdgAAAGxtdmhkAAAAAAAAAAAAAAAAAAAD6AAAJxAAAQAAAQAAAAAAAAAAAAAAAAEAAAAAAAAAAAAAAAAAAAABAAAAAAAAAAAAAAAAAABAAAAAAAAAAAAAAAAAAAAAAAAAAAAAAAAAAAAAAAAAAgAABvF0cmFrAAAAXHRraGQAAAADAAAAAAAAAAAAAAABAAAAAAAAJxAAAAAAAAAAAAAAAAAAAAAAAAEAAAAAAAAAAAAAAAAAAAABAAAAAAAAAAAAAAAAAABAAAAABIAAAAGwAAAAAAAkZWR0cwAAABxlbHN0AAAAAAAAAAEAACcQAAAAAAABAAAAAAZpbWRpYQAAACBtZGhkAAAAAAAAAAAAAAAAAAA8AAACWABVxAAAAAAALWhkbHIAAAAAAAAAAHZpZGUAAAAAAAAAAAAAAABWaWRlb0hhbmRsZXIAAAAGFG1pbmYAAAAUdm1oZAAAAAEAAAAAAAAAAAAAACRkaW5mAAAAHGRyZWYAAAAAAAAAAQAAAAx1cmwgAAAAAQAABdRzdGJsAAAAqHN0c2QAAAAAAAAAAQAAAJhhdmMxAAAAAAAAAAEAAAAAAAAAAAAAAAAAAAAABIABsABIAAAASAAAAAAAAAABAAAAAAAAAAAAAAAAAAAAAAAAAAAAAAAAAAAAAAAAAAAAGP//AAAALmF2Y0MBQsAe/+EAFmdCwB7ZAEgN6EAAAAMAQAAADwPFi5IBAAVoy4PLIAAAABRidHJ0AAAAAAAAd4cAAHeHAAAAGHN0dHMAAAAAAAAAAQAAASwAAAIAAAAAGHN0c3MAAAAAAAAAAgAAAAEAAAD7AAAAHHN0c2MAAAAAAAAAAQAAAAEAAAEsAAAAAQAABMRzdHN6AAAAAAAAAAAAAAEsAAAS/gAAAFgAAAAfAAAAFQAAABMAAAAZAAAAIAAAABQAAAAkAAAAHAAAAEEAAAArAAAAMwAAACEAAAAsAAAANQAAAC0AAAA2AAAAOwAAAEAAAAA/AAAAcwAAAEcAAABHAAAAdQAAAEQAAABBAAAAVAAAAF8AAABWAAAAbwAAAHAAAABPAAAARQAAAFsAAABiAAAAQQAAAF0AAABZAAAAQgAAAFsAAABLAAAAMgAAAFIAAABXAAAATAAAADcAAABRAAAARwAAAGcAAAAzAAAAVQAAAEwAAABDAAAASAAAAGgAAABHAAAAZQAAAGQAAAA/AAAAjwAAAG0AAAAzAAAAQgAAAEkAAABUAAAAWAAAAEIAAAA3AAAAYgAAAD8AAABjAAAATQAAAEYAAACIAAAARAAAAHoAAABKAAAAXAAAAGMAAABIAAAAYwAAALQAAAB0AAAAdwAAAIUAAACbAAAAbgAAAIgAAABtAAAAegAAAKEAAAB5AAAAmQAAAGkAAABjAAAAhgAAAI0AAACGAAAAgQAAAHgAAACeAAAAmAAAAJUAAACDAAAAkwAAAH8AAACOAAAAkQAAAH4AAABwAAAAggAAAI4AAACTAAAAjQAAAJAAAADCAAAAigAAAIYAAABxAAAAuwAAAH8AAAC9AAAAdQAAAHEAAACHAAAAaAAAAFUAAABhAAAAZgAAAHQAAABLAAAAVgAAAF8AAABIAAAAQQAAAEoAAABlAAAATwAAAFsAAABKAAAAZgAAAG0AAABCAAAARAAAAFcAAABKAAAAPAAAAD8AAABOAAAAQAAAAFIAAABYAAAAQgAAAEMAAABIAAAAUQAAAH4AAABmAAAAZQAAAEwAAACEAAAAbAAAAIoAAABWAAAAWQAAAFAAAAA1AAAAQwAAAFcAAABEAAAALAAAAHQAAAA+AAAAPQAAAD0AAABfAAAASQAAAF8AAABYAAAAZgAAAHkAAABdAAAAiQAAAFYAAAA2AAAATgAAAGsAAABXAAAAeAAAAEYAAABSAAAAUwAAAE8AAABdAAAAWQAAAHAAAABmAAAAUAAAAFQAAABYAAAAewAAAGEAAAChAAAAUQAAAGkAAACMAAAAaQAAAHQAAABzAAAAZQAAAJEAAACBAAAAjAAAAHAAAABwAAAAjQAAAIAAAAB7AAAAlgAAAJgAAAB3AAAAnwAAAK8AAACGAAAAmAAAAHgAAAChAAAAegAAAGQAAAB+AAAAbgAAAJAAAACQAAAAfQAAAIoAAACGAAAAiwAAAIwAAABtAAAAjQAAAKIAAABkAAAAewAAAHUAAAB3AAAATwAAAF0AAABjAAAAPQAAE9sAAABfAAAAQAAAADwAAAAtAAAAQQAAAE8AAABBAAAAUwAAAEwAAABwAAAAVgAAAFUAAAA1AAAAPAAAAEwAAABIAAAATQAAAFEAAABWAAAATwAAAFcAAABBAAAAXAAAAGUAAAB1AAAAZwAAAHUAAABhAAAAcQAAAGgAAAB7AAAAPgAAAEUAAABNAAAANwAAAEMAAABEAAAARwAAAEcAAABCAAAAOwAAAC8AAAA6AAAANgAAAEQAAAA/AAAANAAAACQAAAAXAAAAFHN0Y28AAAAAAAAAAQAAADAAAABidWR0YQAAAFptZXRhAAAAAAAAACFoZGxyAAAAAAAAAABtZGlyYXBwbAAAAAAAAAAAAAAAAC1pbHN0AAAAJal0b28AAAAdZGF0YQAAAAEAAAAATGF2ZjU4Ljc2LjEwMA==\" type=\"video/mp4\">\n",
       " Your browser does not support the video tag.\n",
       "</video>"
      ],
      "text/plain": [
       "<IPython.core.display.HTML object>"
      ]
     },
     "execution_count": 18,
     "metadata": {},
     "output_type": "execute_result"
    }
   ],
   "source": [
    "Initialize_distributions()\n",
    "\n",
    "frames = 300\n",
    "steps_per_frame = (timesteps//frames) + 1\n",
    "\n",
    "if 'is_test_run' not in globals():\n",
    "    def run():\n",
    "        for i in range(steps_per_frame):\n",
    "            timeloop()\n",
    "            \n",
    "        if gpu:\n",
    "            dh.to_cpu(\"C\")\n",
    "        return dh.gather_array(C.name)\n",
    "\n",
    "    animation = plt.scalar_field_animation(run, frames=frames, rescale=True)\n",
    "    set_display_mode('video')\n",
    "    res = display_animation(animation)\n",
    "else:\n",
    "    timeloop()\n",
    "    res = None\n",
    "res"
   ]
  },
  {
   "cell_type": "markdown",
   "metadata": {},
   "source": [
    "Note that the video is played for 10 seconds while the simulation time is only 2 seconds!"
   ]
  }
 ],
 "metadata": {
  "kernelspec": {
   "display_name": "Python 3",
   "language": "python",
   "name": "python3"
  },
  "language_info": {
   "codemirror_mode": {
    "name": "ipython",
    "version": 3
   },
   "file_extension": ".py",
   "mimetype": "text/x-python",
   "name": "python",
   "nbconvert_exporter": "python",
   "pygments_lexer": "ipython3",
   "version": "3.8.2"
  }
 },
 "nbformat": 4,
 "nbformat_minor": 2
}
