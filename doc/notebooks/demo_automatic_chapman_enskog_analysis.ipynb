{
 "cells": [
  {
   "cell_type": "code",
   "execution_count": 1,
   "metadata": {},
   "outputs": [],
   "source": [
    "import sympy as sp\n",
    "from lbmpy.chapman_enskog import ChapmanEnskogAnalysis\n",
    "from lbmpy.creationfunctions import create_lb_method\n",
    "sp.init_printing()"
   ]
  },
  {
   "cell_type": "markdown",
   "metadata": {},
   "source": [
    "# Demo: Automatic Chapman Enskog Analysis \n",
    "\n",
    "\n",
    "First, we create a SRT lattice Boltzmann method. It is defined as the set of moments, together with one relaxation rate per moment."
   ]
  },
  {
   "cell_type": "code",
   "execution_count": 2,
   "metadata": {},
   "outputs": [
    {
     "data": {
      "text/html": [
       "\n",
       "        <table style=\"border:none; width: 100%\">\n",
       "            <tr style=\"border:none\">\n",
       "                <th style=\"border:none\" >Moment</th>\n",
       "                <th style=\"border:none\" >Eq. Value </th>\n",
       "                <th style=\"border:none\" >Relaxation Rate</th>\n",
       "            </tr>\n",
       "            <tr style=\"border:none\">\n",
       "                            <td style=\"border:none\">$1$</td>\n",
       "                            <td style=\"border:none\">$\\rho$</td>\n",
       "                            <td style=\"border:none\">$\\omega_{0}$</td>\n",
       "                         </tr>\n",
       "<tr style=\"border:none\">\n",
       "                            <td style=\"border:none\">$x$</td>\n",
       "                            <td style=\"border:none\">$u_{0}$</td>\n",
       "                            <td style=\"border:none\">$\\omega_{1}$</td>\n",
       "                         </tr>\n",
       "<tr style=\"border:none\">\n",
       "                            <td style=\"border:none\">$y$</td>\n",
       "                            <td style=\"border:none\">$u_{1}$</td>\n",
       "                            <td style=\"border:none\">$\\omega_{1}$</td>\n",
       "                         </tr>\n",
       "<tr style=\"border:none\">\n",
       "                            <td style=\"border:none\">$z$</td>\n",
       "                            <td style=\"border:none\">$u_{2}$</td>\n",
       "                            <td style=\"border:none\">$\\omega_{1}$</td>\n",
       "                         </tr>\n",
       "<tr style=\"border:none\">\n",
       "                            <td style=\"border:none\">$x^{2}$</td>\n",
       "                            <td style=\"border:none\">$\\frac{\\rho}{3} + u_{0}^{2}$</td>\n",
       "                            <td style=\"border:none\">$\\omega_{0}$</td>\n",
       "                         </tr>\n",
       "<tr style=\"border:none\">\n",
       "                            <td style=\"border:none\">$y^{2}$</td>\n",
       "                            <td style=\"border:none\">$\\frac{\\rho}{3} + u_{1}^{2}$</td>\n",
       "                            <td style=\"border:none\">$\\omega_{0}$</td>\n",
       "                         </tr>\n",
       "<tr style=\"border:none\">\n",
       "                            <td style=\"border:none\">$z^{2}$</td>\n",
       "                            <td style=\"border:none\">$\\frac{\\rho}{3} + u_{2}^{2}$</td>\n",
       "                            <td style=\"border:none\">$\\omega_{0}$</td>\n",
       "                         </tr>\n",
       "<tr style=\"border:none\">\n",
       "                            <td style=\"border:none\">$x y$</td>\n",
       "                            <td style=\"border:none\">$u_{0} u_{1}$</td>\n",
       "                            <td style=\"border:none\">$\\omega_{0}$</td>\n",
       "                         </tr>\n",
       "<tr style=\"border:none\">\n",
       "                            <td style=\"border:none\">$x z$</td>\n",
       "                            <td style=\"border:none\">$u_{0} u_{2}$</td>\n",
       "                            <td style=\"border:none\">$\\omega_{0}$</td>\n",
       "                         </tr>\n",
       "<tr style=\"border:none\">\n",
       "                            <td style=\"border:none\">$y z$</td>\n",
       "                            <td style=\"border:none\">$u_{1} u_{2}$</td>\n",
       "                            <td style=\"border:none\">$\\omega_{0}$</td>\n",
       "                         </tr>\n",
       "<tr style=\"border:none\">\n",
       "                            <td style=\"border:none\">$x^{2} y$</td>\n",
       "                            <td style=\"border:none\">$\\frac{u_{1}}{3}$</td>\n",
       "                            <td style=\"border:none\">$\\omega_{1}$</td>\n",
       "                         </tr>\n",
       "<tr style=\"border:none\">\n",
       "                            <td style=\"border:none\">$x^{2} z$</td>\n",
       "                            <td style=\"border:none\">$\\frac{u_{2}}{3}$</td>\n",
       "                            <td style=\"border:none\">$\\omega_{1}$</td>\n",
       "                         </tr>\n",
       "<tr style=\"border:none\">\n",
       "                            <td style=\"border:none\">$x y^{2}$</td>\n",
       "                            <td style=\"border:none\">$\\frac{u_{0}}{3}$</td>\n",
       "                            <td style=\"border:none\">$\\omega_{1}$</td>\n",
       "                         </tr>\n",
       "<tr style=\"border:none\">\n",
       "                            <td style=\"border:none\">$x z^{2}$</td>\n",
       "                            <td style=\"border:none\">$\\frac{u_{0}}{3}$</td>\n",
       "                            <td style=\"border:none\">$\\omega_{1}$</td>\n",
       "                         </tr>\n",
       "<tr style=\"border:none\">\n",
       "                            <td style=\"border:none\">$y^{2} z$</td>\n",
       "                            <td style=\"border:none\">$\\frac{u_{2}}{3}$</td>\n",
       "                            <td style=\"border:none\">$\\omega_{1}$</td>\n",
       "                         </tr>\n",
       "<tr style=\"border:none\">\n",
       "                            <td style=\"border:none\">$y z^{2}$</td>\n",
       "                            <td style=\"border:none\">$\\frac{u_{1}}{3}$</td>\n",
       "                            <td style=\"border:none\">$\\omega_{1}$</td>\n",
       "                         </tr>\n",
       "<tr style=\"border:none\">\n",
       "                            <td style=\"border:none\">$x^{2} y^{2}$</td>\n",
       "                            <td style=\"border:none\">$\\frac{\\rho}{9} + \\frac{u_{0}^{2}}{3} + \\frac{u_{1}^{2}}{3}$</td>\n",
       "                            <td style=\"border:none\">$\\omega_{0}$</td>\n",
       "                         </tr>\n",
       "<tr style=\"border:none\">\n",
       "                            <td style=\"border:none\">$x^{2} z^{2}$</td>\n",
       "                            <td style=\"border:none\">$\\frac{\\rho}{9} + \\frac{u_{0}^{2}}{3} + \\frac{u_{2}^{2}}{3}$</td>\n",
       "                            <td style=\"border:none\">$\\omega_{0}$</td>\n",
       "                         </tr>\n",
       "<tr style=\"border:none\">\n",
       "                            <td style=\"border:none\">$y^{2} z^{2}$</td>\n",
       "                            <td style=\"border:none\">$\\frac{\\rho}{9} + \\frac{u_{1}^{2}}{3} + \\frac{u_{2}^{2}}{3}$</td>\n",
       "                            <td style=\"border:none\">$\\omega_{0}$</td>\n",
       "                         </tr>\n",
       "\n",
       "        </table>\n",
       "        "
      ],
      "text/plain": [
       "<lbmpy.methods.momentbased.MomentBasedLbMethod at 0x7f9bbc455a90>"
      ]
     },
     "execution_count": 2,
     "metadata": {},
     "output_type": "execute_result"
    }
   ],
   "source": [
    "method = create_lb_method(method='trt', stencil='D3Q19', compressible=False)\n",
    "method"
   ]
  },
  {
   "cell_type": "markdown",
   "metadata": {},
   "source": [
    "Next, the Chapman Enskog analysis object is created. This may take a while..."
   ]
  },
  {
   "cell_type": "code",
   "execution_count": 3,
   "metadata": {},
   "outputs": [],
   "source": [
    "analysis = ChapmanEnskogAnalysis(method)"
   ]
  },
  {
   "cell_type": "markdown",
   "metadata": {},
   "source": [
    "This object now information about the method, e.g. the relation of relaxation rate to viscosities, if the method approximates the compressible or incompressible continuity equation ..."
   ]
  },
  {
   "cell_type": "code",
   "execution_count": 4,
   "metadata": {},
   "outputs": [
    {
     "data": {
      "text/plain": [
       "False"
      ]
     },
     "execution_count": 4,
     "metadata": {},
     "output_type": "execute_result"
    }
   ],
   "source": [
    "analysis.compressible"
   ]
  },
  {
   "cell_type": "code",
   "execution_count": 5,
   "metadata": {},
   "outputs": [
    {
     "data": {
      "image/png": "[encoded data removed]",
      "text/latex": [
       "$$\\left [ \\frac{\\rho}{3}\\right ]$$"
      ],
      "text/plain": [
       "⎡ρ⎤\n",
       "⎢─⎥\n",
       "⎣3⎦"
      ]
     },
     "execution_count": 5,
     "metadata": {},
     "output_type": "execute_result"
    }
   ],
   "source": [
    "analysis.pressure_equation"
   ]
  },
  {
   "cell_type": "code",
   "execution_count": 6,
   "metadata": {},
   "outputs": [
    {
     "data": {
      "image/png": "[encoded data removed]",
      "text/latex": [
       "$$- \\frac{\\omega_{0} - 2}{6 \\omega_{0}}$$"
      ],
      "text/plain": [
       "-(ω₀ - 2) \n",
       "──────────\n",
       "   6⋅ω₀   "
      ]
     },
     "execution_count": 6,
     "metadata": {},
     "output_type": "execute_result"
    }
   ],
   "source": [
    "analysis.get_kinematic_viscosity()"
   ]
  },
  {
   "cell_type": "code",
   "execution_count": 7,
   "metadata": {},
   "outputs": [
    {
     "data": {
      "image/png": "[encoded data removed]",
      "text/latex": [
       "$$- \\frac{1}{9} + \\frac{2}{9 \\omega_{0}}$$"
      ],
      "text/plain": [
       "  1    2  \n",
       "- ─ + ────\n",
       "  9   9⋅ω₀"
      ]
     },
     "execution_count": 7,
     "metadata": {},
     "output_type": "execute_result"
    }
   ],
   "source": [
    "analysis.get_bulk_viscosity()"
   ]
  },
  {
   "cell_type": "markdown",
   "metadata": {},
   "source": [
    "But also details of the analysis are available:"
   ]
  },
  {
   "cell_type": "code",
   "execution_count": 8,
   "metadata": {},
   "outputs": [
    {
     "data": {
      "text/latex": [
       "$$\\left[\\begin{matrix}{\\partial_{t} \\rho} + {\\partial_{0} u_{0}} + {\\partial_{1} u_{1}} + {\\partial_{2} u_{2}}\\\\- \\frac{\\epsilon \\omega_{0}}{2} {\\partial_{2} {\\Pi_{02}^{(1)}}} - \\frac{\\epsilon \\omega_{0}}{2} {\\partial_{1} {\\Pi_{01}^{(1)}}} - \\frac{\\epsilon \\omega_{0}}{2} {\\partial_{0} {\\Pi_{00}^{(1)}}} + \\epsilon {\\partial_{2} {\\Pi_{02}^{(1)}}} + \\epsilon {\\partial_{1} {\\Pi_{01}^{(1)}}} + \\epsilon {\\partial_{0} {\\Pi_{00}^{(1)}}} + \\frac{{\\partial_{0} \\rho}}{3} + {\\partial_{t} u_{0}} + {\\partial_{0} (u_{0}^{2}) } + {\\partial_{1} (u_{0} u_{1}) } + {\\partial_{2} (u_{0} u_{2}) }\\\\- \\frac{\\epsilon \\omega_{0}}{2} {\\partial_{2} {\\Pi_{12}^{(1)}}} - \\frac{\\epsilon \\omega_{0}}{2} {\\partial_{1} {\\Pi_{11}^{(1)}}} - \\frac{\\epsilon \\omega_{0}}{2} {\\partial_{0} {\\Pi_{01}^{(1)}}} + \\epsilon {\\partial_{2} {\\Pi_{12}^{(1)}}} + \\epsilon {\\partial_{1} {\\Pi_{11}^{(1)}}} + \\epsilon {\\partial_{0} {\\Pi_{01}^{(1)}}} + \\frac{{\\partial_{1} \\rho}}{3} + {\\partial_{t} u_{1}} + {\\partial_{1} (u_{1}^{2}) } + {\\partial_{0} (u_{0} u_{1}) } + {\\partial_{2} (u_{1} u_{2}) }\\\\- \\frac{\\epsilon \\omega_{0}}{2} {\\partial_{2} {\\Pi_{22}^{(1)}}} - \\frac{\\epsilon \\omega_{0}}{2} {\\partial_{1} {\\Pi_{12}^{(1)}}} - \\frac{\\epsilon \\omega_{0}}{2} {\\partial_{0} {\\Pi_{02}^{(1)}}} + \\epsilon {\\partial_{2} {\\Pi_{22}^{(1)}}} + \\epsilon {\\partial_{1} {\\Pi_{12}^{(1)}}} + \\epsilon {\\partial_{0} {\\Pi_{02}^{(1)}}} + \\frac{{\\partial_{2} \\rho}}{3} + {\\partial_{t} u_{2}} + {\\partial_{2} (u_{2}^{2}) } + {\\partial_{0} (u_{0} u_{2}) } + {\\partial_{1} (u_{1} u_{2}) }\\end{matrix}\\right]$$"
      ],
      "text/plain": [
       "⎡                                                                             \n",
       "⎢                                                                             \n",
       "⎢  ε⋅ω₀⋅D(\\Pi_(1)_(1, 0, 1))   ε⋅ω₀⋅D(\\Pi_(1)_(1, 1, 0))   ε⋅ω₀⋅D(\\Pi_(1)_(2, \n",
       "⎢- ───────────────────────── - ───────────────────────── - ───────────────────\n",
       "⎢              2                           2                           2      \n",
       "⎢                                                                             \n",
       "⎢  ε⋅ω₀⋅D(\\Pi_(1)_(0, 1, 1))   ε⋅ω₀⋅D(\\Pi_(1)_(0, 2, 0))   ε⋅ω₀⋅D(\\Pi_(1)_(1, \n",
       "⎢- ───────────────────────── - ───────────────────────── - ───────────────────\n",
       "⎢              2                           2                           2      \n",
       "⎢                                                                             \n",
       "⎢  ε⋅ω₀⋅D(\\Pi_(1)_(0, 0, 2))   ε⋅ω₀⋅D(\\Pi_(1)_(0, 1, 1))   ε⋅ω₀⋅D(\\Pi_(1)_(1, \n",
       "⎢- ───────────────────────── - ───────────────────────── - ───────────────────\n",
       "⎣              2                           2                           2      \n",
       "\n",
       "             D(rho) + D(u_0) + D(u_1) + D(u_2)                                \n",
       "                                                                              \n",
       "0, 0))                                                                        \n",
       "────── + ε⋅D(\\Pi_(1)_(1, 0, 1)) + ε⋅D(\\Pi_(1)_(1, 1, 0)) + ε⋅D(\\Pi_(1)_(2, 0, \n",
       "                                                                              \n",
       "                                                                              \n",
       "1, 0))                                                                        \n",
       "────── + ε⋅D(\\Pi_(1)_(0, 1, 1)) + ε⋅D(\\Pi_(1)_(0, 2, 0)) + ε⋅D(\\Pi_(1)_(1, 1, \n",
       "                                                                              \n",
       "                                                                              \n",
       "0, 1))                                                                        \n",
       "────── + ε⋅D(\\Pi_(1)_(0, 0, 2)) + ε⋅D(\\Pi_(1)_(0, 1, 1)) + ε⋅D(\\Pi_(1)_(1, 0, \n",
       "                                                                              \n",
       "\n",
       "                                                           ⎤\n",
       "                                                           ⎥\n",
       "      D(rho)                                               ⎥\n",
       "0)) + ────── + D(u_0) + D(u_0**2) + D(u_0*u_1) + D(u_0*u_2)⎥\n",
       "        3                                                  ⎥\n",
       "                                                           ⎥\n",
       "      D(rho)                                               ⎥\n",
       "0)) + ────── + D(u_1) + D(u_1**2) + D(u_0*u_1) + D(u_1*u_2)⎥\n",
       "        3                                                  ⎥\n",
       "                                                           ⎥\n",
       "      D(rho)                                               ⎥\n",
       "1)) + ────── + D(u_2) + D(u_2**2) + D(u_0*u_2) + D(u_1*u_2)⎥\n",
       "        3                                                  ⎦"
      ]
     },
     "execution_count": 8,
     "metadata": {},
     "output_type": "execute_result"
    }
   ],
   "source": [
    "sp.Matrix(analysis.get_macroscopic_equations())"
   ]
  }
 ],
 "metadata": {
  "kernelspec": {
   "display_name": "Python 3",
   "language": "python",
   "name": "python3"
  },
  "language_info": {
   "codemirror_mode": {
    "name": "ipython",
    "version": 3
   },
   "file_extension": ".py",
   "mimetype": "text/x-python",
   "name": "python",
   "nbconvert_exporter": "python",
   "pygments_lexer": "ipython3",
   "version": "3.8.2"
  }
 },
 "nbformat": 4,
 "nbformat_minor": 2
}
